{
 "cells": [
  {
   "cell_type": "code",
   "execution_count": null,
   "metadata": {},
   "outputs": [],
   "source": [
    "import numpy as np\n",
    "import sympy as sm\n",
    "import scipy as sp\n",
    "\n",
    "#For Plotting and prettyness\n",
    "import matplotlib.pyplot as plt\n",
    "from matplotlib import colors as color\n",
    "import matplotlib\n",
    "from mpl_toolkits.axes_grid1 import make_axes_locatable\n"
   ]
  },
  {
   "cell_type": "code",
   "execution_count": null,
   "metadata": {},
   "outputs": [],
   "source": [
    "x1, x2 = sm.symbols('x1 x2')\n",
    "\n",
    "class func(sm.Function):\n",
    "    @classmethod\n",
    "    def eval(cls, x1, x2):\n",
    "        \n",
    "        res = (1/10) * (12 + x1**2 + (1 + x2**2)/x1**2 + (x1**2 * x2**2 + 100) / (x1**4 * x2**4) )\n",
    "        return res\n",
    "    \n",
    "#Computing function, gradient and hessian in sympy\n",
    "f = func(x1, x2)\n",
    "g = [sm.diff(f, k) for k in [x1, x2]]\n",
    "H = sm.hessian(f, (x1, x2))\n"
   ]
  },
  {
   "cell_type": "code",
   "execution_count": null,
   "metadata": {},
   "outputs": [],
   "source": [
    "def newtonseq(x0, k, stepsize) : \n",
    "\n",
    "    def fentonfgH(x_eval) :        \n",
    "        f_eval = f.subs([(x1, x_eval[0]), (x2, x_eval[1])]) \n",
    "        g_eval = [g[i].subs([(x1, x_eval[0]), (x2, x_eval[1])]) for i in range(len(g))] \n",
    "        H_eval = H.subs([(x1, x_eval[0]), (x2, x_eval[1])])\n",
    "\n",
    "        return np.array(f_eval).astype(np.float64), np.array(g_eval).astype(np.float64), np.array(H_eval).astype(np.float64)\n",
    "\n",
    "    newtonseq = np.zeros((k, 2))\n",
    "    newtonseq[0, :] = x0\n",
    "\n",
    "    for i in range(0, k - 1):\n",
    "        _, g_step, H_step = fentonfgH(newtonseq[i, :])\n",
    "        \n",
    "        #Computing QR of H_step for inverse \n",
    "        H_Q, H_R = np.linalg.qr(H_step)\n",
    "\n",
    "        #Solving QRx = b => Rx = Q^T b\n",
    "        b = H_Q.T @ g_step\n",
    "        x = sp.linalg.solve_triangular(H_R, b)\n",
    "\n",
    "        newtonseq[i+1, :] = newtonseq[i, :] - stepsize * x.T\n",
    "    \n",
    "    return newtonseq\n",
    "\n"
   ]
  },
  {
   "cell_type": "code",
   "execution_count": null,
   "metadata": {},
   "outputs": [],
   "source": [
    "stepsize = 1\n",
    "xk = newtonseq([3, 4], 20, stepsize)\n",
    "fig, axs = plt.subplots(3, 1, figsize = (8, 10))\n",
    "\n",
    "#I wanted a color gradient that goes between two dark colors.\n",
    "#winter was the only one I could find.\n",
    "cm = matplotlib.colormaps['winter']\n",
    "norm = color.Normalize(vmin=0, vmax=len(xk[:, 1]))\n",
    "\n",
    "titles = ['X', 'Y']\n",
    "for i in [0, 1, 2]:\n",
    "    if i != 2:        \n",
    "        axs[i].plot(xk[:, i], c = \"#A23BEC\")\n",
    "        axs[i].set_xlabel(\"Step\")\n",
    "        axs[i].set_ylabel(f'{titles[i]} - Position')\n",
    "        axs[i].set_title(f'{titles[i]} - Position of sequence, stepsize = {stepsize}')\n",
    "    else :\n",
    "        \n",
    "        for j in range(len(xk[:, 0])):\n",
    "            axs[i].scatter(xk[j, 0], xk[j, 1], c=[cm(norm(j))], zorder = 2)\n",
    "        axs[i].plot(xk[:, 0], xk[:, 1], c=\"#A23BEC\", linewidth=1.5, zorder = 1)\n",
    "        axs[i].set_title(f'Convergence of Sequence, stepsize = {stepsize}')\n",
    "        axs[i].set_xlabel(\"X - Position\")\n",
    "        axs[i].set_ylabel(\"Y - Position\")\n",
    "        axs[i].annotate('Initial', xy = (xk[0, 0], xk[0, 1]))\n",
    "        axs[i].annotate('Final', xy = (xk[-1, 0], xk[-1, 1]))\n",
    "\n",
    "    axs[i].set_facecolor(\"#e1e2e3\")\n",
    "    axs[i].grid(True)\n",
    "\n",
    "\n",
    "divider = make_axes_locatable(axs[-1])\n",
    "cax = divider.append_axes('right', size='5%', pad=0.05)\n",
    "fig.tight_layout(pad = 0.3)\n",
    "fig.colorbar(plt.cm.ScalarMappable(norm = norm, cmap = cm), ax = axs[-1], label = 'Step', cax=cax)\n",
    "\n"
   ]
  }
 ],
 "metadata": {
  "kernelspec": {
   "display_name": "Python 3 (ipykernel)",
   "language": "python",
   "name": "python3"
  },
  "language_info": {
   "codemirror_mode": {
    "name": "ipython",
    "version": 3
   },
   "file_extension": ".py",
   "mimetype": "text/x-python",
   "name": "python",
   "nbconvert_exporter": "python",
   "pygments_lexer": "ipython3",
   "version": "3.10.11"
  }
 },
 "nbformat": 4,
 "nbformat_minor": 4
}
