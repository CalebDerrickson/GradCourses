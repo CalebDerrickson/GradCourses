{
 "cells": [
  {
   "cell_type": "code",
   "execution_count": null,
   "metadata": {},
   "outputs": [],
   "source": [
    "import numpy as np\n",
    "import matplotlib.pyplot as plt\n",
    "import scipy\n",
    "import math"
   ]
  },
  {
   "cell_type": "code",
   "execution_count": null,
   "metadata": {},
   "outputs": [],
   "source": [
    "def RBFkernel(x1: float, x2: float, sigma_sq: float = 1):\n",
    "    \"\"\"\n",
    "    RBF kernel. \n",
    "    \"\"\"\n",
    "    pow = -1/(2*sigma_sq) * (x1 - x2)**2\n",
    "    return math.exp(pow)\n",
    "\n",
    "\n",
    "def cov_mat(x1: np.ndarray, x2: np.ndarray, ker: callable, sigma_sq: float = 1) -> np.ndarray:\n",
    "    \"\"\"\n",
    "    Returns the Covraiance matrix for the given kernel.\n",
    "    \"\"\"\n",
    "    n = max(x1.shape)\n",
    "    cov = np.zeros((n, n))\n",
    "    for i in range(n):\n",
    "        for j in range(n):\n",
    "            cov[i][j] = ker(x1[i], x2[j], sigma_sq)\n",
    "\n",
    "    return cov\n",
    "\n",
    "def GPRegression(x1: np.ndarray, y1: np.ndarray, n_points: int,\n",
    "                 interval : tuple, sigma_sq: float) -> tuple:\n",
    "    \"\"\"\n",
    "    GP Regression with specified parameters. Returns mean and \n",
    "    standard deviation (for each point).\n",
    "    \"\"\"\n",
    "    n = x1.__len__()\n",
    "    \n",
    "    x2 = np.linspace(interval[0], interval[1], n_points)#.reshape(-1, 1)\n",
    "    cov = cov_mat(x1, x1, RBFkernel, sigma_sq=0.12)\n",
    "    \n",
    "    mean = np.zeros(n_points)\n",
    "    stdev = np.zeros(n_points)\n",
    "    i = 0\n",
    "    while i < n_points:\n",
    "    \n",
    "        # First generate the mean, then stdev\n",
    "        # Form k_x\n",
    "        k_x = np.zeros(n)\n",
    "        for j in range(n):\n",
    "            k_x[j] = RBFkernel(x2[i], x1[j], 0.12)\n",
    "        # Set kappa_x\n",
    "        kappa_x = RBFkernel(x2[i], x2[i])\n",
    "        # Make K + si_sq*I\n",
    "        K_mod = cov + sigma_sq*np.eye(n)\n",
    "        mean_right = scipy.linalg.solve(K_mod, y1, assume_a='pos')\n",
    "        mean[i] = np.dot(k_x, mean_right)\n",
    "\n",
    "        # Now do stdev\n",
    "        stdev_right = scipy.linalg.solve(K_mod, k_x, assume_a='pos')\n",
    "        if kappa_x - np.dot(k_x, stdev_right) < 0:\n",
    "            print(\"Error, standard deviation too small. Increasing...\")\n",
    "            i = 0\n",
    "            sigma_sq = sigma_sq*2\n",
    "            continue\n",
    "\n",
    "        stdev[i] = kappa_x - np.dot(k_x, stdev_right)\n",
    "        stdev[i] = np.sqrt(stdev[i])\n",
    "        i+=1\n",
    "    print(\"Ending sigma: \", sigma_sq)\n",
    "    return (mean, stdev)\n"
   ]
  },
  {
   "cell_type": "code",
   "execution_count": null,
   "metadata": {},
   "outputs": [],
   "source": [
    "# Fetching data\n",
    "data = np.genfromtxt(\"gp.dat\")\n",
    "x1 = data[:, 0]\n",
    "y1 = data[:, 1]\n",
    "\n",
    "#Desired output\n",
    "n_points = 200\n",
    "x2 = np.linspace(0, 1, n_points)\n",
    "\n",
    "interval = (0, 1)\n",
    "sigma_sq = 1\n",
    "# Get Mean, stdev\n",
    "mean, stdev = GPRegression(x1, y1, n_points, interval, sigma_sq)"
   ]
  },
  {
   "cell_type": "code",
   "execution_count": null,
   "metadata": {},
   "outputs": [],
   "source": [
    "plt.scatter(x1, y1, s=10)\n",
    "plt.plot(x2, mean, color='tab:red', label= \"mean\")\n",
    "plt.plot(x2, mean+2*stdev, color='k', linestyle='--', label = \"2$\\sigma$\")\n",
    "plt.plot(x2, mean-2*stdev, color='k', linestyle='--')\n",
    "plt.fill_between(x2, mean+2*stdev, mean, alpha=0.15, color='tab:pink')\n",
    "plt.fill_between(x2, mean-2*stdev, mean, alpha=0.15, color='tab:pink')\n",
    "plt.gca().set_facecolor((0.9, 0.9, 0.9))\n",
    "plt.grid(True)\n",
    "plt.title(\"Gaussian Process on gp.dat\")\n",
    "plt.xlabel(\"x\")\n",
    "plt.ylabel(\"y\")\n",
    "plt.legend()\n",
    "plt.show()"
   ]
  },
  {
   "cell_type": "code",
   "execution_count": null,
   "metadata": {},
   "outputs": [],
   "source": [
    "n_draws = 20\n",
    "K_mod = cov_mat(x2, x2, ker=RBFkernel, sigma_sq=0.12) + sigma_sq*np.eye(x2.__len__())\n",
    "ys = np.random.multivariate_normal(mean=mean, cov=K_mod, size=n_draws)#.reshape(-1, 1)\n",
    "\n",
    "for i in range(n_draws):\n",
    "    plt.plot(x2, ys[i])\n",
    "plt.gca().set_facecolor((0.9, 0.9, 0.9))\n",
    "plt.grid(True)\n",
    "plt.title(r\"20 Draws from $\\mathcal{G}\\ (\\mu', k')$\")\n",
    "plt.show()"
   ]
  }
 ],
 "metadata": {
  "kernelspec": {
   "display_name": "Python 3 (ipykernel)",
   "language": "python",
   "name": "python3"
  },
  "language_info": {
   "codemirror_mode": {
    "name": "ipython",
    "version": 3
   },
   "file_extension": ".py",
   "mimetype": "text/x-python",
   "name": "python",
   "nbconvert_exporter": "python",
   "pygments_lexer": "ipython3",
   "version": "3.10.11"
  }
 },
 "nbformat": 4,
 "nbformat_minor": 4
}
