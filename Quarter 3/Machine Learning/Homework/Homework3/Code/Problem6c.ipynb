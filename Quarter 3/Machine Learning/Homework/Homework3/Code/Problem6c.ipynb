{
 "cells": [
  {
   "cell_type": "code",
   "execution_count": null,
   "metadata": {},
   "outputs": [],
   "source": [
    "import numpy as np\n",
    "import matplotlib.pyplot as plt\n",
    "import scipy\n",
    "import math"
   ]
  },
  {
   "cell_type": "code",
   "execution_count": null,
   "metadata": {},
   "outputs": [],
   "source": [
    "def RBFkernel(x1: float, x2: float, sigma_sq: float = 1):\n",
    "    \"\"\"\n",
    "    RBF kernel. \n",
    "    \"\"\"\n",
    "    pow = -1/(2*sigma_sq) * (x1 - x2)**2\n",
    "    return math.exp(pow)\n",
    "\n",
    "\n",
    "def cov_mat(x1: np.ndarray, x2: np.ndarray, ker: callable, sigma_sq: float = 1) -> np.ndarray:\n",
    "    \"\"\"\n",
    "    Returns the Covraiance matrix for the given kernel.\n",
    "    \"\"\"\n",
    "    n = max(x1.shape)\n",
    "    cov = np.zeros((n, n))\n",
    "    for i in range(n):\n",
    "        for j in range(n):\n",
    "            cov[i][j] = ker(x1[i], x2[j], sigma_sq)\n",
    "\n",
    "    return cov"
   ]
  },
  {
   "cell_type": "code",
   "execution_count": null,
   "metadata": {},
   "outputs": [],
   "source": [
    "plt.figure(figsize=[9, 12])\n",
    "plt.rcParams.update({\n",
    "    'font.size': 8,\n",
    "    'text.usetex': True,\n",
    "    'text.latex.preamble': r'\\usepackage{amsfonts}'\n",
    "})\n"
   ]
  },
  {
   "cell_type": "code",
   "execution_count": null,
   "metadata": {},
   "outputs": [],
   "source": [
    "n_points = 100\n",
    "n_draws = 20\n",
    "interval = (0, 1)\n",
    "xs = np.linspace(interval[0], interval[1], n_points)#.reshape(-1, 1)\n",
    "Si = cov_mat(xs, xs, ker = RBFkernel, sigma_sq=0.12)\n",
    "mean = np.zeros(n_points)\n",
    "ys = np.random.multivariate_normal(mean=mean, cov=Si, size=n_draws)#.reshape(-1, 1)\n",
    "\n",
    "for i in range(n_draws):\n",
    "    plt.plot(xs, ys[i])\n",
    "\n",
    "plt.grid()\n",
    "plt.gca().set_facecolor((0.9, 0.9, 0.9))\n",
    "plt.title(r\"20 Sampled Functions From $\\mathcal{G}(\\mu, k)$\")"
   ]
  }
 ],
 "metadata": {
  "kernelspec": {
   "display_name": "Python 3 (ipykernel)",
   "language": "python",
   "name": "python3"
  },
  "language_info": {
   "codemirror_mode": {
    "name": "ipython",
    "version": 3
   },
   "file_extension": ".py",
   "mimetype": "text/x-python",
   "name": "python",
   "nbconvert_exporter": "python",
   "pygments_lexer": "ipython3",
   "version": "3.10.11"
  }
 },
 "nbformat": 4,
 "nbformat_minor": 4
}
