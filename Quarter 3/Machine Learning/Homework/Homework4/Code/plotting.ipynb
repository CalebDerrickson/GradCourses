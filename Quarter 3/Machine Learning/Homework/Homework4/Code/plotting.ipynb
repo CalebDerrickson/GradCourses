{
 "cells": [
  {
   "cell_type": "code",
   "execution_count": 1,
   "metadata": {},
   "outputs": [],
   "source": [
    "import matplotlib.pyplot as plt\n",
    "import numpy as np\n",
    "import pandas as pd"
   ]
  },
  {
   "cell_type": "code",
   "execution_count": 9,
   "metadata": {},
   "outputs": [],
   "source": [
    "data = pd.read_csv(\"results.txt\", header=None)\n",
    "data = data.dropna(axis=1, thresh=6)"
   ]
  },
  {
   "cell_type": "code",
   "execution_count": 39,
   "metadata": {},
   "outputs": [
    {
     "name": "stdout",
     "output_type": "stream",
     "text": [
      "Mean : -5291.833586999999\n",
      "Stdev :  6.664919230474471\n"
     ]
    }
   ],
   "source": [
    "log = (data.iloc[[5+n*7 for n in range(10)]].to_numpy())\n",
    "log = np.array((log.T)[0], dtype = float)\n",
    "print(\"Mean :\", np.mean(log))\n",
    "print(\"Stdev : \", np.std(log))"
   ]
  }
 ],
 "metadata": {
  "kernelspec": {
   "display_name": "Python 3",
   "language": "python",
   "name": "python3"
  },
  "language_info": {
   "codemirror_mode": {
    "name": "ipython",
    "version": 3
   },
   "file_extension": ".py",
   "mimetype": "text/x-python",
   "name": "python",
   "nbconvert_exporter": "python",
   "pygments_lexer": "ipython3",
   "version": "3.10.11"
  }
 },
 "nbformat": 4,
 "nbformat_minor": 2
}
