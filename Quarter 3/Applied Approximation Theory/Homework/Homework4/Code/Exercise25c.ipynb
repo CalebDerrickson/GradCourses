{
 "cells": [
  {
   "cell_type": "code",
   "execution_count": null,
   "metadata": {},
   "outputs": [],
   "source": [
    "import math\n",
    "import numpy as np\n",
    "import matplotlib.pyplot as plt\n",
    "import sympy as sm\n",
    "import scipy as scp\n"
   ]
  },
  {
   "cell_type": "code",
   "execution_count": null,
   "metadata": {},
   "outputs": [],
   "source": [
    "def gauleg(x1, x2, x, w, n):\n",
    "    EPS = 3.0e-11\n",
    "    m = (n + 1) // 2  # Find only half the roots because of symmetry\n",
    "    xm = 0.5 * (x2 + x1)\n",
    "    xl = 0.5 * (x2 - x1)\n",
    "    for i in range(1, m + 1):\n",
    "        z = math.cos(math.pi * (i - 0.25) / (n + 0.5))\n",
    "        while True:\n",
    "            p1 = 1.0\n",
    "            p2 = 0.0\n",
    "            for j in range(1, n + 1):\n",
    "                # Recurrence relation\n",
    "                p3 = p2\n",
    "                p2 = p1\n",
    "                p1 = ((2.0 * j - 1.0) * z * p2 - (j - 1.0) * p3) / j\n",
    "            # Derivative\n",
    "            pp = n * (z * p1 - p2) / (z * z - 1.0)\n",
    "            z1 = z\n",
    "            # Newton’s method\n",
    "            z = z1 - p1 / pp\n",
    "            if abs(z - z1) <= EPS:\n",
    "                break\n",
    "        x[i] = xm - xl * z\n",
    "        x[n + 1 - i] = xm + xl * z\n",
    "        # Weights\n",
    "        w[i] = 2.0 * xl / ((1.0 - z * z) * pp * pp)\n",
    "        w[n + 1 - i] = w[i]\n",
    "\n"
   ]
  },
  {
   "cell_type": "code",
   "execution_count": null,
   "metadata": {},
   "outputs": [],
   "source": [
    "def Gauss_Legendre_Quad(fs, weights: np.ndarray, zeros: np.ndarray, alpha: float = -1.0, beta: float = 1.0) :\n",
    "    if beta <= alpha:\n",
    "        print(\"Alpha is greater than (or equal to) beta: alpha: \", alpha, \" beta: \", beta)\n",
    "        return \n",
    "    sum = 0\n",
    "    scaled_zeros = np.zeros_like(zeros)\n",
    "    for i in range(len(zeros)):\n",
    "        scaled_zeros[i] = 0.5*(beta - alpha) * zeros[i] + 0.5*(beta + alpha)\n",
    "    n = len(weights)\n",
    "    x = sm.symbols('x')\n",
    "    for i in range(n):\n",
    "        sum += 0.5*(beta - alpha) * weights[i] * fs.subs(x, scaled_zeros[i])\n",
    "    return sum"
   ]
  },
  {
   "cell_type": "code",
   "execution_count": null,
   "metadata": {},
   "outputs": [],
   "source": [
    "# For Legendre polynomials\n",
    "def calculate_coeffs(func, leg_funcs):\n",
    "    x = sm.symbols('x')\n",
    "    coeffs = np.zeros(len(leg_funcs))\n",
    "    for l in range(len(coeffs)):\n",
    "        inte = sm.integrate(func*leg_funcs[l], (x, -1, 1))\n",
    "        coeffs[l] = 0.5*(2*l + 1) * inte\n",
    "    return coeffs\n",
    "\n",
    "def calculate_leg_funcs(n: int):\n",
    "    x = sm.symbols('x')\n",
    "    leg_funcs = []\n",
    "    for deg in range(n):\n",
    "        leg = 0\n",
    "        for k in range(n):\n",
    "            leg += scp.special.binom(deg, k)**2.0 *(x - 1)**(deg - k) * (x+1)**k\n",
    "        leg *= 2**(-deg)\n",
    "        leg_funcs.append(leg)\n",
    "\n",
    "    return leg_funcs\n",
    "\n",
    "def calculate_L2_norm(func, coeffs, leg_funcs):\n",
    "    approx = 0\n",
    "    xspan = np.linspace(-1, 1, 1000)\n",
    "    x = sm.symbols('x')\n",
    "    for k in range(len(coeffs)):\n",
    "        if not math.isnan(coeffs[k]):\n",
    "            approx += coeffs[k] * leg_funcs[k]\n",
    "    integrand = sm.lambdify(x, abs(approx - func)**2)\n",
    "    inte = scp.integrate.trapz(integrand(xspan), xspan)\n",
    "    \n",
    "    inte = inte**(0.5)\n",
    "    return inte"
   ]
  },
  {
   "cell_type": "code",
   "execution_count": null,
   "metadata": {},
   "outputs": [],
   "source": [
    "x = sm.symbols('x')\n",
    "func = 1.0/(x+3)\n",
    "# Input the number of quadrature points\n",
    "ns = [16]\n",
    "j = 50\n",
    "errors = np.zeros(j)\n",
    "\n",
    "leg_funcs = calculate_leg_funcs(16)\n",
    "coeffs = calculate_coeffs(func, leg_funcs)\n",
    "inte = calculate_L2_norm(func, coeffs, leg_funcs)\n",
    "\n",
    "for n, N in enumerate(ns):\n",
    "    xs = [0.0] * (N + 1)\n",
    "    ws = [0.0] * (N + 1)\n",
    "\n",
    "    # Call the gauleg function\n",
    "    gauleg(-1.0, 1.0, xs, ws, N)\n",
    "\n",
    "    for k in range(len(errors)):\n",
    "        errors[k] = inte*Gauss_Legendre_Quad(func, ws, xs, 0.5**(k+1), 0.5**(k))\n",
    "    for j in range(len(errors)-1):\n",
    "        errors[j] = errors[j] - errors[j+1]"
   ]
  },
  {
   "cell_type": "code",
   "execution_count": null,
   "metadata": {},
   "outputs": [],
   "source": [
    "\n",
    "plt.figure(figsize=(10, 6))  \n",
    "\n",
    "plt.scatter(range(len(errors)-1), errors[:-1])\n",
    "plt.yscale('log')\n",
    "plt.gca().set_facecolor((0.9, 0.9, 0.9))\n",
    "plt.grid(True)\n",
    "plt.gca().set_axisbelow(True)\n",
    "plt.xlabel(\"k\")\n",
    "plt.title(r\"Error in approximating $f(x) = \\frac{1}{x+3}$ using 16 Legendre Polynomials\")\n",
    "plt.show()"
   ]
  }
 ],
 "metadata": {
  "kernelspec": {
   "display_name": "Python 3 (ipykernel)",
   "language": "python",
   "name": "python3"
  },
  "language_info": {
   "codemirror_mode": {
    "name": "ipython",
    "version": 3
   },
   "file_extension": ".py",
   "mimetype": "text/x-python",
   "name": "python",
   "nbconvert_exporter": "python",
   "pygments_lexer": "ipython3",
   "version": "3.10.11"
  }
 },
 "nbformat": 4,
 "nbformat_minor": 4
}
