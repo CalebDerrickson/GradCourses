{
 "cells": [
  {
   "cell_type": "code",
   "execution_count": 22,
   "metadata": {},
   "outputs": [],
   "source": [
    "import numpy as np\n",
    "import sympy as sp\n",
    "import scipy as scp\n",
    "import math"
   ]
  },
  {
   "cell_type": "code",
   "execution_count": 35,
   "metadata": {},
   "outputs": [],
   "source": [
    "def calculate_coeffs(func, leg_funcs):\n",
    "    x = sp.symbols('x')\n",
    "    coeffs = np.zeros(len(leg_funcs))\n",
    "    for l in range(len(coeffs)):\n",
    "        inte = sp.integrate(func*leg_funcs[l], (x, -1, 1))\n",
    "        coeffs[l] = 0.5*(2*l + 1) * inte\n",
    "    return coeffs\n",
    "\n",
    "def calculate_leg_funcs(n: int):\n",
    "    x = sp.symbols('x')\n",
    "    leg_funcs = []\n",
    "    for deg in range(n):\n",
    "        leg = 0\n",
    "        for k in range(n):\n",
    "            leg += scp.special.binom(deg, k)**2.0 *(x - 1)**(deg - k) * (x+1)**k\n",
    "        leg *= 2**(-deg)\n",
    "        leg_funcs.append(leg)\n",
    "\n",
    "    return leg_funcs\n",
    "\n",
    "def calculate_L2_norm(func, coeffs, leg_funcs):\n",
    "    approx = 0\n",
    "    xspan = np.linspace(-1, 1, 1000)\n",
    "    x = sp.symbols('x')\n",
    "    for k in range(len(coeffs)):\n",
    "        if not math.isnan(coeffs[k]):\n",
    "            approx += coeffs[k] * leg_funcs[k]\n",
    "    integrand = sp.lambdify(x, abs(approx - func)**2)\n",
    "    inte = scp.integrate.trapz(integrand(xspan), xspan)\n",
    "    \n",
    "    inte = inte**(0.5)\n",
    "    return inte"
   ]
  },
  {
   "cell_type": "code",
   "execution_count": 36,
   "metadata": {},
   "outputs": [],
   "source": [
    "x = sp.symbols('x')\n",
    "func = 1.0/(x+3)\n",
    "leg_funcs = calculate_leg_funcs(16)\n",
    "coeffs = calculate_coeffs(func, leg_funcs)\n",
    "inte = calculate_L2_norm(func, coeffs, leg_funcs)"
   ]
  },
  {
   "cell_type": "code",
   "execution_count": 37,
   "metadata": {},
   "outputs": [
    {
     "data": {
      "text/plain": [
       "7.2832130160308004e-06"
      ]
     },
     "execution_count": 37,
     "metadata": {},
     "output_type": "execute_result"
    }
   ],
   "source": [
    "inte"
   ]
  },
  {
   "cell_type": "code",
   "execution_count": 26,
   "metadata": {},
   "outputs": [
    {
     "data": {
      "text/plain": [
       "[(1, 3.0),\n",
       " (3, -4.666666666666666),\n",
       " (5, 5.866666666666671),\n",
       " (7, -6.857142857142859),\n",
       " (9, 7.720634920634826),\n",
       " (11, -8.49639249639199),\n",
       " (13, 9.206793206792895),\n",
       " (15, -9.866045066038623)]"
      ]
     },
     "execution_count": 26,
     "metadata": {},
     "output_type": "execute_result"
    }
   ],
   "source": [
    "[(i, j) for i, j in enumerate(coeffs) if not math.isnan(j)]"
   ]
  }
 ],
 "metadata": {
  "kernelspec": {
   "display_name": "Python 3",
   "language": "python",
   "name": "python3"
  },
  "language_info": {
   "codemirror_mode": {
    "name": "ipython",
    "version": 3
   },
   "file_extension": ".py",
   "mimetype": "text/x-python",
   "name": "python",
   "nbconvert_exporter": "python",
   "pygments_lexer": "ipython3",
   "version": "3.10.11"
  }
 },
 "nbformat": 4,
 "nbformat_minor": 2
}
