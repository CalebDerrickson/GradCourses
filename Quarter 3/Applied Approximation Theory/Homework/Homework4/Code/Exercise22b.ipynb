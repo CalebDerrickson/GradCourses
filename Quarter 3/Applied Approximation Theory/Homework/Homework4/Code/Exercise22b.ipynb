{
 "cells": [
  {
   "cell_type": "code",
   "execution_count": null,
   "metadata": {},
   "outputs": [],
   "source": [
    "import math\n",
    "import numpy as np\n",
    "import matplotlib.pyplot as plt\n",
    "import sympy as sm"
   ]
  },
  {
   "cell_type": "code",
   "execution_count": null,
   "metadata": {},
   "outputs": [],
   "source": [
    "def gauleg(x1, x2, x, w, n):\n",
    "    EPS = 3.0e-11\n",
    "    m = (n + 1) // 2  # Find only half the roots because of symmetry\n",
    "    xm = 0.5 * (x2 + x1)\n",
    "    xl = 0.5 * (x2 - x1)\n",
    "    for i in range(1, m + 1):\n",
    "        z = math.cos(math.pi * (i - 0.25) / (n + 0.5))\n",
    "        while True:\n",
    "            p1 = 1.0\n",
    "            p2 = 0.0\n",
    "            for j in range(1, n + 1):\n",
    "                # Recurrence relation\n",
    "                p3 = p2\n",
    "                p2 = p1\n",
    "                p1 = ((2.0 * j - 1.0) * z * p2 - (j - 1.0) * p3) / j\n",
    "            # Derivative\n",
    "            pp = n * (z * p1 - p2) / (z * z - 1.0)\n",
    "            z1 = z\n",
    "            # Newton’s method\n",
    "            z = z1 - p1 / pp\n",
    "            if abs(z - z1) <= EPS:\n",
    "                break\n",
    "        x[i] = xm - xl * z\n",
    "        x[n + 1 - i] = xm + xl * z\n",
    "        # Weights\n",
    "        w[i] = 2.0 * xl / ((1.0 - z * z) * pp * pp)\n",
    "        w[n + 1 - i] = w[i]\n",
    "\n"
   ]
  },
  {
   "cell_type": "code",
   "execution_count": null,
   "metadata": {},
   "outputs": [],
   "source": [
    "def Gauss_Legendre_Quad(fs, weights: np.ndarray, zeros: np.ndarray) :\n",
    "    sum = 0\n",
    "    n = len(weights)\n",
    "    y = sm.symbols('y')\n",
    "    for i in range(n):\n",
    "        sum += weights[i] * fs.subs(y, zeros[i])\n",
    "    return sum\n",
    "\n",
    "y = sm.symbols('y')\n",
    "x = sm.symbols('x')\n",
    "funcs = [sm.exp(-(x - y)**2), x*sm.exp(-(x - y)**2)]"
   ]
  },
  {
   "cell_type": "code",
   "execution_count": null,
   "metadata": {},
   "outputs": [],
   "source": [
    "\n",
    "# Input the number of quadrature points\n",
    "ns = [40, 80]\n",
    "f_res = np.zeros((2*len(ns), 100))\n",
    "xspan = np.linspace(-1, 1, 100)\n",
    "# Allocate arrays x and w\n",
    "\n",
    "for n, N in enumerate(ns):\n",
    "    xs = [0.0] * (N + 1)\n",
    "    ws = [0.0] * (N + 1)\n",
    "\n",
    "    # Call the gauleg function\n",
    "    gauleg(-1.0, 1.0, xs, ws, N)\n",
    "\n",
    "    for i, fs in enumerate(funcs):\n",
    "        # Calculate the integration\n",
    "        res = Gauss_Legendre_Quad(fs, ws, xs)\n",
    "\n",
    "        for k in range(len(xspan)):\n",
    "            f_res[i*len(ns) + n, k] = res.subs(x, xspan[k])\n"
   ]
  },
  {
   "cell_type": "code",
   "execution_count": null,
   "metadata": {},
   "outputs": [],
   "source": [
    "fig, axs = plt.subplots(1, 2, figsize = (20, 10))\n",
    "\n",
    "for i in range(len(axs)):\n",
    "    for j in range(len(ns)):\n",
    "        axs[i].plot(xspan, f_res[j + i*len(ns)], label = f\"{ns[j]}\")\n",
    "        axs[i].legend()\n",
    "        \n",
    "    axs[i].grid(True)\n",
    "    axs[i].set_facecolor(\"#E6E6E6\")\n",
    "    axs[i].set_title(f\"{funcs[i]}\")"
   ]
  },
  {
   "cell_type": "code",
   "execution_count": null,
   "metadata": {},
   "outputs": [],
   "source": [
    "fig, axs = plt.subplots(1, 2, figsize = (20, 10))\n",
    "\n",
    "for i in range(len(axs)):\n",
    "    axs[i].plot(xspan, np.abs(f_res[0 + i*len(ns)] - f_res[1 + i*len(ns)]))\n",
    "    axs[i].grid(True)\n",
    "    axs[i].set_yscale('log')\n",
    "    axs[i].set_facecolor(\"#E6E6E6\")\n",
    "    axs[i].set_title(f\"Error for {funcs[i]}\")"
   ]
  }
 ],
 "metadata": {
  "kernelspec": {
   "display_name": "Python 3 (ipykernel)",
   "language": "python",
   "name": "python3"
  },
  "language_info": {
   "codemirror_mode": {
    "name": "ipython",
    "version": 3
   },
   "file_extension": ".py",
   "mimetype": "text/x-python",
   "name": "python",
   "nbconvert_exporter": "python",
   "pygments_lexer": "ipython3",
   "version": "3.10.11"
  }
 },
 "nbformat": 4,
 "nbformat_minor": 4
}
