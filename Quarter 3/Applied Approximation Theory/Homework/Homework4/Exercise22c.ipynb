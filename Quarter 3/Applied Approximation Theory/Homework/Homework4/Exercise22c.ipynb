{
 "cells": [
  {
   "cell_type": "code",
   "execution_count": null,
   "metadata": {},
   "outputs": [],
   "source": [
    "import math\n",
    "import numpy as np\n",
    "import matplotlib.pyplot as plt\n",
    "import sympy as sm\n",
    "import scipy as scp"
   ]
  },
  {
   "cell_type": "code",
   "execution_count": null,
   "metadata": {},
   "outputs": [],
   "source": [
    "def gauleg(x1, x2, x, w, n):\n",
    "    EPS = 3.0e-11\n",
    "    m = (n + 1) // 2  # Find only half the roots because of symmetry\n",
    "    xm = 0.5 * (x2 + x1)\n",
    "    xl = 0.5 * (x2 - x1)\n",
    "    for i in range(1, m + 1):\n",
    "        z = math.cos(math.pi * (i - 0.25) / (n + 0.5))\n",
    "        while True:\n",
    "            p1 = 1.0\n",
    "            p2 = 0.0\n",
    "            for j in range(1, n + 1):\n",
    "                # Recurrence relation\n",
    "                p3 = p2\n",
    "                p2 = p1\n",
    "                p1 = ((2.0 * j - 1.0) * z * p2 - (j - 1.0) * p3) / j\n",
    "            # Derivative\n",
    "            pp = n * (z * p1 - p2) / (z * z - 1.0)\n",
    "            z1 = z\n",
    "            # Newton’s method\n",
    "            z = z1 - p1 / pp\n",
    "            if abs(z - z1) <= EPS:\n",
    "                break\n",
    "        x[i] = xm - xl * z\n",
    "        x[n + 1 - i] = xm + xl * z\n",
    "        # Weights\n",
    "        w[i] = 2.0 * xl / ((1.0 - z * z) * pp * pp)\n",
    "        w[n + 1 - i] = w[i]\n",
    "\n"
   ]
  },
  {
   "cell_type": "code",
   "execution_count": null,
   "metadata": {},
   "outputs": [],
   "source": [
    "def Gauss_Legendre_Quad(fs, weights: np.ndarray, zeros: np.ndarray) :\n",
    "    sum = 0\n",
    "    n = len(weights)\n",
    "    y = sm.symbols('y')\n",
    "    for i in range(n):\n",
    "        sum += weights[i] * fs.subs(y, zeros[i])\n",
    "    return sum\n",
    "\n",
    "y = sm.symbols('y')\n",
    "x = sm.symbols('x')\n",
    "funcs = [1, x]\n",
    "Tfuncs = [sm.exp(-(x - y)**2), x*sm.exp(-(x - y)**2)]"
   ]
  },
  {
   "cell_type": "code",
   "execution_count": null,
   "metadata": {},
   "outputs": [],
   "source": [
    "# Input the number of quadrature points\n",
    "ns = [40, 80]\n",
    "xspan = np.linspace(-1, 1, 100)\n",
    "eigvals_40 = np.zeros((2, ns[0]))\n",
    "eigvals_80 = np.zeros((2, ns[1]))\n",
    "# Allocate arrays x and w\n",
    "\n",
    "for n, N in enumerate(ns):\n",
    "    xs = [0.0] * (N + 1)  # Zeros of Gauss-legendre\n",
    "    ws = [0.0] * (N + 1)\n",
    "\n",
    "    # Call the gauleg function\n",
    "    gauleg(-1.0, 1.0, xs, ws, N)\n",
    "    \n",
    "    for i, fs in enumerate(Tfuncs):\n",
    "        res = Gauss_Legendre_Quad(fs, ws, xs)\n",
    "        K = np.zeros((N, N)) \n",
    "        for k in range(N):\n",
    "            for l in range(N):\n",
    "                K[k][l] = np.exp(-(xs[l] - xs[k])**2) * ws[k]\n",
    "        eigvals = scp.linalg.eigvals(K)\n",
    "\n",
    "        if N == 40:\n",
    "            for j in range(ns[0]):\n",
    "                eigvals_40[i, j] = abs(eigvals[j])\n",
    "        if N == 80:\n",
    "            for j in range(ns[1]):\n",
    "                eigvals_80[i, j] = abs(eigvals[j])"
   ]
  },
  {
   "cell_type": "code",
   "execution_count": null,
   "metadata": {},
   "outputs": [],
   "source": [
    "colors = ['tab:blue', 'tab:red']\n",
    "eigs = [eigvals_40, eigvals_80]\n",
    "fig, axs = plt.subplots(1, 2, figsize=(20, 10))\n",
    "labels = [\"f $\\equiv$ 1\", \"f $\\equiv$ x\"]\n",
    "\n",
    "for i in range(len(eigs[0])):\n",
    "    # Plot the scatter plots and specify labels and markers\n",
    "    axs[i].scatter(range(len(eigs[i][0])), eigs[i][0], c=colors[0], label=labels[0])\n",
    "    axs[i].scatter(range(len(eigs[i][1])), eigs[i][1], c=colors[1], label=labels[1], marker='^')  \n",
    "    axs[i].set_yscale('log')\n",
    "    axs[i].set_facecolor(\"#E6E6E6\")\n",
    "    axs[i].set_xlabel(\"Eigenvalues\")\n",
    "    axs[i].set_title(f\"Spectra for $K = {ns[i]}$\")\n",
    "    axs[i].grid(True)\n",
    "    axs[i].set_axisbelow(True)\n",
    "    # Add legend for each plot\n",
    "    axs[i].legend(loc='upper right', fontsize='large')\n",
    "\n",
    "plt.tight_layout()\n",
    "plt.show()"
   ]
  }
 ],
 "metadata": {
  "kernelspec": {
   "display_name": "Python 3 (ipykernel)",
   "language": "python",
   "name": "python3"
  },
  "language_info": {
   "codemirror_mode": {
    "name": "ipython",
    "version": 3
   },
   "file_extension": ".py",
   "mimetype": "text/x-python",
   "name": "python",
   "nbconvert_exporter": "python",
   "pygments_lexer": "ipython3",
   "version": "3.10.11"
  }
 },
 "nbformat": 4,
 "nbformat_minor": 4
}
