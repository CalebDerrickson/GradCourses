{
 "cells": [
  {
   "cell_type": "code",
   "execution_count": null,
   "metadata": {},
   "outputs": [],
   "source": [
    "import numpy as np\n",
    "import matplotlib.pyplot as plt"
   ]
  },
  {
   "cell_type": "code",
   "execution_count": null,
   "metadata": {},
   "outputs": [],
   "source": [
    "def f(x):\n",
    "    return np.exp(-0.3*x)\n",
    "\n",
    "def get_Interpolating_pts(n: int):\n",
    "    xs = np.zeros(n)\n",
    "    for k in range(n):\n",
    "        xs[k] = np.cos((2*k+1)/(2*n)*np.pi)\n",
    "\n",
    "    return xs\n",
    "\n",
    "def compute_weights(xs : np.ndarray):\n",
    "    #Calculate Big W\n",
    "    n = xs.size\n",
    "    W = np.zeros((n, n))\n",
    "    for i in range(n):\n",
    "        for j in range(n):\n",
    "            if i != j: W[i][j] = 1.0/(xs[j] - xs[i])\n",
    "    # Calc the weights\n",
    "    ws = np.ones(n)\n",
    "    for i in range(n):\n",
    "        for j in range(n):\n",
    "            if i != j: ws[i]*= W[i][j]\n",
    "\n",
    "    return ws\n",
    "\n",
    "def get_approximation(ws: np.ndarray, fs: np.ndarray, xs: np.ndarray, Cheb_nodes: np.ndarray):\n",
    "    poly_approx = np.zeros_like(xs)\n",
    "    n = ws.size\n",
    "    for i, x in enumerate(xs):\n",
    "        #Get numerator\n",
    "        num = 0\n",
    "        for j in range(n):\n",
    "            num += (ws[j] * fs[j]) / (x - Cheb_nodes[j])\n",
    "        #Get Denominator\n",
    "        den = 0\n",
    "        for j in range(n):\n",
    "            den += (ws[j]) / (x - Cheb_nodes[j])\n",
    "\n",
    "        #Divide\n",
    "        poly_approx[i] = num / den\n",
    "\n",
    "    return poly_approx"
   ]
  },
  {
   "cell_type": "code",
   "execution_count": null,
   "metadata": {},
   "outputs": [],
   "source": [
    "#Set interpolating points\n",
    "num_nodes = 5\n",
    "Cheb_nodes = get_Interpolating_pts(num_nodes)\n",
    "\n",
    "#Compute weights\n",
    "ws = compute_weights(Cheb_nodes)\n",
    "\n",
    "# Get function values\n",
    "fs = f(Cheb_nodes)\n",
    "\n",
    "# Get polynomial approximation\n",
    "xs = np.linspace(1, -1, 500)\n",
    "poly_approx = get_approximation(ws, fs, xs, Cheb_nodes)\n",
    "f_true = f(xs)"
   ]
  },
  {
   "cell_type": "code",
   "execution_count": null,
   "metadata": {},
   "outputs": [],
   "source": [
    "fig, axs = plt.subplots(1, 1, figsize = (8, 8))\n",
    "f_nodes = np.zeros(Cheb_nodes.size)\n",
    "\n",
    "for j in range(Cheb_nodes.size):\n",
    "    for pt in poly_approx:\n",
    "        if abs(pt - Cheb_nodes[j]) < 1e-6:\n",
    "            f_nodes[j] = abs(pt - f(Cheb_nodes[j]))\n",
    "            break\n",
    "\n",
    "\n",
    "axs.plot(xs, np.abs(poly_approx - f_true))\n",
    "for i, f_node in enumerate(f_nodes):\n",
    "    axs.scatter(Cheb_nodes[i], f_node, c = 'k')\n",
    "    axs.annotate(f\"$x_{4-i}$\", xy=(Cheb_nodes[i] + 1/24, f_node - 2e-8))\n",
    "axs.grid()\n",
    "fig.gca().set_facecolor((0.9, 0.9, 0.9))\n",
    "axs.set_title(\"Absolute Error for $f(x) = e^{-0.3x}$\")\n",
    "axs.set_ylabel(\"Error\")\n",
    "axs.set_axisbelow(True)"
   ]
  }
 ],
 "metadata": {
  "kernelspec": {
   "display_name": "Python 3 (ipykernel)",
   "language": "python",
   "name": "python3"
  },
  "language_info": {
   "codemirror_mode": {
    "name": "ipython",
    "version": 3
   },
   "file_extension": ".py",
   "mimetype": "text/x-python",
   "name": "python",
   "nbconvert_exporter": "python",
   "pygments_lexer": "ipython3",
   "version": "3.10.11"
  }
 },
 "nbformat": 4,
 "nbformat_minor": 4
}
