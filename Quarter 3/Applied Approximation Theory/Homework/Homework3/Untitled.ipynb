{
 "cells": [
  {
   "cell_type": "code",
   "execution_count": 1,
   "id": "7afb07ba-327b-45f0-9bdb-ccf18680d620",
   "metadata": {},
   "outputs": [],
   "source": [
    "import numpy as np\n",
    "import matplotlib.pyplot as plt"
   ]
  },
  {
   "cell_type": "code",
   "execution_count": 2,
   "id": "8a274f73-47b0-4dea-b92d-0d2b955c33a2",
   "metadata": {},
   "outputs": [],
   "source": [
    "def bound(rho, n):\n",
    "    return 2*np.exp(rho)/((rho - 1) * rho**n)"
   ]
  },
  {
   "cell_type": "code",
   "execution_count": null,
   "id": "3df40df5-5897-4729-8f77-a52955ce9dd8",
   "metadata": {},
   "outputs": [],
   "source": [
    "size = int(10)\n",
    "maxsize = int(25)\n",
    "xs = np.linspace(1+1e-4, maxsize, 10000)\n",
    "mins_rho = np.zeros(size)\n",
    "mins_val = np.zeros(size)\n",
    "for n in range(size):\n",
    "    mins_rho[n] = xs[np.argmin(bound(xs, n))]\n",
    "    mins_val[n] = np.min(bound(xs, n))\n",
    "\n",
    "rho_min = np.diff(mins_rho)/np.diff((range(1, n+2)))\n",
    "fig, axs = plt.subplots(1, 2, figsize = (16, 8))\n",
    "axs[0].plot(range(size), mins_rho)\n",
    "\n",
    "axs[1].plot(range(size-1), rho_min)\n",
    "#axs.set_yscale('log')\n",
    "axs[0].grid(True)\n",
    "axs[1].grid(True)\n",
    "axs[0].set_ylabel(r\"Minimum $\\rho$\")\n",
    "axs[0].set_title(r\"Minimum $\\rho$ Corresponding to Given $n$.\")\n",
    "axs[0].set_xlabel(\"$n$\")\n",
    "axs[1].set_title(\"Bound Value's First Derivative\")\n",
    "axs[1].set_ylabel(\"Value\")\n",
    "axs[1].set_xlabel(\"$n$\")\n",
    "\n",
    "plt.show()\n"
   ]
  }
 ],
 "metadata": {
  "kernelspec": {
   "display_name": "Python 3 (ipykernel)",
   "language": "python",
   "name": "python3"
  },
  "language_info": {
   "codemirror_mode": {
    "name": "ipython",
    "version": 3
   },
   "file_extension": ".py",
   "mimetype": "text/x-python",
   "name": "python",
   "nbconvert_exporter": "python",
   "pygments_lexer": "ipython3",
   "version": "3.10.11"
  }
 },
 "nbformat": 4,
 "nbformat_minor": 5
}
