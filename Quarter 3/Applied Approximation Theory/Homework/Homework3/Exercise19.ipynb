{
 "cells": [
  {
   "cell_type": "code",
   "execution_count": null,
   "metadata": {},
   "outputs": [],
   "source": [
    "import numpy as np\n",
    "import sympy as sp\n",
    "import matplotlib.pyplot as plt\n",
    "import math"
   ]
  },
  {
   "cell_type": "code",
   "execution_count": null,
   "metadata": {},
   "outputs": [],
   "source": [
    "def Cheb_sum(n: int, x: float):\n",
    "    k = 0\n",
    "    sum = 0\n",
    "    while k <= math.floor(n/2):\n",
    "        temp = (-1)**k\n",
    "        temp *= math.factorial(n - k - 1) /(math.factorial(k) * math.factorial(n - 2*k))\n",
    "        temp *= (2*x)**(n - 2*k)\n",
    "        sum += temp\n",
    "        k+=1\n",
    "    return sum\n",
    "\n",
    "def Cheb_cos(n: int, x: float):\n",
    "    return math.cos(n*math.acos(x))"
   ]
  },
  {
   "cell_type": "code",
   "execution_count": null,
   "metadata": {},
   "outputs": [],
   "source": [
    "n_points = int(1e4)\n",
    "xs = np.linspace(-1, 1, n_points)\n",
    "ns = [2, 5, 10, 15, 20, 40, 80]\n",
    "sum_arr = np.zeros((ns.__len__(), xs.__len__()))\n",
    "cos_arr = np.zeros_like(sum_arr)\n",
    "for i, n in enumerate(ns):\n",
    "    for j, x in enumerate(xs):\n",
    "        sum_arr[i][j] = Cheb_sum(n, x)\n",
    "        cos_arr[i][j] = Cheb_cos(n, x)"
   ]
  },
  {
   "cell_type": "code",
   "execution_count": null,
   "metadata": {
    "scrolled": true
   },
   "outputs": [],
   "source": [
    "fig, axs = plt.subplots(len(ns), figsize = (12, 20))\n",
    "for i in range(len(cos_arr)):\n",
    "    axs[i].plot(xs, cos_arr[i] - sum_arr[i], label = ns[i])\n",
    "    axs[i].set_yscale('log')\n",
    "    axs[i].legend(loc = 'upper right')\n",
    "    axs[i].grid(True)\n",
    "    axs[i].set_facecolor((0.9, 0.9, 0.9))\n"
   ]
  }
 ],
 "metadata": {
  "kernelspec": {
   "display_name": "Python 3 (ipykernel)",
   "language": "python",
   "name": "python3"
  },
  "language_info": {
   "codemirror_mode": {
    "name": "ipython",
    "version": 3
   },
   "file_extension": ".py",
   "mimetype": "text/x-python",
   "name": "python",
   "nbconvert_exporter": "python",
   "pygments_lexer": "ipython3",
   "version": "3.10.11"
  }
 },
 "nbformat": 4,
 "nbformat_minor": 4
}
