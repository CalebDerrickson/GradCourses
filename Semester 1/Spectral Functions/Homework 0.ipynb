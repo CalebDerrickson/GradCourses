{
 "cells": [
  {
   "cell_type": "code",
   "execution_count": 37,
   "id": "d0d4392d",
   "metadata": {},
   "outputs": [],
   "source": [
    "import numpy as np\n",
    "from scipy.linalg import null_space"
   ]
  },
  {
   "cell_type": "code",
   "execution_count": 68,
   "id": "a1b684be",
   "metadata": {
    "scrolled": true
   },
   "outputs": [
    {
     "name": "stdout",
     "output_type": "stream",
     "text": [
      "eigenvalue: 4.19, eigenvector: [-0.89  0.46]\n",
      "eigenvalue: 35.81, eigenvector: [-0.46 -0.89]\n"
     ]
    }
   ],
   "source": [
    "import numpy as np\n",
    "A = np.array([[3, -2], [1, -3], [-1, 4]])\n",
    "AtA = np.dot(np.transpose(A), A)\n",
    "eigenvalues, eigenvectors = np.linalg.eig(AtA)\n",
    "for i in range(len(eigenvalues)):\n",
    "    print(\"eigenvalue: {:.2f}, eigenvector: {:}\".format(eigenvalues[i], eigenvectors[i].round(2)))"
   ]
  },
  {
   "cell_type": "code",
   "execution_count": 58,
   "id": "003390c4",
   "metadata": {},
   "outputs": [
    {
     "data": {
      "text/plain": [
       "-0.8857793119141777"
      ]
     },
     "execution_count": 58,
     "metadata": {},
     "output_type": "execute_result"
    }
   ],
   "source": [
    "eigenvectors[0][0]"
   ]
  },
  {
   "cell_type": "code",
   "execution_count": 19,
   "id": "23fd8c96",
   "metadata": {},
   "outputs": [
    {
     "data": {
      "text/plain": [
       "array([-1.,  4.])"
      ]
     },
     "execution_count": 19,
     "metadata": {},
     "output_type": "execute_result"
    }
   ],
   "source": [
    "np.dot(A[0:2], b)"
   ]
  },
  {
   "cell_type": "code",
   "execution_count": 20,
   "id": "d7a92080",
   "metadata": {},
   "outputs": [
    {
     "data": {
      "text/plain": [
       "array([-1.57142857, -1.85714286])"
      ]
     },
     "execution_count": 20,
     "metadata": {},
     "output_type": "execute_result"
    }
   ],
   "source": [
    "b"
   ]
  }
 ],
 "metadata": {
  "kernelspec": {
   "display_name": "Python 3 (ipykernel)",
   "language": "python",
   "name": "python3"
  },
  "language_info": {
   "codemirror_mode": {
    "name": "ipython",
    "version": 3
   },
   "file_extension": ".py",
   "mimetype": "text/x-python",
   "name": "python",
   "nbconvert_exporter": "python",
   "pygments_lexer": "ipython3",
   "version": "3.10.11"
  }
 },
 "nbformat": 4,
 "nbformat_minor": 5
}
