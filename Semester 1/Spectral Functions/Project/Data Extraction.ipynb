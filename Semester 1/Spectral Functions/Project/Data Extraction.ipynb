{
 "cells": [
  {
   "cell_type": "code",
   "execution_count": 1,
   "id": "bae1d9aa",
   "metadata": {},
   "outputs": [],
   "source": [
    "import yfinance as yf\n",
    "import pandas as pd\n",
    "import requests\n",
    "from yahooquery import Ticker\n",
    "from datetime import datetime, timedelta\n",
    "import os\n",
    "from IPython.display import clear_output"
   ]
  },
  {
   "cell_type": "code",
   "execution_count": 2,
   "id": "dea7b24a",
   "metadata": {},
   "outputs": [],
   "source": [
    "#How do i #define in pyhton?\n",
    "DAYS_IN_YEAR = 365\n",
    "FIVE_YEARS_IN_DAYS = 5 *DAYS_IN_YEAR\n",
    "end_date = pd.Timestamp.utcnow()\n",
    "start_date = end_date - timedelta(days = FIVE_YEARS_IN_DAYS)"
   ]
  },
  {
   "cell_type": "code",
   "execution_count": 3,
   "id": "746ef40a",
   "metadata": {},
   "outputs": [],
   "source": [
    "def get_historical_stock_data(ticker):\n",
    "    tick = yf.Ticker(ticker)\n",
    "    stock_data = tick.history(period='5y')\n",
    "    return stock_data\n"
   ]
  },
  {
   "cell_type": "code",
   "execution_count": 8,
   "id": "af55a350",
   "metadata": {},
   "outputs": [
    {
     "name": "stdout",
     "output_type": "stream",
     "text": [
      "Percentage of stocks left after normalization: 39.81%\n"
     ]
    }
   ],
   "source": [
    "etf_names = ['ICF', 'IYR', 'REET', 'REM', 'REZ', 'USRT']\n",
    "#etf_names = ['ICF', 'IYR']\n",
    "\n",
    "\n",
    "ticker_names = set()\n",
    "\n",
    "\n",
    "cols = ['Ticker', 'ETF', 'Number of ETFs', 'Closing Stock Price']\n",
    "\n",
    "#Data frame to hold all data\n",
    "#Ticker, ETF's its in, Number of ETF's its in, stock price\n",
    "df = pd.DataFrame(columns = cols)\n",
    "\n",
    "dfs = []\n",
    "\n",
    "for i, etf_name in enumerate(etf_names):\n",
    "    dfs.append(pd.read_excel(f'Data\\\\{etf_name}.xlsx', skiprows=7, header=0))\n",
    "    \n",
    "    #Extracting list of stocks to pull prices\n",
    "    for ticker_name in dfs[i]['Ticker'].to_numpy():\n",
    "        ticker_names.add(ticker_name)\n",
    "\n",
    "#ticker name, ETF's its in\n",
    "tick_etf_list = {}\n",
    "\n",
    "for ticker_name in ticker_names:\n",
    "    etf_list = []\n",
    "    for j, etf_name in enumerate(etf_names):\n",
    "        if ticker_name in dfs[j]['Ticker'].to_list():\n",
    "            etf_list.append(etf_name)\n",
    "            \n",
    "    tick_etf_list[ticker_name] = etf_list\n",
    "\n",
    "#Should be at the end\n",
    "for i, (ticker, etf_list) in enumerate(tick_etf_list.items()):\n",
    "    \n",
    "    #Using the Closing price for each stock\n",
    "    print(f'Getting stock prices for {ticker}... {round(i / ticker_names.__len__(), 2) * 100} percent') \n",
    "    \n",
    "    close_prices = get_historical_stock_data(ticker)['Close'].to_numpy()\n",
    "    \n",
    "    #Getting an error 'No data found, symbol may be delisted'\n",
    "    #This is a known bug?\n",
    "    #Just jump over the stocks that have this issue\n",
    "    if close_prices.__len__() == 0:\n",
    "        clear_output(wait=True)\n",
    "        continue\n",
    "\n",
    "    #Ignoring all close prices that do not have the correct size (1258)\n",
    "    #This turns out to be ~22.4% of stocks we are just dropping, so\n",
    "    #in the future we might want to fix this (interpolation?)\n",
    "    if close_prices.__len__() < 1258:\n",
    "        clear_output(wait=True)\n",
    "        continue\n",
    "\n",
    "\n",
    "    #With these two checks in place, we are left with ~40% of our original stock count\n",
    "    number_of_etfs = len(etf_list)\n",
    "    row = {'Ticker': ticker, 'ETF': etf_list, 'Number of ETFs': number_of_etfs, 'Closing Stock Price': close_prices}\n",
    "    df = pd.concat([df, pd.DataFrame([row])], ignore_index=True)\n",
    "    clear_output(wait=True)\n",
    "\n",
    "Percentage_left = df['Ticker'].to_numpy().__len__() / ticker_names.__len__()\n",
    "print(f'Percentage of stocks left after normalization: {round(Percentage_left, 4)* 100}%')"
   ]
  },
  {
   "cell_type": "code",
   "execution_count": 5,
   "metadata": {},
   "outputs": [
    {
     "name": "stdout",
     "output_type": "stream",
     "text": [
      "0.0\n"
     ]
    }
   ],
   "source": [
    "deficient_count = 0\n",
    "for tmp in df['Closing Stock Price'].to_numpy():\n",
    "    if tmp.__len__() / 1258 != 1.0:\n",
    "        deficient_count+=1\n",
    "print(deficient_count/ len(df['Closing Stock Price'].to_numpy()))"
   ]
  },
  {
   "cell_type": "code",
   "execution_count": 9,
   "id": "eb42217e",
   "metadata": {},
   "outputs": [],
   "source": [
    "df.to_excel('Normalized Data.xlsx', index=False)"
   ]
  },
  {
   "cell_type": "code",
   "execution_count": 7,
   "id": "956a0dd6",
   "metadata": {},
   "outputs": [
    {
     "data": {
      "text/plain": [
       "0.3980815347721823"
      ]
     },
     "execution_count": 7,
     "metadata": {},
     "output_type": "execute_result"
    }
   ],
   "source": [
    "\n"
   ]
  },
  {
   "cell_type": "code",
   "execution_count": 22,
   "id": "6597fb68",
   "metadata": {},
   "outputs": [
    {
     "name": "stderr",
     "output_type": "stream",
     "text": [
      "URW: No price data found, symbol may be delisted (1d 2022-01-01 -> 2023-01-01)\n"
     ]
    },
    {
     "data": {
      "text/html": [
       "<div>\n",
       "<style scoped>\n",
       "    .dataframe tbody tr th:only-of-type {\n",
       "        vertical-align: middle;\n",
       "    }\n",
       "\n",
       "    .dataframe tbody tr th {\n",
       "        vertical-align: top;\n",
       "    }\n",
       "\n",
       "    .dataframe thead th {\n",
       "        text-align: right;\n",
       "    }\n",
       "</style>\n",
       "<table border=\"1\" class=\"dataframe\">\n",
       "  <thead>\n",
       "    <tr style=\"text-align: right;\">\n",
       "      <th></th>\n",
       "      <th>Open</th>\n",
       "      <th>High</th>\n",
       "      <th>Low</th>\n",
       "      <th>Close</th>\n",
       "      <th>Adj Close</th>\n",
       "      <th>Volume</th>\n",
       "    </tr>\n",
       "    <tr>\n",
       "      <th>Date</th>\n",
       "      <th></th>\n",
       "      <th></th>\n",
       "      <th></th>\n",
       "      <th></th>\n",
       "      <th></th>\n",
       "      <th></th>\n",
       "    </tr>\n",
       "  </thead>\n",
       "  <tbody>\n",
       "  </tbody>\n",
       "</table>\n",
       "</div>"
      ],
      "text/plain": [
       "Empty DataFrame\n",
       "Columns: [Open, High, Low, Close, Adj Close, Volume]\n",
       "Index: []"
      ]
     },
     "execution_count": 22,
     "metadata": {},
     "output_type": "execute_result"
    }
   ],
   "source": [
    "temp = yf.Ticker(\"URW\")\n",
    "temp.history(start='2022-01-01', end='2023-01-01')"
   ]
  }
 ],
 "metadata": {
  "kernelspec": {
   "display_name": "Python 3 (ipykernel)",
   "language": "python",
   "name": "python3"
  },
  "language_info": {
   "codemirror_mode": {
    "name": "ipython",
    "version": 3
   },
   "file_extension": ".py",
   "mimetype": "text/x-python",
   "name": "python",
   "nbconvert_exporter": "python",
   "pygments_lexer": "ipython3",
   "version": "3.10.11"
  }
 },
 "nbformat": 4,
 "nbformat_minor": 5
}
