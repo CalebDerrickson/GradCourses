{
 "cells": [
  {
   "cell_type": "code",
   "execution_count": 1,
   "id": "95e8fa70",
   "metadata": {},
   "outputs": [],
   "source": [
    "from typing import Tuple, Dict, Hashable\n",
    "\n",
    "import numpy as np\n",
    "import networkx as nx\n",
    "import matplotlib as mpl\n",
    "import matplotlib.pyplot as plt\n",
    "\n",
    "colors = np.array(['tab:blue', 'orange'])"
   ]
  },
  {
   "cell_type": "code",
   "execution_count": 2,
   "id": "a5136b7c",
   "metadata": {},
   "outputs": [],
   "source": [
    "def compute_cut_score(G: nx.graph, S: nx.Graph):\n",
    "    \"\"\"\n",
    "    Returns the cut score for the subgraph S of the Graph G.\n",
    "\n",
    "    \\phi(S) = w(E(S, \\bar{S})) / min(vol(S), vol(\\bar{S}))\n",
    "    \"\"\"\n",
    "    \n",
    "    #Taking min of vol(S),vol(\\bar{S})\n",
    "    Vol_G = nx.volume(G, G.nodes())\n",
    "    Vol_S = nx.volume(S, S.nodes())\n",
    "    \n",
    "    if Vol_G == Vol_S:\n",
    "        #No cut happened, return np.inf to not mess with min\n",
    "        return np.inf\n",
    "    \n",
    "    if Vol_S >= Vol_G/2:\n",
    "        vol = Vol_G - Vol_S\n",
    "    else:\n",
    "        vol = Vol_S\n",
    "        \n",
    "    #Getting the weights of edges on the boundary of S and summing them\n",
    "    bound_edges = nx.edge_boundary(G, S.nodes())\n",
    "    bound_weights = sum(list([G[edge[0]][edge[1]][\"weight\"] for edge in bound_edges]))\n",
    "    \n",
    "    if bound_weights == 0:\n",
    "        #Cutting nothing...\n",
    "        return np.inf\n",
    "    \n",
    "    res = bound_weights / vol\n",
    "    return res\n",
    "    "
   ]
  },
  {
   "cell_type": "code",
   "execution_count": 3,
   "id": "798fdeb9",
   "metadata": {},
   "outputs": [],
   "source": [
    "def sweep_cut(G: nx.Graph, x: np.ndarray) -> (float, float, np.ndarray):\n",
    "    \"\"\"Sweep Cut\n",
    "    \n",
    "    Also known as threshold cut, takes in a graph and a\n",
    "    1D embedding of the nodes and returns a threshold,\n",
    "    the conductance from the associated threshold cut and\n",
    "    a 0/1 vector indicating which side of the cut each node\n",
    "    belongs to in the best conductance cut.\n",
    "    \n",
    "    Parameters\n",
    "    ----------\n",
    "    G : nx.Graph\n",
    "        The graph to compute the threshold cut for.\n",
    "    x : np.ndarray\n",
    "        1D Embedding of the nodes in G.\n",
    "        \n",
    "    Returns\n",
    "    -------\n",
    "    thr : float\n",
    "        The best conductance threshold.\n",
    "    conductance : float\n",
    "        Conductance \\phi(S) = w(E(S, \\bar{S})) / min(vol(S), vol(\\bar{S}))\n",
    "        of the best threshold cut\n",
    "    cut : np.ndarray\n",
    "        0/1 indicator vector of the best threshold cut.\n",
    "        It holds that cut = (x <= thr)\n",
    "    \"\"\"\n",
    "    n = len(G)\n",
    "        \n",
    "    if len(x.shape) != 1:\n",
    "        raise ValueError(f'Embedding should be one dimensional. Instead got `x` with shape {x.shape}.')\n",
    "        \n",
    "    \n",
    "    #Array of cut scores\n",
    "    cut_arr = np.zeros(len(x) - 1)\n",
    "    cut_arr[:] = np.nan\n",
    "    \n",
    "    \n",
    "    #Sort v_2, want the argument list. Don't care about stability, just speed\n",
    "    x_arg = np.argsort(x, kind='heapsort')\n",
    "\n",
    "    #Introduce subgraph S\n",
    "    S = nx.Graph()\n",
    "    \n",
    "    #Incrementally add to S, using the nodes of the indices in x_arg\n",
    "    for i in range(len(x_arg) - 1):\n",
    "        S.add_node(x_arg[i])\n",
    "        S.add_edges_from(G.edges(x_arg[i]))\n",
    "\n",
    "        #Compute cut score for S\n",
    "        cut_arr[i] = compute_cut_score(G, S)\n",
    "        \n",
    "    #The threshold is the minimum cut score\n",
    "    thr = np.argmin(cut_arr)\n",
    "    \n",
    "    #The cut separates the two \n",
    "    cut = np.array([1 if i <= thr else 0 for i in range(len(x))])\n",
    "    \n",
    "    conductance = cut_arr[thr]\n",
    "        \n",
    "    return thr, conductance, cut\n",
    "\n",
    "\n"
   ]
  },
  {
   "cell_type": "code",
   "execution_count": 4,
   "id": "9b967041",
   "metadata": {},
   "outputs": [
    {
     "name": "stdout",
     "output_type": "stream",
     "text": [
      "On the path with 20 nodes the best conductance threshold is thr = 8.000000 and yields conductance 0.055556.\n"
     ]
    },
    {
     "data": {
      "image/png": "[encoded data removed]",
      "text/plain": [
       "<Figure size 640x480 with 1 Axes>"
      ]
     },
     "metadata": {},
     "output_type": "display_data"
    }
   ],
   "source": [
    "n = 20\n",
    "P = nx.path_graph(n)\n",
    "nx.set_edge_attributes(P, 1, 'weight')\n",
    "x = np.linspace(0, 1, n)\n",
    "thr, cond, cut = sweep_cut(P, x)\n",
    "\n",
    "print(f'On the path with {n} nodes the best conductance threshold is thr = {thr:.6f} and yields conductance {cond:.6f}.')\n",
    "pos = nx.spectral_layout(P)\n",
    "nx.draw(P, pos=pos, node_color=colors[cut], node_size=50)"
   ]
  },
  {
   "cell_type": "markdown",
   "id": "11172d82",
   "metadata": {},
   "source": [
    "## Part 2??"
   ]
  },
  {
   "cell_type": "code",
   "execution_count": 5,
   "id": "29cae846",
   "metadata": {},
   "outputs": [],
   "source": [
    "import scipy.sparse\n",
    "from scipy.sparse.linalg import eigsh"
   ]
  },
  {
   "cell_type": "code",
   "execution_count": 6,
   "id": "3c5f7994",
   "metadata": {
    "scrolled": false
   },
   "outputs": [
    {
     "data": {
      "image/png": "[encoded data removed]",
      "text/plain": [
       "<Figure size 640x480 with 1 Axes>"
      ]
     },
     "metadata": {},
     "output_type": "display_data"
    }
   ],
   "source": [
    "def spectral_clustering(G: nx.Graph, k: int=2) -> (np.ndarray, np.ndarray):\n",
    "    \"\"\"Spectral Clustering\n",
    "    \n",
    "    Taking a graph `G` and an integer `k`,\n",
    "    Compute the k-th eigenvector.\n",
    "    Decide on the best threshold cut.\n",
    "    Return a vector of its nodes with values\n",
    "    in {0, 1} indicating which side of the cut each node belongs to.\n",
    "    \n",
    "    Parameters\n",
    "    ----------\n",
    "    G : nx.Graph\n",
    "        Graph to do spectral clustering on.\n",
    "    k : int\n",
    "        Which eigenvectors to use for clustering.\n",
    "        \n",
    "    Returns\n",
    "    -------\n",
    "    v : np.ndarray\n",
    "        The first k+1 eigenvectors.\n",
    "    cut : np.ndarray\n",
    "        0/1 indicator vectors of the best threshold cut on the {1, ..., k+1} eigenvectors. \n",
    "    \"\"\"\n",
    "    n = len(G)\n",
    "    if not (1 <= k <= n):\n",
    "        raise ValueError(f'The choice of `k` must be between 1 and n. Instead {k} was passed.')\n",
    "    \n",
    "    v = np.zeros((n, k+1))\n",
    "    cut = [np.zeros(n, int) for _ in range(k)]\n",
    "    \n",
    "    #Getting Laplcaian Matrix\n",
    "    Lap = nx.laplacian_matrix(G)\n",
    "    \n",
    "    #Getting eigenvectors\n",
    "    _ , evect = eigsh(Lap.astype(float), k=k+1, which='SM')\n",
    "    \n",
    "    for i, eigenvector in enumerate(evect.T):\n",
    "        _, _, e_cut = sweep_cut(G, eigenvector)\n",
    "        v[:, i] = eigenvector \n",
    "        cut.append(e_cut)\n",
    "    return v, cut\n",
    "\n",
    "_, cut = spectral_clustering(P, 7)\n",
    "nx.draw(P, pos=pos, node_color=colors[cut[-2]], node_size=50)"
   ]
  },
  {
   "cell_type": "code",
   "execution_count": 7,
   "id": "cc4a5ebf",
   "metadata": {},
   "outputs": [
    {
     "ename": "ModuleNotFoundError",
     "evalue": "No module named 'sklearn'",
     "output_type": "error",
     "traceback": [
      "\u001b[1;31m---------------------------------------------------------------------------\u001b[0m",
      "\u001b[1;31mModuleNotFoundError\u001b[0m                       Traceback (most recent call last)",
      "Cell \u001b[1;32mIn[7], line 1\u001b[0m\n\u001b[1;32m----> 1\u001b[0m \u001b[38;5;28;01mfrom\u001b[39;00m \u001b[38;5;21;01msklearn\u001b[39;00m \u001b[38;5;28;01mimport\u001b[39;00m cluster, datasets, mixture\n\u001b[0;32m      2\u001b[0m \u001b[38;5;28;01mfrom\u001b[39;00m \u001b[38;5;21;01msklearn\u001b[39;00m\u001b[38;5;21;01m.\u001b[39;00m\u001b[38;5;21;01mneighbors\u001b[39;00m \u001b[38;5;28;01mimport\u001b[39;00m kneighbors_graph\n\u001b[0;32m      5\u001b[0m \u001b[38;5;28;01mdef\u001b[39;00m \u001b[38;5;21mgenerate_datasets\u001b[39m(k\u001b[38;5;241m=\u001b[39m\u001b[38;5;241m5\u001b[39m, noise_multiplier\u001b[38;5;241m=\u001b[39m\u001b[38;5;241m1\u001b[39m):\n\u001b[0;32m      6\u001b[0m     \u001b[38;5;66;03m# ============\u001b[39;00m\n\u001b[0;32m      7\u001b[0m     \u001b[38;5;66;03m# Generate datasets. We choose the size big enough to see the scalability\u001b[39;00m\n\u001b[0;32m      8\u001b[0m     \u001b[38;5;66;03m# of the algorithms, but not too big to avoid too long running times\u001b[39;00m\n\u001b[0;32m      9\u001b[0m     \u001b[38;5;66;03m# ============\u001b[39;00m\n",
      "\u001b[1;31mModuleNotFoundError\u001b[0m: No module named 'sklearn'"
     ]
    }
   ],
   "source": [
    "from sklearn import cluster, datasets, mixture\n",
    "from sklearn.neighbors import kneighbors_graph\n",
    "\n",
    "\n",
    "def generate_datasets(k=5, noise_multiplier=1):\n",
    "    # ============\n",
    "    # Generate datasets. We choose the size big enough to see the scalability\n",
    "    # of the algorithms, but not too big to avoid too long running times\n",
    "    # ============\n",
    "\n",
    "    n_samples = 500\n",
    "    seed = 17\n",
    "    noisy_circles = datasets.make_circles(\n",
    "        n_samples=n_samples, factor=0.5, noise=0.07 * noise_multiplier, random_state=seed\n",
    "    )\n",
    "    noisy_moons = datasets.make_moons(n_samples=n_samples, noise=0.10 * noise_multiplier, random_state=seed)\n",
    "    data = []\n",
    "\n",
    "    for i, (X, y) in enumerate([noisy_circles, noisy_moons]):\n",
    "        G = nx.empty_graph(n_samples)\n",
    "        # TODO: Use `kneighbors_graph` with n_neighbors equal to 5 to construct a graph\n",
    "        #       a graph from each dataset.\n",
    "        #       One way to make it into an undirected graph is to take A_u = (A_d + A_d^T) / 2\n",
    "        #       This will give you the adjacency matrix.\n",
    "        #       You can make it into a graph using `nx.from_scipy_sparse_matrix\n",
    "\n",
    "        data.append([X, y, G])\n",
    "\n",
    "    return data\n",
    "\n",
    "data = generate_datasets()\n",
    "fig, ax = plt.subplots(2, 2)\n",
    "\n",
    "for i, (X, y, G) in enumerate(data):\n",
    "    ax[0][i].scatter(X[:, 0], X[:, 1], s=10, color=colors[y])\n",
    "    plt.sca(ax[1][i])\n",
    "    nx.draw(G, pos=X, node_color=colors[y], node_size=5)\n",
    "    \n",
    "    for j in range(2):\n",
    "        ax[j][i].set_aspect('equal', 'box')\n",
    "        ax[j][i].set_xticks([])\n",
    "        ax[j][i].set_yticks([])\n",
    "        for side in ['right', 'top', 'left', 'bottom']:\n",
    "            ax[j][i].spines[side].set_visible(False)"
   ]
  },
  {
   "cell_type": "code",
   "execution_count": null,
   "id": "f783fd82",
   "metadata": {},
   "outputs": [],
   "source": []
  }
 ],
 "metadata": {
  "kernelspec": {
   "display_name": "Python 3 (ipykernel)",
   "language": "python",
   "name": "python3"
  },
  "language_info": {
   "codemirror_mode": {
    "name": "ipython",
    "version": 3
   },
   "file_extension": ".py",
   "mimetype": "text/x-python",
   "name": "python",
   "nbconvert_exporter": "python",
   "pygments_lexer": "ipython3",
   "version": "3.10.11"
  }
 },
 "nbformat": 4,
 "nbformat_minor": 5
}
