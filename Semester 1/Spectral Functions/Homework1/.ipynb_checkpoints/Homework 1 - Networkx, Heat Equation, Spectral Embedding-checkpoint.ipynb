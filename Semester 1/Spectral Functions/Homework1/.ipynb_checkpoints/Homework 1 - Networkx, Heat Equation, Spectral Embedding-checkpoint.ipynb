{
 "cells": [
  {
   "cell_type": "markdown",
   "id": "af324cd9",
   "metadata": {},
   "source": [
    "# Homework 1\n",
    "\n",
    "In this exercise you will learn how to use the `python` graph library `networkx` to represent and work with graphs. Most of this course focuses on the mathematical proofs of spectral graph theory, but a small part of it will focus on applying these techniques in practice to real graphs."
   ]
  },
  {
   "cell_type": "code",
   "execution_count": 1,
   "id": "30502bef",
   "metadata": {},
   "outputs": [],
   "source": [
    "import networkx as nx\n",
    "import numpy as np\n",
    "import matplotlib.pyplot as plt"
   ]
  },
  {
   "cell_type": "markdown",
   "id": "f49f1b8d",
   "metadata": {},
   "source": [
    "## Types of Graphs\n",
    "\n",
    "In `networkx` There are four basic graph types as Python classes, based on whether the graph is directed and simple.\n",
    "\n",
    "`Graph`<br>\n",
    "This class implements an undirected graph. It ignores multiple edges between two nodes. It does allow self-loop edges between a node and itself.\n",
    "\n",
    "`DiGraph`<br>\n",
    "Directed graphs, that is, graphs with directed edges. Provides operations common to directed graphs, (a subclass of Graph).\n",
    "\n",
    "`MultiGraph`<br>\n",
    "A flexible graph class that allows multiple undirected edges between pairs of nodes. The additional flexibility leads to some degradation in performance, though usually not significant.\n",
    "\n",
    "`MultiDiGraph`<br>\n",
    "A directed version of a MultiGraph.\n",
    "\n",
    "In this class we will use mostly `Graph`."
   ]
  },
  {
   "cell_type": "code",
   "execution_count": 2,
   "id": "b8038a93",
   "metadata": {},
   "outputs": [],
   "source": [
    "G = nx.Graph()"
   ]
  },
  {
   "cell_type": "markdown",
   "id": "580a45f1",
   "metadata": {},
   "source": [
    "## Creating graphs\n",
    "\n",
    "In `networkx` you can add nodes and edges one by one by using the `add_node` and `add_edge` methods. All nodes mush be `hashable` as defined by Python. If one or both endpoints of the edge are missing, they are automatically created. Every node and edge can have arbitrary attributes, that can be specified at creation or altered later."
   ]
  },
  {
   "cell_type": "code",
   "execution_count": 3,
   "id": "8b2bbe4c",
   "metadata": {},
   "outputs": [],
   "source": [
    "G.add_node(1)\n",
    "G.add_node(2, label=1)\n",
    "G.add_edge(1,2)\n",
    "G.add_edge(2, 3, weight=2)"
   ]
  },
  {
   "cell_type": "markdown",
   "id": "e8e5dd3c",
   "metadata": {},
   "source": [
    "#### Your turn!\n",
    "\n",
    "Using the above methods, create $P_n$."
   ]
  },
  {
   "cell_type": "code",
   "execution_count": null,
   "id": "f3517b5d",
   "metadata": {},
   "outputs": [],
   "source": [
    "n = 10\n",
    "P = nx.Graph()\n",
    "\n",
    "# TODO: Fill out code here.\n",
    "for node in range(n):\n",
    "    P.add_node(node, label=node)\n",
    "\n",
    "\n",
    "print(P)"
   ]
  },
  {
   "cell_type": "markdown",
   "id": "93e9f50d",
   "metadata": {},
   "source": [
    "### Graphs from collections\n",
    "\n",
    "Adding one node or edge at a time is costly. Instead, `networkx` provides ways to add a collection of nodes or edges."
   ]
  },
  {
   "cell_type": "code",
   "execution_count": null,
   "id": "68ff567a",
   "metadata": {},
   "outputs": [],
   "source": [
    "nodes = np.arange(1, 4)\n",
    "G.add_nodes_from(nodes)\n",
    "\n",
    "elist = [(1, 2), (2, 3), (1, 4), (4, 2)]\n",
    "G.add_edges_from(elist)\n",
    "\n",
    "elist = [('a', 'b', 5.0), ('b', 'c', 3.0), ('a', 'c', 1.0), ('c', 'd', 7.3)]\n",
    "G.add_weighted_edges_from(elist)"
   ]
  },
  {
   "cell_type": "markdown",
   "id": "dafe155a",
   "metadata": {},
   "source": [
    "For a complete reference of all the ways and formats you can construct, read and write graphs you can visit the reference for the [reading and writing graphs](https://networkx.org/documentation/stable/reference/readwrite/index.html#readwrite) subpackage."
   ]
  },
  {
   "cell_type": "markdown",
   "id": "6ca3f073",
   "metadata": {},
   "source": [
    "#### Your turn!\n",
    "\n",
    "Using the more advanced methods, create the $n \\times m$ [torus grid](https://en.wikipedia.org/wiki/Toroidal_graph) where each node is connected to the four surrounding nodes, wrapping around in each direction."
   ]
  },
  {
   "cell_type": "code",
   "execution_count": null,
   "id": "da4543a7",
   "metadata": {},
   "outputs": [],
   "source": [
    "def generate_torus(n, m):\n",
    "    T = nx.Graph()\n",
    "    \n",
    "    # TODO: Return T_{nm}, the n x m torus grid.\n",
    "    #       Each edge should have a color attribute.\n",
    "    #       Color the vertical edges red and the horizontal blue.\n",
    "    \n",
    "    return T\n",
    "\n",
    "T = generate_torus(10, 20)"
   ]
  },
  {
   "cell_type": "markdown",
   "id": "f930d305",
   "metadata": {},
   "source": [
    "## Graph Generators\n",
    "\n",
    "Of course, an advanced graph library like `networkx` already has generators for these simple graphs. You can read more by visiting the reference for [graph generators](https://networkx.org/documentation/stable/reference/generators.html). We will load two real networks, Zachary's Karate Club graph and the co-appearance graph in the novel Les Miserable.\n",
    "\n",
    "Zachary's Karate Club graph is a real social network assembled by anthropologist and computer scientist Wayne W. Zachary. The Karate Club includes 34 members and 78 connections. During the study a conflict arose between the administrator \"John A\" and instructor \"Mr. Hi\" (pseudonyms), which led to the split of the club into two. Half of the members formed a new club around Mr. Hi; members from the other part found a new instructor or gave up karate. Based on collected data Zachary correctly assigned all but one member of the club to the groups they actually joined after the split. The member that was misclassified had external reasons for following \"Mr. Hi\".\n",
    "\n",
    "Les Miserable co-appearance graph has 77 nodes and 254 weighted edges, based on how many times two characters appear together."
   ]
  },
  {
   "cell_type": "code",
   "execution_count": null,
   "id": "ae0facef",
   "metadata": {},
   "outputs": [],
   "source": [
    "karate = nx.karate_club_graph()\n",
    "les_miserables = nx.les_miserables_graph()"
   ]
  },
  {
   "cell_type": "markdown",
   "id": "1e27287c",
   "metadata": {},
   "source": [
    "## The Graph properties\n",
    "\n",
    "The most important properties that `networkx` exposes are `G.nodes` and `G.edges`. These are internally stored views of dicts-of-dicts-of-dicts since most graphs are sparse. `G.adj` shows the actual "
   ]
  },
  {
   "cell_type": "code",
   "execution_count": null,
   "id": "5b69204c",
   "metadata": {},
   "outputs": [],
   "source": [
    "print(f'The nodes of graph G are {G.nodes}')\n",
    "print()\n",
    "print(f'The edges of graph G are {G.edges}')\n",
    "print()\n",
    "print(f'The adjacency of node b in graph G is {G[\"b\"]}')\n",
    "print()\n",
    "print(f'The full adjacency of graph G is')\n",
    "for v in G.nodes:\n",
    "    print(G[v])\n",
    "print()\n",
    "print(f'The weight of the edge {{2, 3}} is G[2][3][\\'weight\\'] = {G[2][3][\"weight\"]}')"
   ]
  },
  {
   "cell_type": "markdown",
   "id": "c2e89163",
   "metadata": {},
   "source": [
    "### Your turn!\n",
    "\n",
    "Take your torus graph `T` from before and count the number of red and blue edges."
   ]
  },
  {
   "cell_type": "code",
   "execution_count": null,
   "id": "70429bdc",
   "metadata": {},
   "outputs": [],
   "source": [
    "# TODO: Count the number of blue and red edges in the torus graph T\n",
    "red = 0\n",
    "blue = 0\n",
    "print(f'There are {red} red edges and {blue} blue edges.')"
   ]
  },
  {
   "cell_type": "markdown",
   "id": "a5bfdb3b",
   "metadata": {},
   "source": [
    "## Drawing Graphs\n",
    "\n",
    "Most times it is helpful to draw a graph as it helps visualize it. The library offers a generic drawing method `nx.draw`, but also more specific methods for the nodes or edges in the [drawing](https://networkx.org/documentation/stable/reference/drawing.html#drawing) module"
   ]
  },
  {
   "cell_type": "code",
   "execution_count": null,
   "id": "1981f9de",
   "metadata": {},
   "outputs": [],
   "source": [
    "cube = nx.cubical_graph()\n",
    "subax1 = plt.subplot(121)\n",
    "nx.draw(cube)   # default spring_layout\n",
    "subax2 = plt.subplot(122)\n",
    "nx.draw(cube, pos=nx.circular_layout(cube), node_color='r', edge_color='b')"
   ]
  },
  {
   "cell_type": "markdown",
   "id": "0113f5a9",
   "metadata": {},
   "source": [
    "We can use the same methods to draw the `karate` and `les_miserable` networks.\n",
    "\n",
    "### Your turn!\n",
    "\n",
    "Draw the karate network. Requirements:\n",
    "- Use the `spring_layout` for positions.\n",
    "- Nodes that have the value `\"Officer\"` in the `club` property are colored `tab:blue`, the ones with value `\"Mr. Hi\"` are colored `tab:green`.\n",
    "- Node names (0-33) should be displayed in white font.\n",
    "- Edges between inside each community should have the same color as the community.\n",
    "- Edges across communities should be `tab:red`."
   ]
  },
  {
   "cell_type": "code",
   "execution_count": null,
   "id": "19d93cfc",
   "metadata": {},
   "outputs": [],
   "source": [
    "# TODO: Draw the karate graph as described above.\n",
    "\n",
    "pos = nx.spring_layout(karate)\n",
    "pc = nx.draw(karate, pos=pos)"
   ]
  },
  {
   "cell_type": "markdown",
   "id": "e3b40ad7",
   "metadata": {},
   "source": [
    "# Heat Equation and Spectral Embedding\n",
    "\n",
    "In class we saw how following the dynamics of the Heat Equation will yield the vector $\\mathbf{v} = \\arg \\min_{\\mathbf{x} \\perp 1} \\frac{\\mathbf{x}^T \\mathbf{L}_G \\mathbf{x}}{\\mathbf{x}^T \\mathbf{D}_G \\mathbf{x}}$.\n",
    "\n",
    "In this section you will implement the dynamic $\\mathbf{x}_{t + 1} = \\mathbf{x}_t - \\frac{1}{2}\\mathbf{D}_G^{-1} \\mathbf{L}_G \\mathbf{x}_t$ to approximate the second eigenvalue. Your goal is to approximate the second eigenvector by following this evolution."
   ]
  },
  {
   "cell_type": "markdown",
   "id": "854307ef",
   "metadata": {},
   "source": [
    "### Heat Evolution\n",
    "\n",
    "Complete the following function which takes in a graph $G$, an initial $\\mathbf{x}_0 \\in \\mathbb{R}^{n \\times d}$ and a target bound $\\epsilon$ for the Dirichlet energy $\\mathcal{U}(\\mathbf{x}) = \\|\\mathbf{x} - \\bar{x} \\mathbf{1}\\|_{\\mathbf{D}_G}$ and returns the iterates $\\mathbf{X} \\in \\mathbb{R}^{T \\times n \\times d}$."
   ]
  },
  {
   "cell_type": "code",
   "execution_count": null,
   "id": "de8a5517",
   "metadata": {},
   "outputs": [],
   "source": [
    "from typing import Tuple\n",
    "\n",
    "def heat_diffusion(G: nx.Graph, x_0: np.ndarray, epsilon: float=1e-6) -> Tuple[np.ndarray, np.ndarray, np.ndarray]:\n",
    "    \"\"\"Heat Diffusion\n",
    "    \n",
    "    Given a graph `G` and an initial `x_0` runs heat diffusion until $\\mathcal{U}(\\mathbf{x}) < \\epsilon$.\n",
    "    \n",
    "    Parameters\n",
    "    ----------\n",
    "        G : nx.Graph\n",
    "            Graph to run heat diffusion on.\n",
    "        x_0 : np.ndarray\n",
    "            Initial heat distribution x_0. Should be n x d array. d might be 1.\n",
    "        epsilon : float\n",
    "            Stopping criterion is the Dirichlet energy of the heat distribution to be less than epsilon.\n",
    "    \n",
    "    Returns\n",
    "    -------\n",
    "        x : np.ndarray\n",
    "            The T x n x d evolution of x_0.\n",
    "        y : np.ndarray\n",
    "            Flow going through each edge. Should be T x m x d\n",
    "        fx: np.ndarray\n",
    "            The value of U(x(t)) at each time t.\n",
    "    \"\"\"\n",
    "    n = nx.number_of_nodes(G)\n",
    "    m = nx.number_of_edges(G)\n",
    "    assert x_0.shape[0] == n, \"x_0 does not have the right shape.\"\n",
    "    d = x_0.shape[1]\n",
    "    \n",
    "    # TODO: You should fill out the following funtion.\n",
    "    #       All transformations and intermediate results should be computed using matrix multiplications\n",
    "    \n",
    "    return np.zeros((1, n, d)), np.zeros((1, m, d)), np.array([0])\n",
    "\n",
    "x0 = np.random.rand(len(les_miserables), 2)\n",
    "x, y, fx = heat_diffusion(les_miserables, x0)"
   ]
  },
  {
   "cell_type": "markdown",
   "id": "e5a485ae",
   "metadata": {},
   "source": [
    "We can use the returned $\\mathbf{x}$ as positions to see how the heat equation evolves in time. Fill in the following function to draw the animation of heat diffusion on the Les Miserable graph."
   ]
  },
  {
   "cell_type": "code",
   "execution_count": null,
   "id": "05a84cb8",
   "metadata": {},
   "outputs": [],
   "source": [
    "from matplotlib.animation import FuncAnimation\n",
    "\n",
    "# TODO: Use draw_networkx_nodes to get a PathCollection of the node plot.\n",
    "#       Use draw_networkx_edges to get a LineCollection of the edge plot.\n",
    "#       Edge linewidth should be proportional to the \\ell_2 norm of the flow along that edge.\n",
    "#       The color of each node should be proportional to its contribution to the total Dirichlet energy.\n",
    "\n",
    "t, n, d = x.shape\n",
    "fig = plt.figure()\n",
    "\n",
    "pos = {v: x0[i] for i, v in enumerate(les_miserables.nodes)}\n",
    "node_collection = nx.draw_networkx_nodes(les_miserables, pos=pos)\n",
    "edge_collection = nx.draw_networkx_edges(les_miserables, pos=pos)\n",
    "\n",
    "def animate(frame):\n",
    "    # TODO: You need to update the offsets of both the node_collection and edge_collection using .set_offsets.\n",
    "    #       Additionally, remember to change the edge linewidth and the node colors.\n",
    "    #       In order to be able to see the changes in the graph, set the axis limits according\n",
    "    #       to the min and max in each direction with a small padding.\n",
    "    return node_collection, edge_collection\n",
    "\n",
    "\n",
    "ani = FuncAnimation(fig, animate, frames=t, interval=40, repeat=True, repeat_delay=1500, save_count=t)\n",
    "plt.show()"
   ]
  },
  {
   "cell_type": "markdown",
   "id": "dd87cd90",
   "metadata": {},
   "source": [
    "## Spectral Clustering\n",
    "\n",
    "So far we have seen `networkx` use the `spring_layout`. The library also offers `spectral_layout`. Run heat diffusion on the torus you created and visually compare the final positions with the spectral layout. How are they different?"
   ]
  },
  {
   "cell_type": "code",
   "execution_count": null,
   "id": "d35dcbc1",
   "metadata": {},
   "outputs": [],
   "source": [
    "nx.draw(T, pos=nx.spectral_layout(T))"
   ]
  }
 ],
 "metadata": {
  "kernelspec": {
   "display_name": "Python 3 (ipykernel)",
   "language": "python",
   "name": "python3"
  },
  "language_info": {
   "codemirror_mode": {
    "name": "ipython",
    "version": 3
   },
   "file_extension": ".py",
   "mimetype": "text/x-python",
   "name": "python",
   "nbconvert_exporter": "python",
   "pygments_lexer": "ipython3",
   "version": "3.10.11"
  }
 },
 "nbformat": 4,
 "nbformat_minor": 5
}
