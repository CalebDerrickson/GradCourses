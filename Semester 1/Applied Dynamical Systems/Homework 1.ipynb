{
 "cells": [
  {
   "cell_type": "code",
   "execution_count": 1,
   "id": "16cd7746",
   "metadata": {},
   "outputs": [],
   "source": [
    "import matplotlib.pyplot as plt\n",
    "import numpy as np\n",
    "import pandas as pd"
   ]
  },
  {
   "cell_type": "code",
   "execution_count": 3,
   "id": "8736899f",
   "metadata": {},
   "outputs": [],
   "source": [
    "def domega(alpha, beta, theta, tau):\n",
    "    return -(alpha + beta * np.cos(tau))*sin(theta)"
   ]
  },
  {
   "cell_type": "code",
   "execution_count": null,
   "id": "808aba60",
   "metadata": {},
   "outputs": [],
   "source": [
    "@interact(alpha = (-1.0, 1.0), beta = (-1.0, 1.0), theta = (-np.pi, np.pi))\n",
    "def plot(alpha, beta, theta):\n",
    "  "
   ]
  },
  {
   "cell_type": "code",
   "execution_count": null,
   "id": "8c9752ce",
   "metadata": {},
   "outputs": [],
   "source": []
  }
 ],
 "metadata": {
  "kernelspec": {
   "display_name": "Python 3 (ipykernel)",
   "language": "python",
   "name": "python3"
  },
  "language_info": {
   "codemirror_mode": {
    "name": "ipython",
    "version": 3
   },
   "file_extension": ".py",
   "mimetype": "text/x-python",
   "name": "python",
   "nbconvert_exporter": "python",
   "pygments_lexer": "ipython3",
   "version": "3.10.11"
  }
 },
 "nbformat": 4,
 "nbformat_minor": 5
}
