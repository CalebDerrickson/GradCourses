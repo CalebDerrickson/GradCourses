{
 "cells": [
  {
   "cell_type": "code",
   "execution_count": 12,
   "id": "3a453fbb",
   "metadata": {},
   "outputs": [],
   "source": [
    "import numpy as np\n",
    "import matplotlib.pyplot as plt\n",
    "from scipy import integrate\n",
    "from ipywidgets import interact\n",
    "%matplotlib inline"
   ]
  },
  {
   "cell_type": "markdown",
   "id": "01adcdd0",
   "metadata": {},
   "source": [
    "Problem 1: Exploring pendulum dynamics in the phase plane."
   ]
  },
  {
   "cell_type": "code",
   "execution_count": 57,
   "id": "e976285d",
   "metadata": {},
   "outputs": [],
   "source": [
    "def f(u, t):\n",
    "    return [u[1], -np.sin(u[0])]\n",
    "\n",
    "def E(theta, omega):\n",
    "    return (0.5) * omega**2 - np.cos(theta)"
   ]
  },
  {
   "cell_type": "code",
   "execution_count": 78,
   "id": "2cf9ec6d",
   "metadata": {},
   "outputs": [
    {
     "data": {
      "application/vnd.jupyter.widget-view+json": {
       "model_id": "3d0a964f6ab74d65a8421cc9346083ba",
       "version_major": 2,
       "version_minor": 0
      },
      "text/plain": [
       "interactive(children=(FloatSlider(value=0.0, description='theta0', max=3.141592653589793, min=-3.1415926535897…"
      ]
     },
     "metadata": {},
     "output_type": "display_data"
    }
   ],
   "source": [
    "@interact(theta0=(-np.pi, np.pi), omega0=(0.0, 1.0), T=(0.1, 25.0))\n",
    "def plot(theta0, omega0, T):\n",
    "    \n",
    "    t = np.arange(0, T, 0.01)\n",
    "    u0 = (theta0, omega0)\n",
    "    \n",
    "    asol = integrate.odeint(f, u0, t)\n",
    "    \n",
    "    fig, axs = plt.subplots(3, figsize=(12,8))\n",
    "    axs[0].plot(t, asol[:,0])\n",
    "    axs[0].set_ylabel(\"Theta\")\n",
    "    axs[1].plot(t, asol[:,1])\n",
    "    axs[1].set_ylabel(\"Omega\")\n",
    "    \n",
    "    energy = E(asol[:,0], asol[:,1])\n",
    "    axs[2].plot(t, energy)\n",
    "    axs[2].set_ylabel(\"Energy\")\n",
    "    plt.show()\n",
    "    return"
   ]
  },
  {
   "cell_type": "code",
   "execution_count": 75,
   "id": "8a2a48a5",
   "metadata": {},
   "outputs": [
    {
     "data": {
      "application/vnd.jupyter.widget-view+json": {
       "model_id": "37aae8d943044d97af8022de01772580",
       "version_major": 2,
       "version_minor": 0
      },
      "text/plain": [
       "interactive(children=(FloatSlider(value=0.0, description='theta0', max=3.141592653589793, min=-3.1415926535897…"
      ]
     },
     "metadata": {},
     "output_type": "display_data"
    }
   ],
   "source": [
    "@interact(theta0=(-np.pi, np.pi), omega0=(0.0, 1.0), T=(0.1, 25.0))\n",
    "def plot(theta0, omega0, T):\n",
    "    scale = abs(theta0 /np.pi)\n",
    "    lim = max([np.pi * scale + 0.5, 1])\n",
    "    t = np.arange(0, T, 0.01)\n",
    "    u0 = (theta0, omega0)\n",
    "    fig, ax = plt.subplots(1, figsize=(4,4))\n",
    "    asol = integrate.odeint(f, u0, t)\n",
    "    plt.plot(asol[:,0], asol[:,1])\n",
    "    ax.set_ylim([-lim, lim])\n",
    "    ax.set_xlim([-lim, lim])\n",
    "    plt.show()\n",
    "    return"
   ]
  },
  {
   "cell_type": "code",
   "execution_count": null,
   "id": "86da5a75",
   "metadata": {},
   "outputs": [],
   "source": []
  }
 ],
 "metadata": {
  "kernelspec": {
   "display_name": "Python 3 (ipykernel)",
   "language": "python",
   "name": "python3"
  },
  "language_info": {
   "codemirror_mode": {
    "name": "ipython",
    "version": 3
   },
   "file_extension": ".py",
   "mimetype": "text/x-python",
   "name": "python",
   "nbconvert_exporter": "python",
   "pygments_lexer": "ipython3",
   "version": "3.10.11"
  }
 },
 "nbformat": 4,
 "nbformat_minor": 5
}
