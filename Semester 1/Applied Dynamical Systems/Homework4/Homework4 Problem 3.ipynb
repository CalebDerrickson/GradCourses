{
 "cells": [
  {
   "cell_type": "code",
   "execution_count": 50,
   "id": "f34c286a",
   "metadata": {},
   "outputs": [],
   "source": [
    "import numpy as np\n",
    "import matplotlib.pyplot as plt\n",
    "from scipy.integrate import solve_ivp\n",
    "import matplotlib.cm as cm\n",
    "import math\n",
    "import sympy as sm\n",
    "%matplotlib qt"
   ]
  },
  {
   "cell_type": "code",
   "execution_count": 98,
   "id": "5b604589",
   "metadata": {},
   "outputs": [],
   "source": [
    "#System definition\n",
    "def xdot(y, t, a, b, c):\n",
    "    x1, x2, x3 = y\n",
    "    return [ - x2 - x3,\n",
    "               x1 + a * x2,\n",
    "               b + x3 * (x1 - c)]\n",
    "\n",
    "def get_period(sol):\n",
    "    \"\"\"\n",
    "    Gets the Minimum period of the solution\n",
    "    \"\"\"\n",
    "    x0, y0, z0 = sol.y[:, 0]\n",
    "    init = np.array([x0, y0, z0])\n",
    "    x, y, z = sol.y\n",
    "    dist = np.zeros(x.shape[0])\n",
    "    for i in range(len(dist)):\n",
    "        ipoint = np.array([x[i], y[i], z[i]])\n",
    "        dist[i] = math.dist(init, ipoint)\n",
    "\n",
    "    dist_arr = []\n",
    "    for i in range(len(dist[2:])):\n",
    "        if dist[i-1] > dist[i] and dist[i+1] > dist[i] and dist[i] != 0:\n",
    "            dist_arr.append((sol.t[i], dist[i]))\n",
    "    \n",
    "    sorted_tuples = sorted(dist_arr, key=lambda x: (x[1], x[0]))\n",
    "    \n",
    "    return sorted_tuples[0][0]"
   ]
  },
  {
   "cell_type": "code",
   "execution_count": 208,
   "id": "464692c8",
   "metadata": {},
   "outputs": [
    {
     "name": "stdout",
     "output_type": "stream",
     "text": [
      "Period: 17.409999999999922\n"
     ]
    }
   ],
   "source": [
    "#define time range\n",
    "timespan = (0., 100.)\n",
    "init = 1 #number of initial conditions\n",
    "\n",
    "#Paramters\n",
    "a = 0.2\n",
    "b = 0.2\n",
    "\n",
    "#initial conditions\n",
    "x0 = 4.7\n",
    "y0 = -1.1430\n",
    "z0 = 0.85\n",
    "i = 0\n",
    "\n",
    "colors = np.linspace(0, 1 / 1, 1)\n",
    "fig = plt.figure()\n",
    "axs = fig.add_subplot(111, projection='3d')\n",
    "\n",
    "initial_conditions = [x0, y0, z0]\n",
    "\n",
    "c = 5.3\n",
    "sol = solve_ivp(lambda t, y, a, b, c: xdot(y, t, a, b, c), t_span=timespan, y0=initial_conditions, max_step=0.01, args=(a, b, c))\n",
    "#Picking coords of solution\n",
    "x, y, z = sol.y\n",
    "axs.plot(x, y, z, color = cm.hot(min(colors[i]**0.4, 0.7)), label = x0)\n",
    "axs.view_init(elev=20, azim=45) \n",
    "axs.set_xlabel('X-axis')\n",
    "axs.set_ylabel('Y-axis')\n",
    "axs.set_zlabel('Z-axis')\n",
    "\n",
    "print(f'Period: {get_period(sol)}')\n",
    "# Show the plot\n",
    "plt.show()\n"
   ]
  },
  {
   "cell_type": "code",
   "execution_count": 204,
   "id": "cbd4b3c6",
   "metadata": {
    "scrolled": true
   },
   "outputs": [],
   "source": [
    "c = sm.symbols('c')\n",
    "\n",
    "mon_mat = sm.Matrix([[0, -1, -1], \n",
    "                    [1,  a,  0] ,\n",
    "                    [z0, 0,x0 - c]])\n",
    "\n",
    "pts = []\n",
    "for k in np.linspace(2, 7, 10):\n",
    "    new_mat = mon_mat.subs(c, k)\n",
    "    eigenvals = new_mat.eigenvals()\n",
    "\n",
    "\n",
    "    i = 0\n",
    "    for eig in eigenvals.keys():\n",
    "        real, imag = eig.as_real_imag()\n",
    "        pts.append((real, imag, k))"
   ]
  },
  {
   "cell_type": "code",
   "execution_count": 207,
   "id": "b5e29c47",
   "metadata": {},
   "outputs": [],
   "source": [
    "i = 0\n",
    "for pt in pts:    \n",
    "    plt.scatter(pt[0], pt[1], label = pt[2], color = cm.hot((pt[2]+3.6*pt[2])/(pt[2]**3)))\n",
    "\n",
    "plt.legend()\n",
    "plt.title(\"Eigenvalues for different c\")\n",
    "plt.xlabel(\"Real\")\n",
    "plt.ylabel(\"Imaginary\")\n",
    "plt.show()"
   ]
  },
  {
   "cell_type": "code",
   "execution_count": null,
   "id": "9d3d2f12",
   "metadata": {
    "scrolled": true
   },
   "outputs": [],
   "source": []
  },
  {
   "cell_type": "code",
   "execution_count": 85,
   "id": "79810c6b",
   "metadata": {},
   "outputs": [],
   "source": [
    "sol.sol"
   ]
  }
 ],
 "metadata": {
  "kernelspec": {
   "display_name": "Python 3 (ipykernel)",
   "language": "python",
   "name": "python3"
  },
  "language_info": {
   "codemirror_mode": {
    "name": "ipython",
    "version": 3
   },
   "file_extension": ".py",
   "mimetype": "text/x-python",
   "name": "python",
   "nbconvert_exporter": "python",
   "pygments_lexer": "ipython3",
   "version": "3.10.11"
  }
 },
 "nbformat": 4,
 "nbformat_minor": 5
}
