{
 "cells": [
  {
   "cell_type": "code",
   "execution_count": 40,
   "id": "a089dab1",
   "metadata": {},
   "outputs": [],
   "source": [
    "import sympy as sm\n",
    "import numpy as np\n",
    "import matplotlib.pyplot as plt\n",
    "import scipy.integrate as integrate\n",
    "from IPython.display import display, clear_output\n",
    "\n",
    "#Make paraters global\n",
    "global c\n",
    "global mu\n",
    "global nu\n",
    "global alpha\n",
    "global beta\n",
    "global gamma\n",
    "global delta\n",
    "\n",
    "c = 0.19\n",
    "mu = 0.03\n",
    "nu = 0.003\n",
    "alpha = 800\n",
    "beta = 1.5\n",
    "gamma = 0.004\n",
    "delta = 2.2"
   ]
  },
  {
   "cell_type": "code",
   "execution_count": 10,
   "id": "f97473f5",
   "metadata": {},
   "outputs": [],
   "source": [
    "def xdot(state: tuple , t : np.ndarray, r: float):\n",
    "    x, y = state\n",
    "    \n",
    "    cross = (alpha*x*y) * (1/(beta + x))\n",
    "    \n",
    "    dxdt = x*(r - c*x)*(x - mu)* (1/(nu + x)) - cross\n",
    "    dydt = gamma * cross - delta * y\n",
    "    return [dxdt, dydt]"
   ]
  },
  {
   "cell_type": "code",
   "execution_count": 32,
   "id": "a8a51ac3",
   "metadata": {},
   "outputs": [],
   "source": [
    "def compute_Jacob(F, x_eval, y_eval, r_eval):\n",
    "    \"\"\"\n",
    "    Helper function to compute the Jacobian of the limit cycle\n",
    "    at the given point.\n",
    "    \"\"\"\n",
    "    F_eval = F.subs([(x, x_eval), (y, y_eval), (r, r_eval)])\n",
    "    temp = sm.matrix2numpy(F_eval, dtype='float64')\n",
    "    trace = temp[0, 0] + temp[1, 1]\n",
    "    return trace"
   ]
  },
  {
   "cell_type": "code",
   "execution_count": null,
   "id": "cb124b8f",
   "metadata": {
    "scrolled": false
   },
   "outputs": [],
   "source": [
    "# Number of R we want to evaluate\n",
    "num_r = 100\n",
    "rspan = np.linspace(1.4, 2.6, num_r)\n",
    "\n",
    "#For limit cycle\n",
    "timespan = np.linspace(0, 100, num_r)\n",
    "x0, y0 = 3, 0.010\n",
    "init = [x0, y0]\n",
    "\n",
    "\n",
    "\n",
    "period_limits = []\n",
    "for i, r in enumerate(rspan):\n",
    "    sol = integrate.odeint(xdot, init, timespan, args=(r, ))\n",
    "    x, y = sol.T\n",
    "    xmax = x / max(x)\n",
    "    \n",
    "    #finding period ->Taking derivative and plotting zeros\n",
    "    \n",
    "    x_max_pts = []\n",
    "    \n",
    "    prev_diff = 0\n",
    "    for j, diff in enumerate(np.diff(xmax)):    \n",
    "        if prev_diff >= 0 and diff <= 0:\n",
    "            x_max_pts.append((j, xmax[j]))\n",
    "        prev_diff = diff\n",
    "    \n",
    "    period_limits.append(np.diff(np.array(x_max_pts)[:, 0])[-1])\n",
    "\n",
    "#Setting up system in sympy\n",
    "x, y = sm.symbols('x, y', real = True)\n",
    "r = sm.symbols('r', real = True)\n",
    "cross = (alpha*x*y) * (1/(beta + x))\n",
    "dxdt = x*(r - c*x)*(x - mu)* (1/(nu + x)) - cross\n",
    "dydt = gamma * cross - delta * y\n",
    "    \n",
    "#Arrange them into a matrix\n",
    "F = sm.Matrix([dxdt, dydt])\n",
    "F_jac = F.jacobian([x, y])\n",
    "res = []\n",
    "\n",
    "#Evaluating Jacobian on last period \n",
    "for i, r_val in enumerate(rspan):\n",
    "    integrand = np.zeros(len(rspan))\n",
    "    integrand[:] = np.nan\n",
    "    sol = integrate.odeint(xdot, init, timespan, args=(r_val, ))\n",
    "    x_sol, y_sol = sol.T\n",
    "    for j in range(len(rspan)):\n",
    "        integrand[j] = compute_Jacob(F_jac, x_sol[j], y_sol[j], rspan[j])\n",
    "    \n",
    "    #Take last period of integrands\n",
    "    integrand = integrand[-int(period_limits[i]):-1]\n",
    "    \n",
    "    #This is pretty much a summation at this point\n",
    "    \n",
    "    res.append(np.sum(integrand))\n",
    "    #Clearing output\n",
    "    clear_output(wait=True)\n",
    "    \n",
    "    print(\"Percentage done: {:.2f}%\".format(100*i/len(rspan)))"
   ]
  },
  {
   "cell_type": "code",
   "execution_count": null,
   "id": "ba2ffdae",
   "metadata": {},
   "outputs": [],
   "source": [
    "#Plotting results\n",
    "fig, axs = plt.subplots(1, 1, figsize = (10, 8))\n",
    "axs.set_title(\"Evaluated Floquet Multiplier\")\n",
    "axs.set_xlabel(\"r - value\")\n",
    "axs.set_ylabel(\"Value for Floquet Multiplier\")\n",
    "axs.grid(True)\n",
    "axs.set_facecolor(\"#e1e2e3\") \n",
    "axs.plot(rspan, res, c=\"#A23BEC\")"
   ]
  }
 ],
 "metadata": {
  "kernelspec": {
   "display_name": "Python 3 (ipykernel)",
   "language": "python",
   "name": "python3"
  },
  "language_info": {
   "codemirror_mode": {
    "name": "ipython",
    "version": 3
   },
   "file_extension": ".py",
   "mimetype": "text/x-python",
   "name": "python",
   "nbconvert_exporter": "python",
   "pygments_lexer": "ipython3",
   "version": "3.10.11"
  }
 },
 "nbformat": 4,
 "nbformat_minor": 5
}
