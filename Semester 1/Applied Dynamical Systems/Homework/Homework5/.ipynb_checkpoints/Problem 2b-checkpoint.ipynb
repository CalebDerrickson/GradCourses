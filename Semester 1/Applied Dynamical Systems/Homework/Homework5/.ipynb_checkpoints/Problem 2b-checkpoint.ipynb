{
 "cells": [
  {
   "cell_type": "code",
   "execution_count": 122,
   "id": "9ba187a1",
   "metadata": {},
   "outputs": [],
   "source": [
    "import numpy as np\n",
    "import matplotlib.pyplot as plt \n",
    "import scipy.integrate as integrate\n",
    "from ipywidgets import interact"
   ]
  },
  {
   "cell_type": "code",
   "execution_count": 152,
   "id": "28cb3f3d",
   "metadata": {},
   "outputs": [],
   "source": [
    "#Make paraters global\n",
    "global c\n",
    "global mu\n",
    "global nu\n",
    "global alpha\n",
    "global beta\n",
    "global gamma\n",
    "global delta \n",
    "\n",
    "c = 0.19\n",
    "mu = 0.03\n",
    "nu = 0.003\n",
    "alpha = 800\n",
    "beta = 1.5\n",
    "gamma = 0.004\n",
    "delta = 2.2"
   ]
  },
  {
   "cell_type": "code",
   "execution_count": 144,
   "id": "4d7e70bc",
   "metadata": {},
   "outputs": [],
   "source": [
    "def xdot(state: tuple , t : np.ndarray, r: float):\n",
    "    x, y = state\n",
    "    \n",
    "    \n",
    "    cross = (alpha*x*y) * (1/(beta + x))\n",
    "    \n",
    "    dxdt = x*(r - c*x)*(x - mu)* (1/(nu + x)) - cross\n",
    "    dydt = gamma * cross - delta * y\n",
    "    return [dxdt, dydt]"
   ]
  },
  {
   "cell_type": "code",
   "execution_count": null,
   "id": "405ef493",
   "metadata": {},
   "outputs": [],
   "source": [
    "timespan = np.linspace(0, 100, 1000)\n",
    "\n",
    "@interact(r=(0, 3, 0.01))\n",
    "def plot(r):\n",
    "    fig, axs = plt.subplots(1, 1, figsize =(12, 12))\n",
    "    #Vector field\n",
    "    xvect, yvect= np.meshgrid(np.linspace(0, 10 + 0.7*r, 20),  \n",
    "                       np.linspace(0, 0.010 + 0.005*r, 20))\n",
    "\n",
    "    #Update vector field\n",
    "    u = xvect*(r - c*xvect)*(xvect - mu)/(nu + xvect) - (alpha * xvect * yvect)/(beta + xvect)\n",
    "    v = gamma * (alpha*xvect*yvect)/(beta + xvect) - delta * yvect\n",
    "\n",
    "    #Equilibria\n",
    "    eqs = [(0, 0), (r/c, 0), (mu, 0)]\n",
    "    eqs.append((delta * beta, (gamma*beta)*(r - c*delta*beta) * (delta*beta - mu)/(nu + delta*beta)))\n",
    "\n",
    "    #random initial conditions\n",
    "    x0, y0 = 3, 0.010\n",
    "    init = [x0, y0]\n",
    "    \n",
    "    sol = integrate.odeint(xdot, init, timespan, args=(r, ))\n",
    "    x, y = sol.T\n",
    "    plt.plot(x, y, color='k', linewidth=2.0)\n",
    "    plt.scatter(init[0], init[1], c='k')\n",
    "    \n",
    "    #Plotting Stream plot\n",
    "    axs.streamplot(xvect,yvect,u,v, density=1.0, linewidth=None, color='#A23BEC' ) \n",
    "    \n",
    "    for init in eqs:\n",
    "        sol = integrate.odeint(xdot, init, timespan, args=(r, ))\n",
    "        x, y = sol.T\n",
    "        plt.plot(x, y)\n",
    "        plt.scatter(init[0], init[1])\n",
    "    \n",
    "    axs.set_xlabel(\"Prey Population\")\n",
    "    axs.set_ylabel(\"Predator Population\")"
   ]
  },
  {
   "cell_type": "code",
   "execution_count": null,
   "id": "b765010d",
   "metadata": {},
   "outputs": [],
   "source": [
    "num_r = 100\n",
    "rspan = np.linspace(1.4, 2.6, num_r)\n",
    "timespan = np.linspace(0, 100, 1000)\n",
    "x0, y0 = 3, 0.010\n",
    "init = [x0, y0]\n",
    "fig, axs = plt.subplots(1, figsize = (12, 12))\n",
    "\n",
    "period_limits = []\n",
    "for i, r in enumerate(rspan):\n",
    "    sol = integrate.odeint(xdot, init, timespan, args=(r, ))\n",
    "    x, y = sol.T\n",
    "    xmax = x / max(x)\n",
    "    \n",
    "    #finding period ->Taking derivative and plotting zeros\n",
    "    \n",
    "    x_max_pts = []\n",
    "    \n",
    "    prev_diff = 0\n",
    "    for j, diff in enumerate(np.diff(xmax)):    \n",
    "        if prev_diff >= 0 and diff <= 0:\n",
    "            x_max_pts.append((j, xmax[j]))\n",
    "        prev_diff = diff\n",
    "    \n",
    "    period_limits.append(np.diff(np.array(x_max_pts)[:, 0])[-1])\n",
    "    \n",
    "axs.plot(period_limits)\n",
    "axs.set_ylabel(\"Period\")\n",
    "x_ticks = np.round(np.linspace(1.4, 2.6, 7), 2)\n",
    "axs.set_xticklabels(x_ticks)\n",
    "axs.set_xlabel(\"r-value\")\n",
    "axs.set_title(\"Period Times for r in (1.4, 2.6)\")\n",
    "plt.tight_layout(pad = 0.7)"
   ]
  }
 ],
 "metadata": {
  "kernelspec": {
   "display_name": "Python 3 (ipykernel)",
   "language": "python",
   "name": "python3"
  },
  "language_info": {
   "codemirror_mode": {
    "name": "ipython",
    "version": 3
   },
   "file_extension": ".py",
   "mimetype": "text/x-python",
   "name": "python",
   "nbconvert_exporter": "python",
   "pygments_lexer": "ipython3",
   "version": "3.10.11"
  }
 },
 "nbformat": 4,
 "nbformat_minor": 5
}
