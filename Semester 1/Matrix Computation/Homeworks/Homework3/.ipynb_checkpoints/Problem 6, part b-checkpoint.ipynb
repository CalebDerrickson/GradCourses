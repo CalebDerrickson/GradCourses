{
 "cells": [
  {
   "cell_type": "code",
   "execution_count": 1,
   "id": "6bcbd53d",
   "metadata": {},
   "outputs": [],
   "source": [
    "import numpy as np"
   ]
  },
  {
   "cell_type": "code",
   "execution_count": 88,
   "id": "78434771",
   "metadata": {},
   "outputs": [],
   "source": [
    "A = np.array([[12, -51, 4],\n",
    "                [6, 167, -68],\n",
    "                [-4, 24, -41]])"
   ]
  },
  {
   "cell_type": "code",
   "execution_count": 109,
   "id": "2e4eb885",
   "metadata": {},
   "outputs": [],
   "source": [
    "def calculate_Hausholder(v: np.array):\n",
    "    \"\"\"\n",
    "    Helper function to calculate the Hausholder matrix from v.\n",
    "    \n",
    "    Parameters\n",
    "    ----------\n",
    "    v : np.array\n",
    "        The given vector. Needs to be normalized prior to passing.\n",
    "        \n",
    "    Returns\n",
    "    -------\n",
    "    H : np.ndarray\n",
    "        The Hausholder matrix of v.\n",
    "    \"\"\"\n",
    "    \n",
    "    H = np.identity(max(v.shape)) - 2*np.outer(v, v)\n",
    "    return H"
   ]
  },
  {
   "cell_type": "code",
   "execution_count": 102,
   "id": "224f22a6",
   "metadata": {
    "scrolled": true
   },
   "outputs": [
    {
     "data": {
      "text/plain": [
       "array([[ 1.40000000e+01,  2.10000000e+01, -1.40000000e+01],\n",
       "       [ 6.66133815e-16,  1.75000000e+02, -7.00000000e+01],\n",
       "       [-4.44089210e-16, -1.77635684e-15, -3.50000000e+01]])"
      ]
     },
     "execution_count": 102,
     "metadata": {},
     "output_type": "execute_result"
    }
   ],
   "source": [
    "u = A[:, 0].copy()\n",
    "u[0] -= np.linalg.norm(u, ord = 2)\n",
    "v = u/np.linalg.norm(u, ord = 2)\n",
    "\n",
    "H1 = calculate_Hausholder(v)\n",
    "\n",
    "u = (H1@A)[1:, 1].copy()\n",
    "u[0] -= np.linalg.norm(u, ord = 2)\n",
    "v = u/np.linalg.norm(u, ord = 2)\n",
    "\n",
    "H2 = np.identity(A.shape[0])\n",
    "H2[1:, 1:] = calculate_Hausholder(v)\n",
    "\n",
    "H2@H1@A"
   ]
  },
  {
   "cell_type": "code",
   "execution_count": null,
   "id": "af372d9b",
   "metadata": {},
   "outputs": [],
   "source": []
  },
  {
   "cell_type": "code",
   "execution_count": 108,
   "id": "903af9ff",
   "metadata": {},
   "outputs": [
    {
     "name": "stdout",
     "output_type": "stream",
     "text": [
      "[[ 14.          21.         -14.        ]\n",
      " [ -0.26726124 175.         -70.        ]\n",
      " [  0.80178373  -0.8        -35.        ]]\n"
     ]
    }
   ],
   "source": [
    "B = A.copy()\n",
    "Q = np.identity(B.shape[0])\n",
    "v_mat = []\n",
    "for i in range(B.shape[0]-1):\n",
    "    \n",
    "    u = B[i:, i].copy()\n",
    "    u[0] -= np.linalg.norm(u, ord = 2)\n",
    "    v = u/np.linalg.norm(u, ord = 2)\n",
    "    v_mat.append(v)\n",
    "    \n",
    "    Q = np.identity(B.shape[0])\n",
    "    Q[i:, i:] = calculate_Hausholder(v)\n",
    "    \n",
    "    B = np.matmul(Q, B)\n",
    "\n",
    "for i in range(B.shape[0]-1):\n",
    "    B[i+1:, i] = np.array(v_mat[i])[:-1]\n",
    "    \n"
   ]
  },
  {
   "cell_type": "code",
   "execution_count": 110,
   "id": "d06f9b66",
   "metadata": {},
   "outputs": [],
   "source": [
    "def hausholder_qr(A: np.ndarray):\n",
    "    \"\"\"\n",
    "        Returns the QR factorization obtained through \n",
    "        the Hausholder Reflection method. \n",
    "        \n",
    "        Elements belonging to and above diagonal are R, \n",
    "        \n",
    "        Below the diagonal are the column vectors v_1, ..., v_n-1\n",
    "        which are used to get Q_1, ..., Q_n-1. \n",
    "        \n",
    "        Last element of v_i is not stored. Can be recovered since \n",
    "        v is a unit vector.\n",
    "    \"\"\"\n",
    "    m, n = A.shape\n",
    "    v_mat = []\n",
    "    for i in range(m-1):\n",
    "        \n",
    "        # Obtaining v_i\n",
    "        u = A[i:, i].copy()\n",
    "        u[0] -= np.linalg.norm(u, ord = 2)\n",
    "        v = u/np.linalg.norm(u, ord = 2)\n",
    "        v_mat.append(v)\n",
    "        \n",
    "        #Calculating Q only to get next iteration\n",
    "        Q = np.identity(m)\n",
    "        Q[i:, i:] = calculate_Hausholder(v)\n",
    "        \n",
    "        A = np.matmul(Q, A)\n",
    "\n",
    "    #Storing v_i's\n",
    "    for i in range(m-1):\n",
    "        A[i+1:, i] = np.array(v_mat[i])[:-1]\n",
    "        \n",
    "    return A"
   ]
  },
  {
   "cell_type": "markdown",
   "id": "1e84f777",
   "metadata": {},
   "source": [
    "Problem 6, part c: Extracting Q from result of Hausholder_qr"
   ]
  },
  {
   "cell_type": "code",
   "execution_count": 112,
   "id": "af5c3e98",
   "metadata": {},
   "outputs": [
    {
     "data": {
      "text/plain": [
       "array([[ 14.        ,  21.        , -14.        ],\n",
       "       [ -0.26726124, 175.        , -70.        ],\n",
       "       [  0.80178373,  -0.8       , -35.        ]])"
      ]
     },
     "execution_count": 112,
     "metadata": {},
     "output_type": "execute_result"
    }
   ],
   "source": [
    "A = np.array([[12, -51, 4],\n",
    "                [6, 167, -68],\n",
    "                [-4, 24, -41]])\n",
    "\n",
    "A = hausholder_qr(A)\n",
    "A"
   ]
  },
  {
   "cell_type": "code",
   "execution_count": 131,
   "id": "15cc714d",
   "metadata": {},
   "outputs": [
    {
     "data": {
      "text/plain": [
       "array([[ 3.,  2., -6.],\n",
       "       [ 2.,  6.,  3.],\n",
       "       [-6.,  3., -2.]])"
      ]
     },
     "execution_count": 131,
     "metadata": {},
     "output_type": "execute_result"
    }
   ],
   "source": [
    "#Should have a function to recover each Q_i\n",
    "#then multiply them together in a separate funciton\n",
    "\n",
    "v_1 = np.zeros(A.shape[0])\n",
    "v_1[1:] = A[1:, 0]\n",
    "v_1[0] = np.sqrt(1 - np.linalg.norm(v_1, ord = 2)**2)\n",
    "H = calculate_Hausholder(v_1)"
   ]
  },
  {
   "cell_type": "code",
   "execution_count": 155,
   "id": "13414551",
   "metadata": {},
   "outputs": [],
   "source": [
    "def recover_Qis(A: np.ndarray):\n",
    "    \"\"\"\n",
    "    Calculates all Q_is from a Hausholder applied matrix A.\n",
    "    \n",
    "    Parameters\n",
    "    ----------\n",
    "    \n",
    "    A : np.ndarray\n",
    "        The matrix on which Hausholder QR has been performed\n",
    "        \n",
    "    Returns\n",
    "    -------\n",
    "    Qis : list(np.ndarray)\n",
    "        A list containing all Q's \n",
    "    \"\"\"\n",
    "    Qis = []\n",
    "    \n",
    "    m, n = A.shape\n",
    "    \n",
    "    for i in range(n - 1):\n",
    "        v = np.zeros(m - i)\n",
    "        v[1:] = A[i+1:, i]\n",
    "        v[0] = np.sqrt(1 - np.linalg.norm(v, ord = 2)**2)\n",
    "        Q = np.identity(m)\n",
    "        Q[i:, i:] = calculate_Hausholder(v)\n",
    "        Qis.append(Q)\n",
    "    \n",
    "    return Qis\n",
    "\n",
    "def calculate_Q(A: np.ndarray):\n",
    "    \"\"\"\n",
    "    Returns the orthonormal matrix Q from the matrix A after Hausholder QR \n",
    "    is applied.\n",
    "    \n",
    "    Parameters\n",
    "    ----------\n",
    "    \n",
    "    A : np.ndarray\n",
    "        The matrix on which Hausholder QR has been performed\n",
    "\n",
    "    Returns\n",
    "    -------    \n",
    "    \n",
    "    Q: np.ndarray\n",
    "        The orthonormal matrix involved in QR\n",
    "    \"\"\"\n",
    "    \n",
    "    Qis = recover_Qis(A)\n",
    "    Q = np.identity(Qis[0].shape[0])\n",
    "    for Qi in Qis:\n",
    "        Q = np.matmul(Q, Qi.T)\n",
    "        \n",
    "    return Q"
   ]
  },
  {
   "cell_type": "code",
   "execution_count": 154,
   "id": "43668a6d",
   "metadata": {},
   "outputs": [
    {
     "data": {
      "text/plain": [
       "array([[ 0.42857143, -0.74285714,  0.51428571],\n",
       "       [ 0.28571429,  0.65142857,  0.70285714],\n",
       "       [-0.85714286, -0.15428571,  0.49142857]])"
      ]
     },
     "execution_count": 154,
     "metadata": {},
     "output_type": "execute_result"
    }
   ],
   "source": [
    "A = np.array([[12, -51, 4],\n",
    "                [6, 167, -68],\n",
    "                [-4, 24, -41]])\n",
    "\n",
    "A = hausholder_qr(A)\n",
    "\n",
    "calculate_Q(A)"
   ]
  },
  {
   "cell_type": "code",
   "execution_count": 150,
   "id": "a17b15a7",
   "metadata": {},
   "outputs": [
    {
     "data": {
      "text/plain": [
       "1.1102230246251565e-16"
      ]
     },
     "execution_count": 150,
     "metadata": {},
     "output_type": "execute_result"
    }
   ],
   "source": []
  }
 ],
 "metadata": {
  "kernelspec": {
   "display_name": "Python 3 (ipykernel)",
   "language": "python",
   "name": "python3"
  },
  "language_info": {
   "codemirror_mode": {
    "name": "ipython",
    "version": 3
   },
   "file_extension": ".py",
   "mimetype": "text/x-python",
   "name": "python",
   "nbconvert_exporter": "python",
   "pygments_lexer": "ipython3",
   "version": "3.10.11"
  }
 },
 "nbformat": 4,
 "nbformat_minor": 5
}
