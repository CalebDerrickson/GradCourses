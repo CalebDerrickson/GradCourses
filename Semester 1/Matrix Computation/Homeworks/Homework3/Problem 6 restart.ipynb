{
 "cells": [
  {
   "cell_type": "code",
   "execution_count": 1,
   "id": "1945ea41",
   "metadata": {},
   "outputs": [],
   "source": [
    "import numpy as np\n",
    "import matplotlib.pyplot as plt\n",
    "import math\n",
    "from typing import Union"
   ]
  },
  {
   "cell_type": "code",
   "execution_count": 2,
   "id": "1c3e432f",
   "metadata": {},
   "outputs": [],
   "source": [
    "def get_Van_b():\n",
    "    \"\"\"\n",
    "    Gets the Vandermonde matrix and b we are considering.\n",
    "    \n",
    "    \"\"\"\n",
    "    n = 15\n",
    "    m = 100\n",
    "\n",
    "    alphas = np.array([i/(m - 1) for i in range(m)])\n",
    "    \n",
    "    Van = np.ndarray((m, n))\n",
    "    for i in range(m):\n",
    "        for j in range(n):\n",
    "            Van[i, j] = alphas[i]**j\n",
    "    b = np.zeros(m)\n",
    "    for i in range(m):\n",
    "        b[i] = math.exp(math.sin(4 * alphas[i]))\n",
    "        \n",
    "    return Van, b\n",
    "\n",
    "Van, b = get_Van_b()"
   ]
  },
  {
   "cell_type": "code",
   "execution_count": 13,
   "id": "77babb7e",
   "metadata": {},
   "outputs": [],
   "source": [
    "def back_substitution(A: np.ndarray, b: np.ndarray) -> np.ndarray:\n",
    "    n = b.size\n",
    "    x = np.zeros_like(b)\n",
    "\n",
    "    if A[n-1, n-1] == 0:\n",
    "        raise ValueError\n",
    "\n",
    "\n",
    "    x[n-1] = b[n-1]/A[n-1, n-1]\n",
    "    C = np.zeros((n,n))\n",
    "    for i in range(n-2, -1, -1):\n",
    "        bb = 0\n",
    "        for j in range (i+1, n):\n",
    "            bb += A[i, j]*x[j]\n",
    "\n",
    "        C[i, i] = b[i] - bb\n",
    "        x[i] = C[i, i]/A[i, i]\n",
    "\n",
    "    return x\n",
    "\n",
    "def my_qr(A: np.ndarray):\n",
    "        \"\"\"\n",
    "        Returns the QR factorization of a nonsingular array\n",
    "        via (classical) Gram-Schmidt.\n",
    "\n",
    "        Parameters\n",
    "        ----------\n",
    "        A: np.ndarray\n",
    "            The matrix with which we find the QR factorization.\n",
    "            Must be nonsingular, sized n x n\n",
    "\n",
    "        Returns\n",
    "        -------\n",
    "        Q: np.ndarray\n",
    "            A set of orthonormal column vectors of size n x n\n",
    "\n",
    "        R: np.ndarray\n",
    "            An upper triangular matrix\n",
    "        \"\"\"\n",
    "        m, n = A.shape\n",
    "        Q = np.zeros((m, m))\n",
    "        R = np.zeros((m, n))\n",
    "\n",
    "        for i in range(0, n): #Row Iter\n",
    "            prev = 0 # used to catch r_{jk}q_j in sum\n",
    "            for j in range(0, i+1): # maintain upper triangularity\n",
    "                if i != j:\n",
    "                    R[j, i] = np.dot(Q[:, j], A[:, i])\n",
    "                    prev += R[j, i] * Q[:, j]\n",
    "                else: #Diagonal term, take prev\n",
    "                    R[i, i] = np.linalg.norm(A[:, i] - prev, ord = 2)\n",
    "                    assert R[i, i] != 0, \"Diagonal is zero, function cannot continue\"\n",
    "                    Q[:, j] = (1/R[i, i]) * (A[:, i] - prev)\n",
    "    \n",
    "        return (Q, R)"
   ]
  },
  {
   "cell_type": "code",
   "execution_count": 4,
   "id": "f3c5b81f",
   "metadata": {},
   "outputs": [],
   "source": [
    "def calculate_Hausholder(v: np.array):\n",
    "    \"\"\"\n",
    "    Helper function to calculate the Hausholder matrix from v.\n",
    "    \n",
    "    Parameters\n",
    "    ----------\n",
    "    v : np.array\n",
    "        The given vector. Needs to be normalized prior to passing.\n",
    "        \n",
    "    Returns\n",
    "    -------\n",
    "    H : np.ndarray\n",
    "        The Hausholder matrix of v.\n",
    "    \"\"\"\n",
    "    H = np.identity(max(v.shape)) - 2*np.outer(v, v)\n",
    "    return H\n",
    "\n",
    "def recover_Qis(A: np.ndarray):\n",
    "    \"\"\"\n",
    "    Calculates all Q_is from a Hausholder applied matrix A.\n",
    "    \n",
    "    Parameters\n",
    "    ----------\n",
    "    \n",
    "    A : np.ndarray\n",
    "        The matrix on which Hausholder QR has been performed\n",
    "        \n",
    "    Returns\n",
    "    -------\n",
    "    Qis : list(np.ndarray)\n",
    "        A list containing all Q's \n",
    "    \"\"\"\n",
    "    Qis = []\n",
    "    \n",
    "    m, n = A.shape\n",
    "    \n",
    "    for i in range(n):\n",
    "        v = A[i+1:, i].copy()\n",
    "        Q = np.identity(m-1)\n",
    "        Q[i:, i:] = calculate_Hausholder(v)\n",
    "        Qis.append(Q)\n",
    "    \n",
    "    return Qis\n",
    "\n",
    "def calculate_Q(A: np.ndarray):\n",
    "    \"\"\"\n",
    "    Returns the orthonormal matrix Q from the matrix A after Hausholder QR \n",
    "    is applied.\n",
    "    \n",
    "    Parameters\n",
    "    ----------\n",
    "    \n",
    "    A : np.ndarray\n",
    "        The matrix on which Hausholder QR has been performed\n",
    "\n",
    "    Returns\n",
    "    -------    \n",
    "    \n",
    "    Q: np.ndarray\n",
    "        The orthonormal matrix involved in QR\n",
    "    \"\"\"\n",
    "    \n",
    "    Qis = recover_Qis(A.copy())\n",
    "    Q = np.identity(Qis[0].shape[0])\n",
    "    for Qi in Qis:\n",
    "        Q = np.matmul(Q, Qi.T)\n",
    "        \n",
    "    return Q\n",
    "\n",
    "\n",
    "def householder_vectorized(a):\n",
    "    \"\"\"Use this version of householder to reproduce the output of np.linalg.qr \n",
    "    exactly (specifically, to match the sign convention it uses)\n",
    "    \n",
    "    based on https://rosettacode.org/wiki/QR_decomposition#Python\n",
    "    \"\"\"\n",
    "    v = a / (a[0] + np.copysign(np.linalg.norm(a), a[0]))\n",
    "    v[0] = 1\n",
    "    tau = 2 / (v.T @ v)\n",
    "    \n",
    "    return v,tau\n",
    "\n",
    "def qr_decomposition(A: np.ndarray) -> Union[np.ndarray, np.ndarray]:\n",
    "    m,n = A.shape\n",
    "    R = A.copy()\n",
    "    Q = np.identity(m)\n",
    "    \n",
    "    for j in range(0, n):\n",
    "        # Apply Householder transformation.\n",
    "        v, tau = householder_vectorized(R[j:, j, np.newaxis])\n",
    "        \n",
    "        H = np.identity(m)\n",
    "        H[j:, j:] -= tau * (v @ v.T)\n",
    "        R = H @ R\n",
    "        Q = H @ Q\n",
    "        \n",
    "    return Q[:n].T, np.triu(R[:n])"
   ]
  },
  {
   "cell_type": "code",
   "execution_count": 14,
   "id": "8609cc2e",
   "metadata": {},
   "outputs": [
    {
     "name": "stdout",
     "output_type": "stream",
     "text": [
      "HausHolder Approximate solution to c_14: 2006.7870665592704 \n",
      "Gram Schmidt Approximate solution to c_14: 1.0996800275618446\n"
     ]
    }
   ],
   "source": [
    "n = 15\n",
    "m = 100\n",
    "\n",
    "#Calcualting QR\n",
    "Q_HH, R_HH = qr_decomposition(Van)\n",
    "Q_GS, R_GS = my_qr(Van)\n",
    "\n",
    "#Take nonzero rows of R. Since Van is full rank, will be n rows\n",
    "R_HH = np.array([x for x in R_HH if x.any() != 0])\n",
    "\n",
    "#Check if I did it right\n",
    "assert R_HH.shape == (n, n), \"Oops\"\n",
    "\n",
    "c = np.matmul(Q_HH[:, :n].T, b)\n",
    "\n",
    "#Solution to part i \n",
    "x_soli = back_substitution(R_HH, c)\n",
    "print(\"HausHolder Approximate solution to c_14: {} \".format(x_soli[-1]))\n",
    "\n",
    "\n",
    "\n",
    "\n",
    "#Take nonzero rows of R. Since Van is full rank, will be n rows\n",
    "R_GS = np.array([x for x in R_GS if x.any() != 0])\n",
    "\n",
    "#Check if I did it right\n",
    "assert R_GS.shape == (n, n), \"Oops\"\n",
    "\n",
    "c = np.matmul(Q_GS[:, :n].T, b)\n",
    "x_soli = back_substitution(R_GS, c)\n",
    "print(\"Gram Schmidt Approximate solution to c_14: {}\".format(x_soli[-1]))"
   ]
  },
  {
   "cell_type": "code",
   "execution_count": 28,
   "id": "58253c59",
   "metadata": {},
   "outputs": [
    {
     "data": {
      "text/plain": [
       "array([[0.        , 0.        , 0.        , ..., 0.        , 0.        ,\n",
       "        1.        ],\n",
       "       [0.        , 0.        , 0.        , ..., 0.        , 0.        ,\n",
       "        1.04121994],\n",
       "       [0.        , 0.        , 0.        , ..., 0.        , 0.        ,\n",
       "        1.08406749],\n",
       "       ...,\n",
       "       [0.        , 0.        , 0.        , ..., 0.        , 0.        ,\n",
       "        0.49580594],\n",
       "       [0.        , 0.        , 0.        , ..., 0.        , 0.        ,\n",
       "        0.48201397],\n",
       "       [0.        , 0.        , 0.        , ..., 0.        , 0.        ,\n",
       "        0.46916419]])"
      ]
     },
     "execution_count": 28,
     "metadata": {},
     "output_type": "execute_result"
    }
   ],
   "source": [
    "test = np.append(Van,b.reshape((b.shape[0],1)) ,1)\n"
   ]
  },
  {
   "cell_type": "code",
   "execution_count": 60,
   "id": "8299f8dc",
   "metadata": {},
   "outputs": [
    {
     "name": "stdout",
     "output_type": "stream",
     "text": [
      "HausHolder Approximate solution to c_14: 2006.7870664971297 \n",
      "Gram Schmidt Approximate solution to c_14: 1.0996800275618466\n"
     ]
    }
   ],
   "source": [
    "n = 15\n",
    "m = 100\n",
    "aug_A = np.append(Van,b.reshape((b.shape[0],1)) ,1)\n",
    "\n",
    "#Calcualting QR\n",
    "Q_HH, R_HH = qr_decomposition(aug_A)\n",
    "Q_GS, R_GS = my_qr(aug_A)\n",
    "\n",
    "c = R_HH[:-1, -1]\n",
    "R_aug = R_HH[:-1, :-1]\n",
    "\n",
    "x_solii = back_substitution(R_aug, c)\n",
    "print(\"HausHolder Approximate solution to c_14: {} \".format(x_solii[-1]))\n",
    "\n",
    "c = R_GS[:n, -1]\n",
    "R_aug = R_GS[:n, :-1]\n",
    "#R_aug = np.array([x for x in R_aug if x.any() != 0])\n",
    "#c = np.array([x for x in c if x != 0])[:-1]\n",
    "\n",
    "x_solii = back_substitution(R_aug, c)\n",
    "print(\"Gram Schmidt Approximate solution to c_14: {}\".format(x_solii[-1]))"
   ]
  },
  {
   "cell_type": "code",
   "execution_count": 64,
   "id": "dfd5c603",
   "metadata": {},
   "outputs": [
    {
     "name": "stderr",
     "output_type": "stream",
     "text": [
      "C:\\Users\\Caleb\\AppData\\Local\\Temp\\ipykernel_18660\\1155873295.py:4: FutureWarning: `rcond` parameter will change to the default of machine precision times ``max(M, N)`` where M and N are the input matrix dimensions.\n",
      "To use the future default and silence this warning we advise to pass `rcond=None`, to keep using the old, explicitly pass `rcond=-1`.\n",
      "  x_soliii = np.linalg.lstsq(A_n, b_n)\n"
     ]
    },
    {
     "data": {
      "text/plain": [
       "(array([ 1.00038598e+00,  3.92939758e+00,  1.03781703e+01, -3.14293464e+01,\n",
       "         1.71316034e+02, -7.50575741e+02,  1.05210568e+03, -4.21696434e+01,\n",
       "        -7.27569504e+02, -7.67640457e+01,  4.71729295e+02,  1.88371692e+02,\n",
       "        -2.64200790e+02, -9.02151071e+01,  8.45629808e+01]),\n",
       " array([], dtype=float64),\n",
       " 12,\n",
       " array([1.88115618e+02, 4.46200809e+01, 6.04091055e+00, 6.01275934e-01,\n",
       "        4.70495215e-02, 2.95724644e-03, 1.50423955e-04, 6.18925596e-06,\n",
       "        2.04563950e-07, 5.35639315e-09, 1.08606530e-10, 1.64386741e-12,\n",
       "        1.74658929e-14, 1.06985369e-15, 5.74470067e-16]))"
      ]
     },
     "execution_count": 64,
     "metadata": {},
     "output_type": "execute_result"
    }
   ],
   "source": [
    "\n",
    "\n",
    "x_soliii = np.linalg.lstsq(A_n, b_n)\n",
    "x_soliii"
   ]
  },
  {
   "cell_type": "code",
   "execution_count": 73,
   "id": "5a4fd263",
   "metadata": {},
   "outputs": [
    {
     "name": "stdout",
     "output_type": "stream",
     "text": [
      "HausHolder Approximate solution to c_14: 5004.537912368087 \n",
      "Gram Schmidt Approximate solution to c_14: -73024.29641227845\n"
     ]
    }
   ],
   "source": [
    "A_n = Van.T @ Van\n",
    "b_n = Van.T @b\n",
    "\n",
    "Q_nHH, R_nHH = qr_decomposition(A_n)\n",
    "Q_nGS, R_nGS = my_qr(A_n)\n",
    "\n",
    "A_p = np.linalg.inv(R_nHH) @ Q_nHH[:n, :].T\n",
    "\n",
    "x_soliii = np.linalg.solve(A_p, b_n)\n",
    "print(\"HausHolder Approximate solution to c_14: {} \".format(x_soliii[-1]))\n",
    "A_p = np.linalg.inv(R_nGS) @ Q_nGS[:n, :].T\n",
    "\n",
    "x_soliii = np.linalg.solve(A_p, b_n)\n",
    "print(\"Gram Schmidt Approximate solution to c_14: {}\".format(x_soliii[-1]))\n"
   ]
  }
 ],
 "metadata": {
  "kernelspec": {
   "display_name": "Python 3 (ipykernel)",
   "language": "python",
   "name": "python3"
  },
  "language_info": {
   "codemirror_mode": {
    "name": "ipython",
    "version": 3
   },
   "file_extension": ".py",
   "mimetype": "text/x-python",
   "name": "python",
   "nbconvert_exporter": "python",
   "pygments_lexer": "ipython3",
   "version": "3.10.11"
  }
 },
 "nbformat": 4,
 "nbformat_minor": 5
}
