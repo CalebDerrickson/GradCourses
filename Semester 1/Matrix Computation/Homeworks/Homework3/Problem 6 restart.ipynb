{
 "cells": [
  {
   "cell_type": "code",
   "execution_count": 4,
   "id": "1945ea41",
   "metadata": {},
   "outputs": [],
   "source": [
    "import numpy as np\n",
    "import matplotlib.pyplot as plt\n",
    "import math\n",
    "from typing import Union"
   ]
  },
  {
   "cell_type": "code",
   "execution_count": 12,
   "id": "1c3e432f",
   "metadata": {},
   "outputs": [],
   "source": [
    "def get_Van_b():\n",
    "    \"\"\"\n",
    "    Gets the Vandermonde matrix and b we are considering.\n",
    "    \n",
    "    \"\"\"\n",
    "    n = 15\n",
    "    m = 100\n",
    "\n",
    "    alphas = np.array([i/(m - 1) for i in range(m)])\n",
    "    \n",
    "    Van = np.ndarray((m, n))\n",
    "    for i in range(m):\n",
    "        for j in range(n):\n",
    "            Van[i, j] = alphas[i]**j\n",
    "    b = np.zeros(m)\n",
    "    for i in range(m):\n",
    "        b[i] = math.exp(math.sin(4 * alphas[i]))\n",
    "        \n",
    "    return Van, b\n",
    "\n",
    "Van, b = get_Van_b()"
   ]
  },
  {
   "cell_type": "code",
   "execution_count": 9,
   "id": "77babb7e",
   "metadata": {},
   "outputs": [],
   "source": [
    "def back_substitution(A: np.ndarray, b: np.ndarray) -> np.ndarray:\n",
    "    n = b.size\n",
    "    x = np.zeros_like(b)\n",
    "\n",
    "    if A[n-1, n-1] == 0:\n",
    "        raise ValueError\n",
    "\n",
    "\n",
    "    x[n-1] = b[n-1]/A[n-1, n-1]\n",
    "    C = np.zeros((n,n))\n",
    "    for i in range(n-2, -1, -1):\n",
    "        bb = 0\n",
    "        for j in range (i+1, n):\n",
    "            bb += A[i, j]*x[j]\n",
    "\n",
    "        C[i, i] = b[i] - bb\n",
    "        x[i] = C[i, i]/A[i, i]\n",
    "\n",
    "    return x"
   ]
  },
  {
   "cell_type": "code",
   "execution_count": 80,
   "id": "f3c5b81f",
   "metadata": {},
   "outputs": [],
   "source": [
    "def calculate_Hausholder(v: np.array):\n",
    "    \"\"\"\n",
    "    Helper function to calculate the Hausholder matrix from v.\n",
    "    \n",
    "    Parameters\n",
    "    ----------\n",
    "    v : np.array\n",
    "        The given vector. Needs to be normalized prior to passing.\n",
    "        \n",
    "    Returns\n",
    "    -------\n",
    "    H : np.ndarray\n",
    "        The Hausholder matrix of v.\n",
    "    \"\"\"\n",
    "    H = np.identity(max(v.shape)) - 2*np.outer(v, v)\n",
    "    return H\n",
    "\n",
    "def recover_Qis(A: np.ndarray):\n",
    "    \"\"\"\n",
    "    Calculates all Q_is from a Hausholder applied matrix A.\n",
    "    \n",
    "    Parameters\n",
    "    ----------\n",
    "    \n",
    "    A : np.ndarray\n",
    "        The matrix on which Hausholder QR has been performed\n",
    "        \n",
    "    Returns\n",
    "    -------\n",
    "    Qis : list(np.ndarray)\n",
    "        A list containing all Q's \n",
    "    \"\"\"\n",
    "    Qis = []\n",
    "    \n",
    "    m, n = A.shape\n",
    "    \n",
    "    for i in range(n):\n",
    "        v = A[i+1:, i].copy()\n",
    "        Q = np.identity(m-1)\n",
    "        Q[i:, i:] = calculate_Hausholder(v)\n",
    "        Qis.append(Q)\n",
    "    \n",
    "    return Qis\n",
    "\n",
    "def calculate_Q(A: np.ndarray):\n",
    "    \"\"\"\n",
    "    Returns the orthonormal matrix Q from the matrix A after Hausholder QR \n",
    "    is applied.\n",
    "    \n",
    "    Parameters\n",
    "    ----------\n",
    "    \n",
    "    A : np.ndarray\n",
    "        The matrix on which Hausholder QR has been performed\n",
    "\n",
    "    Returns\n",
    "    -------    \n",
    "    \n",
    "    Q: np.ndarray\n",
    "        The orthonormal matrix involved in QR\n",
    "    \"\"\"\n",
    "    \n",
    "    Qis = recover_Qis(A.copy())\n",
    "    Q = np.identity(Qis[0].shape[0])\n",
    "    for Qi in Qis:\n",
    "        Q = np.matmul(Q, Qi.T)\n",
    "        \n",
    "    return Q\n",
    "\n",
    "\n",
    "def householder_vectorized(a):\n",
    "    \"\"\"Use this version of householder to reproduce the output of np.linalg.qr \n",
    "    exactly (specifically, to match the sign convention it uses)\n",
    "    \n",
    "    based on https://rosettacode.org/wiki/QR_decomposition#Python\n",
    "    \"\"\"\n",
    "    v = a / (a[0] + np.copysign(np.linalg.norm(a), a[0]))\n",
    "    v[0] = 1\n",
    "    tau = 2 / (v.T @ v)\n",
    "    \n",
    "    return v,tau\n",
    "\n",
    "def qr_decomposition(A: np.ndarray) -> Union[np.ndarray, np.ndarray]:\n",
    "    m,n = A.shape\n",
    "    R = A.copy()\n",
    "    Q = np.identity(m)\n",
    "    \n",
    "    for j in range(0, n):\n",
    "        # Apply Householder transformation.\n",
    "        v, tau = householder_vectorized(R[j:, j, np.newaxis])\n",
    "        \n",
    "        H = np.identity(m)\n",
    "        H[j:, j:] -= tau * (v @ v.T)\n",
    "        R = H @ R\n",
    "        Q = H @ Q\n",
    "        \n",
    "    return Q[:n].T, np.triu(R[:n])"
   ]
  },
  {
   "cell_type": "code",
   "execution_count": 90,
   "id": "8609cc2e",
   "metadata": {},
   "outputs": [
    {
     "data": {
      "text/plain": [
       "array([[False, False, False, ..., False, False, False],\n",
       "       [False, False, False, ..., False, False, False],\n",
       "       [False, False, False, ..., False, False, False],\n",
       "       ...,\n",
       "       [False, False, False, ..., False, False, False],\n",
       "       [False, False, False, ..., False, False, False],\n",
       "       [False, False, False, ..., False, False, False]])"
      ]
     },
     "execution_count": 90,
     "metadata": {},
     "output_type": "execute_result"
    }
   ],
   "source": [
    "n = 15\n",
    "m = 100\n",
    "\n",
    "#Calcualting QR\n",
    "A = qr_decomposition_haus(Van)\n",
    "Q = calculate_Q(A)\n",
    "Q = Q[:, :n]\n",
    "Q_C, R_C = np.linalg.qr(Van)\n",
    "\n",
    "R = np.triu(A)\n",
    "\n",
    "#Take nonzero rows of R. Since Van is full rank, will be n rows\n",
    "R = np.array([x for x in R if x.any() != 0])\n",
    "\n",
    "#Check if I did it right\n",
    "assert R.shape == (n, n), \"Oops\"\n",
    "\n",
    "abs(Q_C - Q) < 0.01"
   ]
  },
  {
   "cell_type": "code",
   "execution_count": 89,
   "id": "8299f8dc",
   "metadata": {},
   "outputs": [
    {
     "data": {
      "text/plain": [
       "array([[-1.        , -0.40737074, -0.55755301, ..., -0.16767204,\n",
       "        -0.14889781, -0.0196807 ],\n",
       "       [-0.18181818, -1.0370337 , -0.41555122, ...,  0.1904221 ,\n",
       "         0.2193933 ,  0.43897979],\n",
       "       [-0.18181818, -0.29555537, -1.09784934, ..., -0.43582459,\n",
       "        -0.40509359, -0.20199975],\n",
       "       ...,\n",
       "       [-0.18181818,  0.27559715, -0.34228511, ...,  0.34169551,\n",
       "        -0.57052107,  0.0503285 ],\n",
       "       [-0.18181818,  0.28160929, -0.36460823, ..., -0.55847513,\n",
       "         0.33559426, -0.44313711],\n",
       "       [-0.18181818,  0.28762142, -0.38739918, ...,  0.10003157,\n",
       "        -0.37042923, -0.6024131 ]])"
      ]
     },
     "execution_count": 89,
     "metadata": {},
     "output_type": "execute_result"
    }
   ],
   "source": [
    "Q"
   ]
  },
  {
   "cell_type": "code",
   "execution_count": 91,
   "id": "4404442b",
   "metadata": {},
   "outputs": [
    {
     "name": "stdout",
     "output_type": "stream",
     "text": [
      "Approximate solution to c_14: -11722843.91526459 \n"
     ]
    }
   ],
   "source": [
    "c = np.matmul(Q[:, :n].T, b)\n",
    "\n",
    "#Solution to part i \n",
    "x_soli = back_substitution(R, c)\n",
    "print(\"Approximate solution to c_14: {} \".format(x_soli[-1]))"
   ]
  }
 ],
 "metadata": {
  "kernelspec": {
   "display_name": "Python 3 (ipykernel)",
   "language": "python",
   "name": "python3"
  },
  "language_info": {
   "codemirror_mode": {
    "name": "ipython",
    "version": 3
   },
   "file_extension": ".py",
   "mimetype": "text/x-python",
   "name": "python",
   "nbconvert_exporter": "python",
   "pygments_lexer": "ipython3",
   "version": "3.10.11"
  }
 },
 "nbformat": 4,
 "nbformat_minor": 5
}
