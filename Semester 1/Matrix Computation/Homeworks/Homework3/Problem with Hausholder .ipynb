{
 "cells": [
  {
   "cell_type": "code",
   "execution_count": 22,
   "id": "c0ace44f",
   "metadata": {},
   "outputs": [],
   "source": [
    "import numpy as np\n",
    "from typing import Union\n",
    "import matplotlib.pyplot as plt\n",
    "import math"
   ]
  },
  {
   "cell_type": "code",
   "execution_count": 91,
   "id": "bc587818",
   "metadata": {},
   "outputs": [],
   "source": [
    "#From Stack overflow, \n",
    "#https://stackoverflow.com/questions/53489237/how-can-you-implement-householder-based-qr-decomposition-in-python\n",
    "def householder_vectorized(a):\n",
    "    \"\"\"Use this version of householder to reproduce the output of np.linalg.qr \n",
    "    exactly (specifically, to match the sign convention it uses)\n",
    "    \n",
    "    based on https://rosettacode.org/wiki/QR_decomposition#Python\n",
    "    \"\"\"\n",
    "    v = a / (a[0] + np.copysign(np.linalg.norm(a), a[0]))\n",
    "    v[0] = 1\n",
    "    tau = 2 / np.linalg.norm(v, ord = 2)\n",
    "    \n",
    "    return v,tau\n",
    "\n",
    "def qr_decomposition(A: np.ndarray) -> Union[np.ndarray, np.ndarray]:\n",
    "    m,n = A.shape\n",
    "    R = A.copy()\n",
    "    Q = np.identity(m)\n",
    "    \n",
    "    for j in range(0, n):\n",
    "        # Apply Householder transformation.\n",
    "        v, tau = householder_vectorized(R[j:, j, np.newaxis])\n",
    "        \n",
    "        H = np.identity(m)\n",
    "        H[j:, j:] -= tau * (v @ v.T)\n",
    "        R = H @ R\n",
    "        Q = H @ Q\n",
    "\n",
    "    return Q[:n].T, np.triu(R[:n])"
   ]
  },
  {
   "cell_type": "code",
   "execution_count": 67,
   "id": "51a60446",
   "metadata": {},
   "outputs": [],
   "source": [
    "def calculate_householder_temp(v, j, m):\n",
    "    \"\"\"Use this version of householder to reproduce the output of np.linalg.qr \n",
    "    exactly (specifically, to match the sign convention it uses)\n",
    "    \n",
    "    based on https://rosettacode.org/wiki/QR_decomposition#Python\n",
    "    \"\"\"\n",
    "    u = v / (v[0] + np.copysign(np.linalg.norm(v), v[0]))\n",
    "    u[0] = 1\n",
    "    \n",
    "    H = np.identity(m)\n",
    "    H[j:, j:] -= (2/np.linalg.norm(u, ord=2)) * np.outer(u, u)\n",
    "    \n",
    "    return H\n",
    "\n",
    "def qr_decomposition_temp(A: np.ndarray) -> Union[np.ndarray, np.ndarray]:\n",
    "    m, n = A.shape\n",
    "    R = A.copy()\n",
    "    Q = np.identity(m)\n",
    "    \n",
    "    for j in range(0, n):\n",
    "        # Apply Householder transformation.\n",
    "        Hit = calculate_householder_temp(R[j:, j, np.newaxis], j, m)\n",
    "\n",
    "        # Update the submatrix R[j:, :]\n",
    "        R[j:, :] = np.matmul(Hit, R[j:, :])\n",
    "\n",
    "        # Update Q\n",
    "        Q = np.matmul(Hit, Q)\n",
    "\n",
    "    return Q[:n].T, np.triu(R[:n])"
   ]
  },
  {
   "cell_type": "code",
   "execution_count": 102,
   "id": "df99d2bf",
   "metadata": {},
   "outputs": [],
   "source": [
    "A = np.array([[12, -51, 4, 12],\n",
    "                [6, 167, -68, 43],\n",
    "                [-4, 24, -41, 85],\n",
    "                [1, 0.1, -6, 451]])\n",
    "HH = hausholder_qr(A)\n",
    "R_HH = np.triu(HH)\n",
    "R_HH = np.array([x for x in R_HH if x.any() != 0])\n",
    "Q_HH = calculate_Q(HH)\n",
    "Q, R = qr_decomposition(A)\n",
    "Q_C, R_C = np.linalg.qr(A)"
   ]
  },
  {
   "cell_type": "code",
   "execution_count": 103,
   "id": "57f5acf8",
   "metadata": {},
   "outputs": [
    {
     "data": {
      "text/plain": [
       "array([[False, False, False, False],\n",
       "       [False,  True, False, False],\n",
       "       [False, False, False, False],\n",
       "       [False,  True,  True, False]])"
      ]
     },
     "execution_count": 103,
     "metadata": {},
     "output_type": "execute_result"
    }
   ],
   "source": [
    "abs(Q_C - Q) < 0.001"
   ]
  },
  {
   "cell_type": "code",
   "execution_count": 104,
   "id": "e2c02e84",
   "metadata": {},
   "outputs": [
    {
     "data": {
      "text/plain": [
       "array([[False, False, False, False],\n",
       "       [ True, False, False, False],\n",
       "       [ True,  True, False, False],\n",
       "       [ True,  True,  True, False]])"
      ]
     },
     "execution_count": 104,
     "metadata": {},
     "output_type": "execute_result"
    }
   ],
   "source": [
    "abs(R_C - R) < 0.01"
   ]
  },
  {
   "cell_type": "code",
   "execution_count": 105,
   "id": "58b1abe3",
   "metadata": {},
   "outputs": [
    {
     "data": {
      "image/png": "[encoded data removed]",
      "text/plain": [
       "<Figure size 640x480 with 2 Axes>"
      ]
     },
     "metadata": {},
     "output_type": "display_data"
    }
   ],
   "source": [
    "Q_C, R_C = np.linalg.qr(Van)\n",
    "Q, R = qr_decomposition(Van)\n",
    "\n",
    "plt_arr1 = abs(Q_C - Q) < 0.0001\n",
    "plt_arr2 = abs(R_C - R) < 0.0001\n",
    "\n",
    "\n",
    "plt.subplot(1, 2, 1)\n",
    "plt.imshow(plt_arr1, cmap='Greys',  interpolation='nearest')\n",
    "plt.title(\"True = black, False = white\")\n",
    "plt.subplot(1, 2, 2)\n",
    "plt.imshow(plt_arr2, cmap='Greys',  interpolation='nearest')\n",
    "plt.title(\"True = black, False = white\")\n",
    "\n",
    "plt.tight_layout(pad = 5)"
   ]
  },
  {
   "cell_type": "code",
   "execution_count": 108,
   "id": "5b074dfb",
   "metadata": {},
   "outputs": [
    {
     "ename": "ValueError",
     "evalue": "matmul: Input operand 1 has a mismatch in its core dimension 0, with gufunc signature (n?,k),(k,m?)->(n?,m?) (size 100 is different from 4)",
     "output_type": "error",
     "traceback": [
      "\u001b[1;31m---------------------------------------------------------------------------\u001b[0m",
      "\u001b[1;31mValueError\u001b[0m                                Traceback (most recent call last)",
      "Cell \u001b[1;32mIn[108], line 8\u001b[0m\n\u001b[0;32m      4\u001b[0m Q_HH \u001b[38;5;241m=\u001b[39m calculate_Q(HH)\n\u001b[0;32m      7\u001b[0m n\u001b[38;5;241m=\u001b[39m \u001b[38;5;241m15\u001b[39m\n\u001b[1;32m----> 8\u001b[0m c \u001b[38;5;241m=\u001b[39m \u001b[43mnp\u001b[49m\u001b[38;5;241;43m.\u001b[39;49m\u001b[43mmatmul\u001b[49m\u001b[43m(\u001b[49m\u001b[43mQ_HH\u001b[49m\u001b[43m[\u001b[49m\u001b[43m:\u001b[49m\u001b[43m,\u001b[49m\u001b[43m \u001b[49m\u001b[43m:\u001b[49m\u001b[43mn\u001b[49m\u001b[43m]\u001b[49m\u001b[38;5;241;43m.\u001b[39;49m\u001b[43mT\u001b[49m\u001b[43m,\u001b[49m\u001b[43m \u001b[49m\u001b[43mb\u001b[49m\u001b[43m)\u001b[49m\n\u001b[0;32m      9\u001b[0m d \u001b[38;5;241m=\u001b[39m np\u001b[38;5;241m.\u001b[39mmatmul(Q_HH[:, n:]\u001b[38;5;241m.\u001b[39mT, b) \u001b[38;5;66;03m#Don't think I need to actually compute this\u001b[39;00m\n\u001b[0;32m     11\u001b[0m \u001b[38;5;66;03m#Solution to part i \u001b[39;00m\n",
      "\u001b[1;31mValueError\u001b[0m: matmul: Input operand 1 has a mismatch in its core dimension 0, with gufunc signature (n?,k),(k,m?)->(n?,m?) (size 100 is different from 4)"
     ]
    }
   ],
   "source": [
    "HH = hausholder_qr(A)\n",
    "R_HH = np.triu(HH)\n",
    "R_HH = np.array([x for x in R_HH if x.any() != 0])\n",
    "Q_HH = calculate_Q(HH)\n",
    "\n",
    "\n",
    "n= 15\n",
    "c = np.matmul(Q_HH[:, :n].T, b)\n",
    "d = np.matmul(Q_HH[:, n:].T, b) #Don't think I need to actually compute this\n",
    "\n",
    "#Solution to part i \n",
    "x_soli = back_substitution(R_HH, c)\n",
    "x_soli[-1]"
   ]
  },
  {
   "cell_type": "code",
   "execution_count": 49,
   "id": "afc652c0",
   "metadata": {},
   "outputs": [
    {
     "name": "stdout",
     "output_type": "stream",
     "text": [
      "[[-0.85714286  0.39428571  0.33142857]\n",
      " [-0.42857143 -0.90285714 -0.03428571]\n",
      " [ 0.28571429 -0.17142857  0.94285714]]\n",
      "[[-0.85714286  0.39428571 -0.33142857]\n",
      " [-0.42857143 -0.90285714  0.03428571]\n",
      " [ 0.28571429 -0.17142857 -0.94285714]]\n"
     ]
    }
   ],
   "source": [
    "print(Q_C) \n",
    "print(Q)"
   ]
  },
  {
   "cell_type": "code",
   "execution_count": 99,
   "id": "36d644f0",
   "metadata": {},
   "outputs": [],
   "source": [
    "def get_Van_b():\n",
    "    \"\"\"\n",
    "    Gets the Vandermonde matrix and b we are considering.\n",
    "    \n",
    "    \"\"\"\n",
    "    n = 15\n",
    "    m = 100\n",
    "\n",
    "    alphas = np.array([i/(m - 1) for i in range(m)])\n",
    "    \n",
    "    Van = np.ndarray((m, n))\n",
    "    for i in range(m):\n",
    "        for j in range(n):\n",
    "            Van[i, j] = alphas[i]**j\n",
    "    b = np.zeros(m)\n",
    "    for i in range(m):\n",
    "        b[i] = math.exp(math.sin(4 * alphas[i]))\n",
    "        \n",
    "    return Van, b\n",
    "\n",
    "Van, b = get_Van_b()"
   ]
  },
  {
   "cell_type": "code",
   "execution_count": null,
   "id": "2af9ac96",
   "metadata": {},
   "outputs": [],
   "source": [
    "def householder_vectorized(a):\n",
    "    \"\"\"Use this version of householder to reproduce the output of np.linalg.qr \n",
    "    exactly (specifically, to match the sign convention it uses)\n",
    "    \n",
    "    based on https://rosettacode.org/wiki/QR_decomposition#Python\n",
    "    \"\"\"\n",
    "    v = a / (a[0] + np.copysign(np.linalg.norm(a), a[0]))\n",
    "    v[0] = 1\n",
    "    tau = 2 / (v.T @ v)\n",
    "    \n",
    "    return v,tau"
   ]
  },
  {
   "cell_type": "code",
   "execution_count": 25,
   "id": "0b3ce435",
   "metadata": {},
   "outputs": [],
   "source": [
    "def back_substitution(A: np.ndarray, b: np.ndarray) -> np.ndarray:\n",
    "    n = b.size\n",
    "    x = np.zeros_like(b)\n",
    "\n",
    "    if A[n-1, n-1] == 0:\n",
    "        raise ValueError\n",
    "\n",
    "\n",
    "    x[n-1] = b[n-1]/A[n-1, n-1]\n",
    "    C = np.zeros((n,n))\n",
    "    for i in range(n-2, -1, -1):\n",
    "        bb = 0\n",
    "        for j in range (i+1, n):\n",
    "            bb += A[i, j]*x[j]\n",
    "\n",
    "        C[i, i] = b[i] - bb\n",
    "        x[i] = C[i, i]/A[i, i]\n",
    "\n",
    "    return x"
   ]
  },
  {
   "cell_type": "code",
   "execution_count": 107,
   "id": "f93baf2a",
   "metadata": {},
   "outputs": [],
   "source": [
    "def calculate_Hausholder(v: np.array):\n",
    "    \"\"\"\n",
    "    Helper function to calculate the Hausholder matrix from v.\n",
    "    \n",
    "    Parameters\n",
    "    ----------\n",
    "    v : np.array\n",
    "        The given vector. Needs to be normalized prior to passing.\n",
    "        \n",
    "    Returns\n",
    "    -------\n",
    "    H : np.ndarray\n",
    "        The Hausholder matrix of v.\n",
    "    \"\"\"\n",
    "    H = np.identity(max(v.shape)) - (2/np.linalg.norm(v, ord = 2))*np.outer(v, v)\n",
    "    return H\n",
    "\n",
    "\n",
    "def hausholder_qr(A: np.ndarray):\n",
    "    \"\"\"\n",
    "        Returns the QR factorization obtained through \n",
    "        the Hausholder Reflection method. \n",
    "        \n",
    "        Elements belonging to and above diagonal are R, \n",
    "        \n",
    "        Below the diagonal are the column vectors v_1, ..., v_n-1\n",
    "        which are used to get Q_1, ..., Q_n-1. \n",
    "        \n",
    "    \"\"\"\n",
    "    m, n = A.shape\n",
    "    v_mat = []\n",
    "    Q = np.identity(m)\n",
    "    for i in range(n-1):\n",
    "        \n",
    "        # Obtaining v_i\n",
    "        u = A[i:, i].copy()\n",
    "        v = u / (u[0] + np.copysign(np.linalg.norm(u), u[0]))\n",
    "        v[0] = 1\n",
    "        \n",
    "        \n",
    "        v_mat.append(v.copy())\n",
    "\n",
    "        #Calculating Q only to get next iteration\n",
    "        Q = np.identity(m)\n",
    "        Q[i:, i:] = calculate_Hausholder(v)\n",
    "        \n",
    "        A = np.matmul(Q, A)\n",
    "    \n",
    "    A = np.vstack((A, np.zeros(A.shape[1])))\n",
    "    #Storing v_i's\n",
    "    for i in range(n-1):\n",
    "        A[i+1:, i] = np.array(v_mat[i])\n",
    "        \n",
    "    return A\n",
    "\n",
    "def recover_Qis(A: np.ndarray):\n",
    "    \"\"\"\n",
    "    Calculates all Q_is from a Hausholder applied matrix A.\n",
    "    \n",
    "    Parameters\n",
    "    ----------\n",
    "    \n",
    "    A : np.ndarray\n",
    "        The matrix on which Hausholder QR has been performed\n",
    "        \n",
    "    Returns\n",
    "    -------\n",
    "    Qis : list(np.ndarray)\n",
    "        A list containing all Q's \n",
    "    \"\"\"\n",
    "    Qis = []\n",
    "    \n",
    "    m, n = A.shape\n",
    "    \n",
    "    for i in range(n - 1):\n",
    "        #v = np.zeros(m - i)\n",
    "        v = A[i+1:, i].copy()\n",
    "        #v[:-1] = A[i+1:, i].copy()\n",
    "        #v[-1] = np.sqrt(1 - np.linalg.norm(v, ord = 2)**2)\n",
    "        Q = np.identity(m-1)\n",
    "        Q[i:, i:] = calculate_Hausholder(v)\n",
    "        Qis.append(Q)\n",
    "    \n",
    "    return Qis\n",
    "\n",
    "def calculate_Q(A: np.ndarray):\n",
    "    \"\"\"\n",
    "    Returns the orthonormal matrix Q from the matrix A after Hausholder QR \n",
    "    is applied.\n",
    "    \n",
    "    Parameters\n",
    "    ----------\n",
    "    \n",
    "    A : np.ndarray\n",
    "        The matrix on which Hausholder QR has been performed\n",
    "\n",
    "    Returns\n",
    "    -------    \n",
    "    \n",
    "    Q: np.ndarray\n",
    "        The orthonormal matrix involved in QR\n",
    "    \"\"\"\n",
    "    \n",
    "    Qis = recover_Qis(A.copy())\n",
    "    Q = np.identity(Qis[0].shape[0])\n",
    "    for Qi in Qis:\n",
    "        Q = np.matmul(Q, Qi.T)\n",
    "        \n",
    "    return Q"
   ]
  }
 ],
 "metadata": {
  "kernelspec": {
   "display_name": "Python 3 (ipykernel)",
   "language": "python",
   "name": "python3"
  },
  "language_info": {
   "codemirror_mode": {
    "name": "ipython",
    "version": 3
   },
   "file_extension": ".py",
   "mimetype": "text/x-python",
   "name": "python",
   "nbconvert_exporter": "python",
   "pygments_lexer": "ipython3",
   "version": "3.10.11"
  }
 },
 "nbformat": 4,
 "nbformat_minor": 5
}
