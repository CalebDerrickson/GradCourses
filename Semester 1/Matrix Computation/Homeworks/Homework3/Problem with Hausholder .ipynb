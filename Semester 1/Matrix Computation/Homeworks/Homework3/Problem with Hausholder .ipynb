{
 "cells": [
  {
   "cell_type": "code",
   "execution_count": 96,
   "id": "c0ace44f",
   "metadata": {},
   "outputs": [],
   "source": [
    "import numpy as np\n",
    "from typing import Union\n",
    "import math"
   ]
  },
  {
   "cell_type": "code",
   "execution_count": 172,
   "id": "f93baf2a",
   "metadata": {},
   "outputs": [],
   "source": [
    "def calculate_Hausholder(v: np.array):\n",
    "    \"\"\"\n",
    "    Helper function to calculate the Hausholder matrix from v.\n",
    "    \n",
    "    Parameters\n",
    "    ----------\n",
    "    v : np.array\n",
    "        The given vector. Needs to be normalized prior to passing.\n",
    "        \n",
    "    Returns\n",
    "    -------\n",
    "    H : np.ndarray\n",
    "        The Hausholder matrix of v.\n",
    "    \"\"\"\n",
    "    H = np.identity(max(v.shape)) - 2*np.outer(v, v)\n",
    "    return H\n",
    "\n",
    "\n",
    "def hausholder_qr(A: np.ndarray):\n",
    "    \"\"\"\n",
    "        Returns the QR factorization obtained through \n",
    "        the Hausholder Reflection method. \n",
    "        \n",
    "        Elements belonging to and above diagonal are R, \n",
    "        \n",
    "        Below the diagonal are the column vectors v_1, ..., v_n-1\n",
    "        which are used to get Q_1, ..., Q_n-1. \n",
    "        \n",
    "    \"\"\"\n",
    "    m, n = A.shape\n",
    "    v_mat = []\n",
    "    for i in range(n-1):\n",
    "        \n",
    "        # Obtaining v_i\n",
    "        u = A[i:, i].copy()\n",
    "        u[0] = u[0] + np.copysign(np.linalg.norm(u, ord = 2), u[0]) \n",
    "        v =  u/ np.linalg.norm(u, ord = 2)\n",
    "        \n",
    "        v_mat.append(v.copy())\n",
    "\n",
    "        #Calculating Q only to get next iteration\n",
    "        Q = np.identity(m)\n",
    "        Q[i:, i:] = calculate_Hausholder(v)\n",
    "        \n",
    "        A = np.matmul(Q, A)\n",
    "        print(A)\n",
    "    \n",
    "    A = np.vstack((A, np.zeros(A.shape[1])))\n",
    "    #Storing v_i's\n",
    "    for i in range(n-1):\n",
    "        A[i+1:, i] = np.array(v_mat[i])\n",
    "        \n",
    "    return A\n",
    "\n",
    "def recover_Qis(A: np.ndarray):\n",
    "    \"\"\"\n",
    "    Calculates all Q_is from a Hausholder applied matrix A.\n",
    "    \n",
    "    Parameters\n",
    "    ----------\n",
    "    \n",
    "    A : np.ndarray\n",
    "        The matrix on which Hausholder QR has been performed\n",
    "        \n",
    "    Returns\n",
    "    -------\n",
    "    Qis : list(np.ndarray)\n",
    "        A list containing all Q's \n",
    "    \"\"\"\n",
    "    Qis = []\n",
    "    \n",
    "    m, n = A.shape\n",
    "    \n",
    "    for i in range(n - 1):\n",
    "        #v = np.zeros(m - i)\n",
    "        v = A[i+1:, i].copy()\n",
    "        #v[:-1] = A[i+1:, i].copy()\n",
    "        #v[-1] = np.sqrt(1 - np.linalg.norm(v, ord = 2)**2)\n",
    "        Q = np.identity(m-1)\n",
    "        Q[i:, i:] = calculate_Hausholder(v)\n",
    "        Qis.append(Q)\n",
    "    \n",
    "    return Qis\n",
    "\n",
    "def calculate_Q(A: np.ndarray):\n",
    "    \"\"\"\n",
    "    Returns the orthonormal matrix Q from the matrix A after Hausholder QR \n",
    "    is applied.\n",
    "    \n",
    "    Parameters\n",
    "    ----------\n",
    "    \n",
    "    A : np.ndarray\n",
    "        The matrix on which Hausholder QR has been performed\n",
    "\n",
    "    Returns\n",
    "    -------    \n",
    "    \n",
    "    Q: np.ndarray\n",
    "        The orthonormal matrix involved in QR\n",
    "    \"\"\"\n",
    "    \n",
    "    Qis = recover_Qis(A.copy())\n",
    "    Q = np.identity(Qis[0].shape[0])\n",
    "    for Qi in Qis:\n",
    "        Q = np.matmul(Q, Qi.T)\n",
    "        \n",
    "    return Q"
   ]
  },
  {
   "cell_type": "code",
   "execution_count": 173,
   "id": "df99d2bf",
   "metadata": {},
   "outputs": [
    {
     "name": "stdout",
     "output_type": "stream",
     "text": [
      "[[-1.40356688e+01 -2.09537574e+01  1.43919041e+01 -3.65497366e+01]\n",
      " [-4.33680869e-16  1.73924249e+02 -6.56051537e+01  3.18115638e+01]\n",
      " [ 2.53269627e-16  1.93838340e+01 -4.25965642e+01  9.24589575e+01]\n",
      " [-1.11022302e-16  1.25404151e+00 -5.60085895e+00  4.49135261e+02]]\n",
      "[[-1.40356688e+01 -2.09537574e+01  1.43919041e+01 -3.65497366e+01]\n",
      " [ 4.03744344e-16 -1.75005571e+02  6.99579758e+01 -4.50742546e+01]\n",
      " [ 2.99790476e-16 -8.43098429e-16 -3.50657284e+01  8.81877778e+01]\n",
      " [-1.08012626e-16 -2.74609209e-16 -5.11364983e+00  4.48858936e+02]]\n",
      "[[-1.40356688e+01 -2.09537574e+01  1.43919041e+01 -3.65497366e+01]\n",
      " [ 4.03744344e-16 -1.75005571e+02  6.99579758e+01 -4.50742546e+01]\n",
      " [-2.81066025e-16  8.73901275e-16  3.54366296e+01 -1.52036922e+02]\n",
      " [-1.50143085e-16 -1.50072449e-16 -7.25076228e-16  4.31435050e+02]]\n"
     ]
    }
   ],
   "source": [
    "A = np.array([[12, -51, 4, 12],\n",
    "                [6, 167, -68, 43],\n",
    "                [-4, 24, -41, 85],\n",
    "                [1, 0.1, -6, 451]])\n",
    "HH = hausholder_qr(A)\n",
    "R_HH = np.triu(HH)\n",
    "R_HH = np.array([x for x in R_HH if x.any() != 0])\n",
    "Q_HH = calculate_Q(HH)\n",
    "\n",
    "Q_C, R_C = np.linalg.qr(A)"
   ]
  },
  {
   "cell_type": "code",
   "execution_count": 152,
   "id": "e8c62268",
   "metadata": {},
   "outputs": [
    {
     "ename": "SyntaxError",
     "evalue": "invalid syntax. Perhaps you forgot a comma? (3328549005.py, line 1)",
     "output_type": "error",
     "traceback": [
      "\u001b[1;36m  Cell \u001b[1;32mIn[152], line 1\u001b[1;36m\u001b[0m\n\u001b[1;33m    [[-1.40000000e+01 -2.10000000e+01  1.40000000e+01]\u001b[0m\n\u001b[1;37m      ^\u001b[0m\n\u001b[1;31mSyntaxError\u001b[0m\u001b[1;31m:\u001b[0m invalid syntax. Perhaps you forgot a comma?\n"
     ]
    }
   ],
   "source": [
    "[[-1.40000000e+01 -2.10000000e+01  1.40000000e+01]\n",
    " [-2.77555756e-16  1.73923077e+02 -6.56923077e+01]\n",
    " [ 4.44089210e-16  1.93846154e+01 -4.25384615e+01]]\n",
    "[[-1.40000000e+01 -2.10000000e+01  1.40000000e+01]\n",
    " [ 2.26656301e-16 -1.75000000e+02  7.00000000e+01]\n",
    " [ 4.72100991e-16 -7.43126796e-16 -3.50000000e+01]]\n",
    "[[-1.40000000e+01 -2.10000000e+01  1.40000000e+01]\n",
    " [ 2.26656301e-16 -1.75000000e+02  7.00000000e+01]\n",
    " [-4.72100991e-16  7.43126796e-16  3.50000000e+01]]"
   ]
  },
  {
   "cell_type": "code",
   "execution_count": 169,
   "id": "ed618d29",
   "metadata": {},
   "outputs": [
    {
     "name": "stdout",
     "output_type": "stream",
     "text": [
      "[[-0.8549646   0.39378587 -0.3172958  -0.1152892 ]\n",
      " [-0.4274823  -0.90307205  0.03751419 -0.01767618]\n",
      " [ 0.2849882  -0.17126068 -0.93463945 -0.12609757]\n",
      " [-0.07124705  0.00795914 -0.15609341  0.98513723]]\n",
      "[[-0.8549646   0.39378587 -0.3172958  -0.1152892 ]\n",
      " [-0.4274823  -0.90307205  0.03751419 -0.01767618]\n",
      " [ 0.2849882  -0.17126068 -0.93463945 -0.12609757]\n",
      " [-0.07124705  0.00795914 -0.15609341  0.98513723]]\n"
     ]
    }
   ],
   "source": [
    "print(Q_C) \n",
    "print(Q_HH)"
   ]
  },
  {
   "cell_type": "code",
   "execution_count": 174,
   "id": "57f5acf8",
   "metadata": {},
   "outputs": [
    {
     "data": {
      "text/plain": [
       "array([[ True,  True,  True,  True],\n",
       "       [ True,  True,  True,  True],\n",
       "       [ True,  True,  True,  True],\n",
       "       [ True,  True,  True,  True]])"
      ]
     },
     "execution_count": 174,
     "metadata": {},
     "output_type": "execute_result"
    }
   ],
   "source": [
    "abs(Q_C - Q_HH) < 0.001"
   ]
  },
  {
   "cell_type": "code",
   "execution_count": 175,
   "id": "e2c02e84",
   "metadata": {},
   "outputs": [
    {
     "data": {
      "text/plain": [
       "array([[ True,  True,  True,  True],\n",
       "       [ True,  True,  True,  True],\n",
       "       [ True,  True,  True,  True],\n",
       "       [ True,  True,  True,  True]])"
      ]
     },
     "execution_count": 175,
     "metadata": {},
     "output_type": "execute_result"
    }
   ],
   "source": [
    "abs(R_C - R_HH) < 0.01"
   ]
  },
  {
   "cell_type": "code",
   "execution_count": 60,
   "id": "bc587818",
   "metadata": {},
   "outputs": [],
   "source": [
    "#From Stack overflow, \n",
    "#https://stackoverflow.com/questions/53489237/how-can-you-implement-householder-based-qr-decomposition-in-python\n",
    "def householder_vectorized(a):\n",
    "    \"\"\"Use this version of householder to reproduce the output of np.linalg.qr \n",
    "    exactly (specifically, to match the sign convention it uses)\n",
    "    \n",
    "    based on https://rosettacode.org/wiki/QR_decomposition#Python\n",
    "    \"\"\"\n",
    "    v = a / (a[0] + np.copysign(np.linalg.norm(a), a[0]))\n",
    "    v[0] = 1\n",
    "    tau = 2 / (v.T @ v)\n",
    "    \n",
    "    return v,tau\n",
    "\n",
    "def qr_decomposition(A: np.ndarray) -> Union[np.ndarray, np.ndarray]:\n",
    "    m,n = A.shape\n",
    "    R = A.copy()\n",
    "    Q = np.identity(m)\n",
    "    \n",
    "    for j in range(0, n):\n",
    "        # Apply Householder transformation.\n",
    "        v, tau = householder_vectorized(R[j:, j, np.newaxis])\n",
    "        \n",
    "        H = np.identity(m)\n",
    "        H[j:, j:] -= tau * (v @ v.T)\n",
    "        R = H @ R\n",
    "        Q = H @ Q\n",
    "        print(R)\n",
    "    return Q[:n].T, np.triu(R[:n])"
   ]
  },
  {
   "cell_type": "code",
   "execution_count": 61,
   "id": "58b1abe3",
   "metadata": {},
   "outputs": [
    {
     "name": "stdout",
     "output_type": "stream",
     "text": [
      "[[-1.40000000e+01 -2.10000000e+01  1.40000000e+01]\n",
      " [-2.77555756e-16  1.73923077e+02 -6.56923077e+01]\n",
      " [ 4.44089210e-16  1.93846154e+01 -4.25384615e+01]]\n",
      "[[-1.40000000e+01 -2.10000000e+01  1.40000000e+01]\n",
      " [ 2.26656301e-16 -1.75000000e+02  7.00000000e+01]\n",
      " [ 4.72100991e-16 -7.43126796e-16 -3.50000000e+01]]\n",
      "[[-1.40000000e+01 -2.10000000e+01  1.40000000e+01]\n",
      " [ 2.26656301e-16 -1.75000000e+02  7.00000000e+01]\n",
      " [-4.72100991e-16  7.43126796e-16  3.50000000e+01]]\n"
     ]
    }
   ],
   "source": [
    "A = np.array([[12, -51, 4],\n",
    "                [6, 167, -68],\n",
    "                [-4, 24, -41]])\n",
    "Q, R = qr_decomposition(A)"
   ]
  },
  {
   "cell_type": "code",
   "execution_count": 38,
   "id": "5b074dfb",
   "metadata": {},
   "outputs": [
    {
     "name": "stdout",
     "output_type": "stream",
     "text": [
      "[[ -14.  -21.   14.]\n",
      " [   0. -175.   70.]\n",
      " [   0.    0.  -35.]]\n",
      "[[ 14.  21. -14.]\n",
      " [  0. 175. -70.]\n",
      " [  0.   0.  35.]]\n",
      "[[ -14.  -21.   14.]\n",
      " [   0. -175.   70.]\n",
      " [   0.    0.   35.]]\n"
     ]
    }
   ],
   "source": [
    "print(R_C)\n",
    "print(R_HH)\n",
    "print(R)"
   ]
  },
  {
   "cell_type": "code",
   "execution_count": 49,
   "id": "afc652c0",
   "metadata": {},
   "outputs": [
    {
     "name": "stdout",
     "output_type": "stream",
     "text": [
      "[[-0.85714286  0.39428571  0.33142857]\n",
      " [-0.42857143 -0.90285714 -0.03428571]\n",
      " [ 0.28571429 -0.17142857  0.94285714]]\n",
      "[[-0.85714286  0.39428571 -0.33142857]\n",
      " [-0.42857143 -0.90285714  0.03428571]\n",
      " [ 0.28571429 -0.17142857 -0.94285714]]\n"
     ]
    }
   ],
   "source": [
    "print(Q_C) \n",
    "print(Q)"
   ]
  }
 ],
 "metadata": {
  "kernelspec": {
   "display_name": "Python 3 (ipykernel)",
   "language": "python",
   "name": "python3"
  },
  "language_info": {
   "codemirror_mode": {
    "name": "ipython",
    "version": 3
   },
   "file_extension": ".py",
   "mimetype": "text/x-python",
   "name": "python",
   "nbconvert_exporter": "python",
   "pygments_lexer": "ipython3",
   "version": "3.10.11"
  }
 },
 "nbformat": 4,
 "nbformat_minor": 5
}
