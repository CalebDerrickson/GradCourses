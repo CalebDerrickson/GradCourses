{
 "cells": [
  {
   "cell_type": "code",
   "execution_count": 1,
   "id": "bf49445c",
   "metadata": {},
   "outputs": [],
   "source": [
    "import numpy as np\n",
    "\n"
   ]
  },
  {
   "cell_type": "code",
   "execution_count": 5,
   "id": "6da3f590",
   "metadata": {},
   "outputs": [],
   "source": [
    "# Define your matrices A and B\n",
    "matrix_A = np.array([[7, -3],\n",
    "                     [9, 2]])\n",
    "\n",
    "matrix_B = np.array([[-5, 8],\n",
    "                     [6, -1]])\n",
    "\n",
    "def mult(A, B):\n",
    "    return np.dot(A, B)\n",
    "\n",
    "def _raise(A, n):\n",
    "    return np.linalg.matrix_power(A, n)\n",
    "\n",
    "def trace(A):\n",
    "    return np.trace(A)"
   ]
  },
  {
   "cell_type": "code",
   "execution_count": 9,
   "id": "0dd2c8a5",
   "metadata": {},
   "outputs": [
    {
     "name": "stdout",
     "output_type": "stream",
     "text": [
      "Trace of (AB)^2(AB):\n",
      "94826\n",
      "Trace of (AB)^2 times trace of AB\n",
      "64855\n"
     ]
    }
   ],
   "source": [
    "print(\"Trace of (AB)^2(AB):\")\n",
    "matmult = mult(matrix_A,matrix_B)\n",
    "temp_raise = _raise(matmult,2) \n",
    "temp_mult = mult(temp_raise, matmult)\n",
    "print(trace(temp_mult))\n",
    "print(\"Trace of (AB)^2 times trace of AB\")\n",
    "print(trace(temp_raise) * trace(matmult) )"
   ]
  },
  {
   "cell_type": "code",
   "execution_count": null,
   "id": "da5ef74c",
   "metadata": {},
   "outputs": [],
   "source": []
  }
 ],
 "metadata": {
  "kernelspec": {
   "display_name": "Python 3 (ipykernel)",
   "language": "python",
   "name": "python3"
  },
  "language_info": {
   "codemirror_mode": {
    "name": "ipython",
    "version": 3
   },
   "file_extension": ".py",
   "mimetype": "text/x-python",
   "name": "python",
   "nbconvert_exporter": "python",
   "pygments_lexer": "ipython3",
   "version": "3.10.11"
  }
 },
 "nbformat": 4,
 "nbformat_minor": 5
}
