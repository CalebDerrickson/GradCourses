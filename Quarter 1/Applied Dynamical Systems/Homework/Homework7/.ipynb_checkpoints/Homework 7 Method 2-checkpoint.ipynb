{
 "cells": [
  {
   "cell_type": "code",
   "execution_count": null,
   "id": "deca7260",
   "metadata": {},
   "outputs": [],
   "source": [
    "import numpy as np\n",
    "from scipy.integrate import odeint\n",
    "import matplotlib.pyplot as plt"
   ]
  },
  {
   "cell_type": "code",
   "execution_count": null,
   "id": "7a2ae107",
   "metadata": {},
   "outputs": [],
   "source": [
    "global sigma\n",
    "global r\n",
    "global b\n",
    "\n",
    "sigma = 10\n",
    "r = 28\n",
    "b = 8./3."
   ]
  },
  {
   "cell_type": "code",
   "execution_count": null,
   "id": "c8385cb4",
   "metadata": {},
   "outputs": [],
   "source": [
    "def lorenz_jet(w, t, r, sigma, b):\n",
    "    wdot = np.zeros(6)\n",
    "    wdot[0] = sigma * (w[1] - w[0])\n",
    "    wdot[1] = r * w[0] - w[1] - w[0] * w[2]\n",
    "    wdot[2] = w[0] * w[1] - b * w[2]\n",
    "    wdot[3] = sigma * (w[4] - w[3])\n",
    "    wdot[4] = (r - w[2]) * w[3] - w[4] - w[0] * w[5]\n",
    "    wdot[5] = w[1] * w[3] + w[0] * w[4] - b * w[5]\n",
    "    return wdot"
   ]
  },
  {
   "cell_type": "code",
   "execution_count": null,
   "id": "95ae9b96",
   "metadata": {},
   "outputs": [],
   "source": [
    "def lyapunov(tmax, r):\n",
    "    tstep = 1\n",
    "    x0 = np.array([0.65, -8.464, 2.365])\n",
    "    v0 = np.array([1.0, 0.0, 0.0])\n",
    "    w0 = np.concatenate((x0, v0))\n",
    "    scalefactor = -np.log(np.linalg.norm(v0))\n",
    "    T = np.array([])\n",
    "    L = np.array([])\n",
    "\n",
    "    for time in np.arange(1, tmax + 1, tstep):\n",
    "        t = np.linspace(time, time + tstep, 2)\n",
    "        w = odeint(lorenz_jet, w0, t, args=(r, sigma, b))\n",
    "        lyp = (scalefactor + 0.5 * np.log(np.sum(w[:, 3:6]**2, axis=1))) / t\n",
    "        T = np.concatenate((T, t))\n",
    "        L = np.concatenate((L, lyp))\n",
    "        nm = np.linalg.norm(w[-1, 3:6])**2\n",
    "        scalefactor += np.log(nm)\n",
    "        w0 = np.concatenate((w[-1, :3], w[-1, 3:6] / nm))\n",
    "        \n",
    "    fig, axs = plt.subplots(1, 1)\n",
    "    axs.plot(T, L, c = \"#A23BEC\")\n",
    "    axs.scatter(T[-1], L[-1], c = 'k')\n",
    "    axs.annotate(fr'$\\mu_{{\\text{{max}}}}$ = {round(L[-1], 2)}', xy=(T[-1] - 55, L[-1] - 0.1))\n",
    "    \n",
    "    \n",
    "    axs.set_xlabel(\"time (s)\")\n",
    "    axs.set_ylabel(r'$\\mu_{max}$', rotation = 0)\n",
    "    axs.set_facecolor(\"#e1e2e3\")\n",
    "    axs.grid(True)\n",
    "    axs.set_title(r'$\\mu_{\\text{max}}$ Estimate')\n",
    "    return L[-1]\n",
    "\n",
    "tmax = 400\n",
    "res = lyapunov(tmax, r)\n",
    "print(f\"Lyapunov exponent for r = {r}: {round(res, 2)}\")"
   ]
  }
 ],
 "metadata": {
  "kernelspec": {
   "display_name": "Python 3 (ipykernel)",
   "language": "python",
   "name": "python3"
  },
  "language_info": {
   "codemirror_mode": {
    "name": "ipython",
    "version": 3
   },
   "file_extension": ".py",
   "mimetype": "text/x-python",
   "name": "python",
   "nbconvert_exporter": "python",
   "pygments_lexer": "ipython3",
   "version": "3.10.11"
  }
 },
 "nbformat": 4,
 "nbformat_minor": 5
}
