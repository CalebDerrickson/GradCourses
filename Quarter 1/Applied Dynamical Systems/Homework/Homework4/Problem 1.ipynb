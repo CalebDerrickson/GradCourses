{
 "cells": [
  {
   "cell_type": "code",
   "execution_count": 20,
   "id": "523fbb84",
   "metadata": {},
   "outputs": [
    {
     "name": "stderr",
     "output_type": "stream",
     "text": [
      "'jupyter' is not recognized as an internal or external command,\n",
      "operable program or batch file.\n"
     ]
    }
   ],
   "source": [
    "import numpy as np\n",
    "import matplotlib.pyplot as plt\n",
    "import math\n",
    "from scipy.integrate import solve_ivp\n",
    "from ipywidgets import interact\n",
    "\n",
    "%matplotlib qt"
   ]
  },
  {
   "cell_type": "code",
   "execution_count": 4,
   "id": "4143f8ec",
   "metadata": {},
   "outputs": [],
   "source": [
    "def log_eqt(x, t, lm ):\n",
    "    \"\"\"\n",
    "    Returns the Logistic equation for x and lambda\n",
    "    \"\"\"\n",
    "    return lm * x * (1 - x)\n",
    "\n",
    "def log_eq(x, lm):\n",
    "    \"\"\"\n",
    "    Returns the Logistic equation for x and lambda\n",
    "    \"\"\"\n",
    "    return lm * x * (1 - x)"
   ]
  },
  {
   "cell_type": "code",
   "execution_count": 5,
   "id": "9d10570f",
   "metadata": {},
   "outputs": [],
   "source": [
    "lm = 1 + 2 * math.sqrt(2)\n",
    "\n",
    "#define time range\n",
    "timespan = (0., 1.)\n",
    "init = 1 #number of initial conditions\n",
    "\n",
    "#initial conditions\n",
    "x0 = 1\n",
    "\n",
    "initial_conditions = [x0]\n",
    "\n",
    "sol = solve_ivp(lambda t, lm, x: log_eqt(x, t, lm), t_span=timespan, y0=initial_conditions, max_step=0.01, args=(lm, ))\n"
   ]
  },
  {
   "cell_type": "code",
   "execution_count": 39,
   "id": "c48b86cc",
   "metadata": {},
   "outputs": [
    {
     "data": {
      "text/plain": [
       "[<matplotlib.lines.Line2D at 0x120f6aa48e0>]"
      ]
     },
     "execution_count": 39,
     "metadata": {},
     "output_type": "execute_result"
    },
    {
     "data": {
      "image/png": "[encoded data removed]",
      "text/plain": [
       "<Figure size 640x480 with 1 Axes>"
      ]
     },
     "metadata": {},
     "output_type": "display_data"
    }
   ],
   "source": [
    "y = sol.y[0]\n",
    "plt.plot(y)"
   ]
  },
  {
   "cell_type": "code",
   "execution_count": 49,
   "id": "0bfad2f5",
   "metadata": {},
   "outputs": [],
   "source": [
    "timespan = (0., 200.)\n",
    "\n",
    "for x0 in np.linspace(-1, 1, 100):\n",
    "    initial_conditions = [x0]\n",
    "    sol = solve_ivp(lambda t, lm, x: log_eqt(log_eqt(log_eqt(x, t, lm), t, lm), t, lm), t_span=timespan, y0=initial_conditions, max_step=0.01, args=(lm,))\n",
    "\n",
    "    plt.plot(sol.y[0])"
   ]
  },
  {
   "cell_type": "code",
   "execution_count": 55,
   "id": "f077b66c",
   "metadata": {},
   "outputs": [],
   "source": [
    "x0 = 0.5\n",
    "\n",
    "def f(x):\n",
    "    return 8 * x / (1 + 2 * x)\n",
    "\n",
    "num_iterations = 4\n",
    "iterates = [x0]\n",
    "\n",
    "for i in range(num_iterations):\n",
    "    x_next = log_eq(iterates[-1], lm)\n",
    "    iterates.append(x_next)\n",
    "\n",
    "x_range = np.linspace(0, 1, 100)\n",
    "y_f = [log_eq(x, lm) for x in x_range]\n",
    "\n",
    "plt.plot(x_range, y_f, label='f(x)')\n",
    "plt.plot(x_range, x_range, label='x')\n",
    "plt.plot(iterates, iterates, 'ro-')\n",
    "plt.legend()\n",
    "plt.grid()\n",
    "plt.show()"
   ]
  },
  {
   "cell_type": "code",
   "execution_count": 18,
   "id": "33cdd0d7",
   "metadata": {},
   "outputs": [
    {
     "ename": "ValueError",
     "evalue": "<function log_eq at 0x000001F180AC8B80> cannot be transformed to a widget",
     "output_type": "error",
     "traceback": [
      "\u001b[1;31m---------------------------------------------------------------------------\u001b[0m",
      "\u001b[1;31mValueError\u001b[0m                                Traceback (most recent call last)",
      "Cell \u001b[1;32mIn[18], line 51\u001b[0m\n\u001b[0;32m     48\u001b[0m         \u001b[38;5;28;01mreturn\u001b[39;00m r\u001b[38;5;241m*\u001b[39mx\u001b[38;5;241m*\u001b[39m(\u001b[38;5;241m1\u001b[39m\u001b[38;5;241m-\u001b[39mx)\n\u001b[0;32m     49\u001b[0m r \u001b[38;5;241m=\u001b[39m lm\n\u001b[0;32m     50\u001b[0m \u001b[38;5;129;43m@interact\u001b[39;49m\u001b[43m(\u001b[49m\u001b[43mx0\u001b[49m\u001b[43m \u001b[49m\u001b[38;5;241;43m=\u001b[39;49m\u001b[43m \u001b[49m\u001b[43m(\u001b[49m\u001b[38;5;241;43m0\u001b[39;49m\u001b[43m,\u001b[49m\u001b[43m \u001b[49m\u001b[38;5;241;43m1\u001b[39;49m\u001b[43m,\u001b[49m\u001b[43m \u001b[49m\u001b[38;5;241;43m0.01\u001b[39;49m\u001b[43m)\u001b[49m\u001b[43m,\u001b[49m\u001b[43m \u001b[49m\u001b[43mf\u001b[49m\u001b[43m \u001b[49m\u001b[38;5;241;43m=\u001b[39;49m\u001b[43m \u001b[49m\u001b[43mlog_eq\u001b[49m\u001b[43m,\u001b[49m\u001b[43m \u001b[49m\u001b[43mr\u001b[49m\u001b[43m \u001b[49m\u001b[38;5;241;43m=\u001b[39;49m\u001b[43m \u001b[49m\u001b[43mlm\u001b[49m\u001b[43m)\u001b[49m\n\u001b[1;32m---> 51\u001b[0m \u001b[38;5;28;43;01mdef\u001b[39;49;00m\u001b[43m \u001b[49m\u001b[38;5;21;43mplot\u001b[39;49m\u001b[43m(\u001b[49m\u001b[43mf\u001b[49m\u001b[43m,\u001b[49m\u001b[43m \u001b[49m\u001b[43mr\u001b[49m\u001b[43m,\u001b[49m\u001b[43m \u001b[49m\u001b[43mx0\u001b[49m\u001b[43m)\u001b[49m\u001b[43m:\u001b[49m\n\u001b[0;32m     52\u001b[0m \u001b[43m    \u001b[49m\u001b[43mplot_cobweb\u001b[49m\u001b[43m(\u001b[49m\u001b[43mf\u001b[49m\u001b[43m,\u001b[49m\u001b[43m \u001b[49m\u001b[43mr\u001b[49m\u001b[43m,\u001b[49m\u001b[43m \u001b[49m\u001b[43mx0\u001b[49m\u001b[43m)\u001b[49m\n",
      "File \u001b[1;32m~\\AppData\\Local\\Packages\\PythonSoftwareFoundation.Python.3.10_qbz5n2kfra8p0\\LocalCache\\local-packages\\Python310\\site-packages\\ipywidgets\\widgets\\interaction.py:511\u001b[0m, in \u001b[0;36m_InteractFactory.__call__\u001b[1;34m(self, _InteractFactory__interact_f, **kwargs)\u001b[0m\n\u001b[0;32m    503\u001b[0m     \u001b[38;5;28;01mreturn\u001b[39;00m \u001b[38;5;28mself\u001b[39m\n\u001b[0;32m    505\u001b[0m \u001b[38;5;66;03m# positional arg support in: https://gist.github.com/8851331\u001b[39;00m\n\u001b[0;32m    506\u001b[0m \u001b[38;5;66;03m# Handle the cases 1 and 2\u001b[39;00m\n\u001b[0;32m    507\u001b[0m \u001b[38;5;66;03m# 1. interact(f, **kwargs)\u001b[39;00m\n\u001b[0;32m    508\u001b[0m \u001b[38;5;66;03m# 2. @interact\u001b[39;00m\n\u001b[0;32m    509\u001b[0m \u001b[38;5;66;03m#    def f(*args, **kwargs):\u001b[39;00m\n\u001b[0;32m    510\u001b[0m \u001b[38;5;66;03m#        ...\u001b[39;00m\n\u001b[1;32m--> 511\u001b[0m w \u001b[38;5;241m=\u001b[39m \u001b[38;5;28;43mself\u001b[39;49m\u001b[38;5;241;43m.\u001b[39;49m\u001b[43mwidget\u001b[49m\u001b[43m(\u001b[49m\u001b[43mf\u001b[49m\u001b[43m)\u001b[49m\n\u001b[0;32m    512\u001b[0m \u001b[38;5;28;01mtry\u001b[39;00m:\n\u001b[0;32m    513\u001b[0m     f\u001b[38;5;241m.\u001b[39mwidget \u001b[38;5;241m=\u001b[39m w\n",
      "File \u001b[1;32m~\\AppData\\Local\\Packages\\PythonSoftwareFoundation.Python.3.10_qbz5n2kfra8p0\\LocalCache\\local-packages\\Python310\\site-packages\\ipywidgets\\widgets\\interaction.py:427\u001b[0m, in \u001b[0;36m_InteractFactory.widget\u001b[1;34m(self, f)\u001b[0m\n\u001b[0;32m    411\u001b[0m \u001b[38;5;28;01mdef\u001b[39;00m \u001b[38;5;21mwidget\u001b[39m(\u001b[38;5;28mself\u001b[39m, f):\n\u001b[0;32m    412\u001b[0m \u001b[38;5;250m    \u001b[39m\u001b[38;5;124;03m\"\"\"\u001b[39;00m\n\u001b[0;32m    413\u001b[0m \u001b[38;5;124;03m    Return an interactive function widget for the given function.\u001b[39;00m\n\u001b[0;32m    414\u001b[0m \n\u001b[1;32m   (...)\u001b[0m\n\u001b[0;32m    425\u001b[0m \u001b[38;5;124;03m        The function to which the interactive widgets are tied.\u001b[39;00m\n\u001b[0;32m    426\u001b[0m \u001b[38;5;124;03m    \"\"\"\u001b[39;00m\n\u001b[1;32m--> 427\u001b[0m     \u001b[38;5;28;01mreturn\u001b[39;00m \u001b[38;5;28mself\u001b[39m\u001b[38;5;241m.\u001b[39mcls(f, \u001b[38;5;28mself\u001b[39m\u001b[38;5;241m.\u001b[39mopts, \u001b[38;5;241m*\u001b[39m\u001b[38;5;241m*\u001b[39m\u001b[38;5;28mself\u001b[39m\u001b[38;5;241m.\u001b[39mkwargs)\n",
      "File \u001b[1;32m~\\AppData\\Local\\Packages\\PythonSoftwareFoundation.Python.3.10_qbz5n2kfra8p0\\LocalCache\\local-packages\\Python310\\site-packages\\ipywidgets\\widgets\\interaction.py:184\u001b[0m, in \u001b[0;36minteractive.__init__\u001b[1;34m(self, _interactive__interact_f, _interactive__options, **kwargs)\u001b[0m\n\u001b[0;32m    182\u001b[0m     getcallargs(f, \u001b[38;5;241m*\u001b[39m\u001b[38;5;241m*\u001b[39m{n:v \u001b[38;5;28;01mfor\u001b[39;00m n,v,_ \u001b[38;5;129;01min\u001b[39;00m new_kwargs})\n\u001b[0;32m    183\u001b[0m \u001b[38;5;66;03m# Now build the widgets from the abbreviations.\u001b[39;00m\n\u001b[1;32m--> 184\u001b[0m \u001b[38;5;28mself\u001b[39m\u001b[38;5;241m.\u001b[39mkwargs_widgets \u001b[38;5;241m=\u001b[39m \u001b[38;5;28;43mself\u001b[39;49m\u001b[38;5;241;43m.\u001b[39;49m\u001b[43mwidgets_from_abbreviations\u001b[49m\u001b[43m(\u001b[49m\u001b[43mnew_kwargs\u001b[49m\u001b[43m)\u001b[49m\n\u001b[0;32m    186\u001b[0m \u001b[38;5;66;03m# This has to be done as an assignment, not using self.children.append,\u001b[39;00m\n\u001b[0;32m    187\u001b[0m \u001b[38;5;66;03m# so that traitlets notices the update. We skip any objects (such as fixed) that\u001b[39;00m\n\u001b[0;32m    188\u001b[0m \u001b[38;5;66;03m# are not DOMWidgets.\u001b[39;00m\n\u001b[0;32m    189\u001b[0m c \u001b[38;5;241m=\u001b[39m [w \u001b[38;5;28;01mfor\u001b[39;00m w \u001b[38;5;129;01min\u001b[39;00m \u001b[38;5;28mself\u001b[39m\u001b[38;5;241m.\u001b[39mkwargs_widgets \u001b[38;5;28;01mif\u001b[39;00m \u001b[38;5;28misinstance\u001b[39m(w, DOMWidget)]\n",
      "File \u001b[1;32m~\\AppData\\Local\\Packages\\PythonSoftwareFoundation.Python.3.10_qbz5n2kfra8p0\\LocalCache\\local-packages\\Python310\\site-packages\\ipywidgets\\widgets\\interaction.py:285\u001b[0m, in \u001b[0;36minteractive.widgets_from_abbreviations\u001b[1;34m(self, seq)\u001b[0m\n\u001b[0;32m    283\u001b[0m widget \u001b[38;5;241m=\u001b[39m \u001b[38;5;28mself\u001b[39m\u001b[38;5;241m.\u001b[39mwidget_from_abbrev(abbrev, default)\n\u001b[0;32m    284\u001b[0m \u001b[38;5;28;01mif\u001b[39;00m widget \u001b[38;5;129;01mis\u001b[39;00m \u001b[38;5;28;01mNone\u001b[39;00m:\n\u001b[1;32m--> 285\u001b[0m     \u001b[38;5;28;01mraise\u001b[39;00m \u001b[38;5;167;01mValueError\u001b[39;00m(\u001b[38;5;124m\"\u001b[39m\u001b[38;5;132;01m{!r}\u001b[39;00m\u001b[38;5;124m cannot be transformed to a widget\u001b[39m\u001b[38;5;124m\"\u001b[39m\u001b[38;5;241m.\u001b[39mformat(abbrev))\n\u001b[0;32m    286\u001b[0m \u001b[38;5;28;01mif\u001b[39;00m \u001b[38;5;129;01mnot\u001b[39;00m \u001b[38;5;28mhasattr\u001b[39m(widget, \u001b[38;5;124m\"\u001b[39m\u001b[38;5;124mdescription\u001b[39m\u001b[38;5;124m\"\u001b[39m) \u001b[38;5;129;01mor\u001b[39;00m \u001b[38;5;129;01mnot\u001b[39;00m widget\u001b[38;5;241m.\u001b[39mdescription:\n\u001b[0;32m    287\u001b[0m     widget\u001b[38;5;241m.\u001b[39mdescription \u001b[38;5;241m=\u001b[39m name\n",
      "\u001b[1;31mValueError\u001b[0m: <function log_eq at 0x000001F180AC8B80> cannot be transformed to a widget"
     ]
    }
   ],
   "source": [
    "import numpy as np\n",
    "from matplotlib import rc\n",
    "import matplotlib.pyplot as plt\n",
    "\n",
    "\n",
    "# Use LaTeX throughout the figure for consistency\n",
    "# Figure dpi\n",
    "dpi = 72\n",
    "\n",
    "def plot_cobweb(f, r, x0, nmax=50):\n",
    "    \"\"\"Make a cobweb plot.\n",
    "\n",
    "    Plot y = f(x; r) and y = x for 0 <= x <= 1, and illustrate the behaviour of\n",
    "    iterating x = f(x) starting at x = x0. r is a parameter to the function.\n",
    "\n",
    "    \"\"\"\n",
    "    dpi = 100\n",
    "    x = np.linspace(0, 1, 500)\n",
    "    fig = plt.figure(figsize=(600/dpi, 450/dpi), dpi=dpi)\n",
    "    ax = fig.add_subplot(111)\n",
    "\n",
    "    # Plot y = f(x) and y = x\n",
    "    ax.plot(x, f(x, r), c='#444444', lw=2)\n",
    "    ax.plot(x, x, c='#444444', lw=2)\n",
    "\n",
    "    # Iterate x = f(x) for nmax steps, starting at (x0, 0).\n",
    "    px, py = np.empty((2,nmax+1,2))\n",
    "    px[0], py[0] = x0, 0\n",
    "    for n in range(1, nmax, 2):\n",
    "        px[n] = px[n-1]\n",
    "        py[n] = f(px[n-1], r)\n",
    "        px[n+1] = py[n]\n",
    "        py[n+1] = py[n]\n",
    "\n",
    "    # Plot the path traced out by the iteration.\n",
    "    ax.plot(px, py, c='b', alpha=0.7)\n",
    "\n",
    "    # Annotate and tidy the plot.\n",
    "    ax.minorticks_on()\n",
    "    ax.grid(which='minor', alpha=0.5)\n",
    "    ax.grid(which='major', alpha=0.5)\n",
    "    ax.set_aspect('equal')\n",
    "    ax.set_xlabel('$x$')\n",
    "    ax.set_ylabel('$f(x)$')\n",
    "    ax.set_title('$x_0 = {:.1}, r = {:.3}$'.format(x0, r))\n",
    "\n",
    "    def f(x, r):\n",
    "        return r*x*(1-x)\n",
    "r = lm\n",
    "@interact(x0 = (0, 1, 0.01), f = log_eq, r = lm)\n",
    "def plot(f, r, x0):\n",
    "    plot_cobweb(f, r, x0)"
   ]
  }
 ],
 "metadata": {
  "kernelspec": {
   "display_name": "Python 3 (ipykernel)",
   "language": "python",
   "name": "python3"
  },
  "language_info": {
   "codemirror_mode": {
    "name": "ipython",
    "version": 3
   },
   "file_extension": ".py",
   "mimetype": "text/x-python",
   "name": "python",
   "nbconvert_exporter": "python",
   "pygments_lexer": "ipython3",
   "version": "3.10.11"
  }
 },
 "nbformat": 4,
 "nbformat_minor": 5
}
