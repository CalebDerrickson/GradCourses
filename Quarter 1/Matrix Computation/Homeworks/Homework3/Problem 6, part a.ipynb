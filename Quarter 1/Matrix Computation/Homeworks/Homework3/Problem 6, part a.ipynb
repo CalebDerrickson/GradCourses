{
 "cells": [
  {
   "cell_type": "code",
   "execution_count": 1,
   "id": "97ab0498",
   "metadata": {},
   "outputs": [],
   "source": [
    "import numpy as np\n",
    "import time "
   ]
  },
  {
   "cell_type": "code",
   "execution_count": 150,
   "id": "347bed33",
   "metadata": {},
   "outputs": [
    {
     "name": "stdout",
     "output_type": "stream",
     "text": [
      "3\n"
     ]
    },
    {
     "data": {
      "text/plain": [
       "(array([[-0.85714286,  0.39428571,  0.33142857],\n",
       "        [-0.42857143, -0.90285714, -0.03428571],\n",
       "        [ 0.28571429, -0.17142857,  0.94285714]]),\n",
       " array([[ -14.,  -21.,   14.],\n",
       "        [   0., -175.,   70.],\n",
       "        [   0.,    0.,  -35.]]))"
      ]
     },
     "execution_count": 150,
     "metadata": {},
     "output_type": "execute_result"
    }
   ],
   "source": [
    "A = np.array([[12, -51, 4],\n",
    "              [6, 167, -68],\n",
    "              [-4, 24, -41]])\n",
    "\n",
    "print(np.linalg.matrix_rank(A))\n",
    "np.linalg.qr(A, mode='complete')"
   ]
  },
  {
   "cell_type": "code",
   "execution_count": 161,
   "id": "06585402",
   "metadata": {},
   "outputs": [
    {
     "data": {
      "text/plain": [
       "(array([[ 6.  , -2.76, -2.32],\n",
       "        [ 3.  ,  6.32,  0.24],\n",
       "        [-2.  ,  1.2 , -6.6 ]]),\n",
       " array([[ 14.,  21., -14.],\n",
       "        [  0., 175., -70.],\n",
       "        [  0.,   0.,  35.]]))"
      ]
     },
     "execution_count": 161,
     "metadata": {},
     "output_type": "execute_result"
    }
   ],
   "source": [
    "7*Q, R"
   ]
  },
  {
   "cell_type": "code",
   "execution_count": 51,
   "id": "a16ccf4a",
   "metadata": {},
   "outputs": [
    {
     "name": "stdout",
     "output_type": "stream",
     "text": [
      "9.601136296387953 0.9045340337332909 [ 0.90453403  0.30151134 -0.30151134]\n"
     ]
    }
   ],
   "source": [
    "#a_1 is the first column of A\n",
    "r_11 = np.linalg.norm(A[:, 0], ord = 2)\n",
    "q_1 = (1/r_11) * A[:, 0]\n",
    "\n",
    "r_12 = np.dot(q_1, A[:, 1])\n",
    "r_22 = np.linalg.norm(A[:, 1] - r_12 * q_1, ord = 2)\n",
    "q_2 = (1/r_22)*(A[:, 1] - r_12 * q_1)\n",
    "\n",
    "print(r_12, r_22, q_2)"
   ]
  },
  {
   "cell_type": "code",
   "execution_count": 151,
   "id": "c58bf5ce",
   "metadata": {},
   "outputs": [
    {
     "name": "stdout",
     "output_type": "stream",
     "text": [
      "R[(0, 2)]: -14.000000000000002\n",
      "R[(1, 2)]: -70.0\n",
      "Coords: (2, 2)\n",
      "prev: [ 15.6 -69.2  -8. ]\n"
     ]
    }
   ],
   "source": [
    "m, n = A.shape\n",
    "Q = np.zeros((m, m))\n",
    "R = np.zeros((m, n))\n",
    "\n",
    "\n",
    "for i in range(m): #Row Iter\n",
    "    prev = 0 # used to catch r_{jk}q_j in sum\n",
    "    \n",
    "    if i == 0:\n",
    "        #first iter has no previous -> does not depend on previous\n",
    "\n",
    "        R[i, i] = np.linalg.norm(A[:, i], ord = 2)\n",
    "        assert R[i, i] != 0, \"Diagonal is zero, function cannot continue\"\n",
    "        Q[:, i] = (1/R[i, i]) * A[:, i]\n",
    "        continue\n",
    "\n",
    "    if i == 1:\n",
    "        #Does something different as well...\n",
    "        R[0, i] = np.dot(Q[:, 0], A[:, i])\n",
    "        R[i, i] = np.linalg.norm(A[:, i] - R[0, i] * Q[:, 0], ord = 2)\n",
    "        assert R[i, i] != 0, \"Diagonal is zero, function cannot continue\"\n",
    "        Q[:, i] = (1/R[i, i]) * (A[:, i] - R[0, i] * Q[:, 0])\n",
    "        continue\n",
    "    \n",
    "    \n",
    "    for j in range(0, i+1): # maintain upper triangularity\n",
    "        \n",
    "        if i != j:\n",
    "            R[j, i] = np.dot(Q[:, j], A[:, i])\n",
    "            print(f'R[{j, i}]: {R[j, i]}')\n",
    "            prev += R[j, i] * Q[:, j]\n",
    "            \n",
    "            \n",
    "        else: #Diagonal term, take prev\n",
    "            print(f'Coords: {(i, j)}')\n",
    "            print(\"prev: {}\".format(prev))\n",
    "            R[i, i] = np.linalg.norm(A[:, i] - prev, ord = 2)\n",
    "            assert R[i, i] != 0, \"Diagonal is zero, function cannot continue\"\n",
    "            Q[:, j] = (1/R[i, i]) * (A[:, i] - prev)"
   ]
  },
  {
   "cell_type": "code",
   "execution_count": 163,
   "id": "a3f5de30",
   "metadata": {},
   "outputs": [
    {
     "data": {
      "text/plain": [
       "numpy.ndarray"
      ]
     },
     "execution_count": 163,
     "metadata": {},
     "output_type": "execute_result"
    }
   ],
   "source": [
    "type(A)"
   ]
  },
  {
   "cell_type": "code",
   "execution_count": 238,
   "id": "4c57d355",
   "metadata": {},
   "outputs": [],
   "source": [
    "def my_qr(A: np.ndarray):\n",
    "    \"\"\"\n",
    "    Vectorizes an unvectorized Gram Schmidt QR decomposition.\n",
    "    \"\"\"\n",
    "    \n",
    "    def unvect_qr(A: np.ndarray):\n",
    "        \"\"\"\n",
    "        Returns the QR factorization of a nonsingular array\n",
    "        via (classical) Gram-Schmidt.\n",
    "\n",
    "        Parameters\n",
    "        ----------\n",
    "        A: np.ndarray\n",
    "            The matrix with which we find the QR factorization.\n",
    "            Must be nonsingular, sized n x n\n",
    "\n",
    "        Returns\n",
    "        -------\n",
    "        Q: np.ndarray\n",
    "            A set of orthonormal column vectors of size n x n\n",
    "\n",
    "        R: np.ndarray\n",
    "            An upper triangular matrix\n",
    "        \"\"\"\n",
    "        print(A)\n",
    "        m, n = A.shape\n",
    "        Q = np.zeros((m, m))\n",
    "        R = np.zeros((m, n))\n",
    "\n",
    "\n",
    "        for i in range(0, m): #Row Iter\n",
    "            prev = 0 # used to catch r_{jk}q_j in sum\n",
    "            for j in range(0, i+1): # maintain upper triangularity\n",
    "                if i != j:\n",
    "                    R[j, i] = np.dot(Q[:, j], A[:, i])\n",
    "                    prev += R[j, i] * Q[:, j]\n",
    "                else: #Diagonal term, take prev\n",
    "                    R[i, i] = np.linalg.norm(A[:, i] - prev, ord = 2)\n",
    "                    assert R[i, i] != 0, \"Diagonal is zero, function cannot continue\"\n",
    "                    Q[:, j] = (1/R[i, i]) * (A[:, i] - prev)\n",
    "    \n",
    "        return (Q, R)\n",
    "        \n",
    "    res = np.vectorize(unvect_qr, otypes=[int])\n",
    "    return res(A)"
   ]
  },
  {
   "cell_type": "code",
   "execution_count": 239,
   "id": "f4b14120",
   "metadata": {},
   "outputs": [
    {
     "name": "stdout",
     "output_type": "stream",
     "text": [
      "12\n"
     ]
    },
    {
     "ename": "AttributeError",
     "evalue": "'int' object has no attribute 'shape'",
     "output_type": "error",
     "traceback": [
      "\u001b[1;31m---------------------------------------------------------------------------\u001b[0m",
      "\u001b[1;31mAttributeError\u001b[0m                            Traceback (most recent call last)",
      "Cell \u001b[1;32mIn[239], line 4\u001b[0m\n\u001b[0;32m      1\u001b[0m A \u001b[38;5;241m=\u001b[39m np\u001b[38;5;241m.\u001b[39marray([[\u001b[38;5;241m12\u001b[39m, \u001b[38;5;241m-\u001b[39m\u001b[38;5;241m51\u001b[39m, \u001b[38;5;241m4\u001b[39m],\n\u001b[0;32m      2\u001b[0m               [\u001b[38;5;241m6\u001b[39m, \u001b[38;5;241m167\u001b[39m, \u001b[38;5;241m-\u001b[39m\u001b[38;5;241m68\u001b[39m],\n\u001b[0;32m      3\u001b[0m               [\u001b[38;5;241m-\u001b[39m\u001b[38;5;241m4\u001b[39m, \u001b[38;5;241m24\u001b[39m, \u001b[38;5;241m-\u001b[39m\u001b[38;5;241m41\u001b[39m]])\n\u001b[1;32m----> 4\u001b[0m \u001b[43mmy_qr\u001b[49m\u001b[43m(\u001b[49m\u001b[43mA\u001b[49m\u001b[43m)\u001b[49m\n",
      "Cell \u001b[1;32mIn[238], line 45\u001b[0m, in \u001b[0;36mmy_qr\u001b[1;34m(A)\u001b[0m\n\u001b[0;32m     42\u001b[0m     \u001b[38;5;28;01mreturn\u001b[39;00m (Q, R)\n\u001b[0;32m     44\u001b[0m res \u001b[38;5;241m=\u001b[39m np\u001b[38;5;241m.\u001b[39mvectorize(unvect_qr, otypes\u001b[38;5;241m=\u001b[39m[\u001b[38;5;28mint\u001b[39m])\n\u001b[1;32m---> 45\u001b[0m \u001b[38;5;28;01mreturn\u001b[39;00m \u001b[43mres\u001b[49m\u001b[43m(\u001b[49m\u001b[43mA\u001b[49m\u001b[43m)\u001b[49m\n",
      "File \u001b[1;32m~\\AppData\\Local\\Packages\\PythonSoftwareFoundation.Python.3.10_qbz5n2kfra8p0\\LocalCache\\local-packages\\Python310\\site-packages\\numpy\\lib\\function_base.py:2329\u001b[0m, in \u001b[0;36mvectorize.__call__\u001b[1;34m(self, *args, **kwargs)\u001b[0m\n\u001b[0;32m   2326\u001b[0m     vargs \u001b[38;5;241m=\u001b[39m [args[_i] \u001b[38;5;28;01mfor\u001b[39;00m _i \u001b[38;5;129;01min\u001b[39;00m inds]\n\u001b[0;32m   2327\u001b[0m     vargs\u001b[38;5;241m.\u001b[39mextend([kwargs[_n] \u001b[38;5;28;01mfor\u001b[39;00m _n \u001b[38;5;129;01min\u001b[39;00m names])\n\u001b[1;32m-> 2329\u001b[0m \u001b[38;5;28;01mreturn\u001b[39;00m \u001b[38;5;28;43mself\u001b[39;49m\u001b[38;5;241;43m.\u001b[39;49m\u001b[43m_vectorize_call\u001b[49m\u001b[43m(\u001b[49m\u001b[43mfunc\u001b[49m\u001b[38;5;241;43m=\u001b[39;49m\u001b[43mfunc\u001b[49m\u001b[43m,\u001b[49m\u001b[43m \u001b[49m\u001b[43margs\u001b[49m\u001b[38;5;241;43m=\u001b[39;49m\u001b[43mvargs\u001b[49m\u001b[43m)\u001b[49m\n",
      "File \u001b[1;32m~\\AppData\\Local\\Packages\\PythonSoftwareFoundation.Python.3.10_qbz5n2kfra8p0\\LocalCache\\local-packages\\Python310\\site-packages\\numpy\\lib\\function_base.py:2412\u001b[0m, in \u001b[0;36mvectorize._vectorize_call\u001b[1;34m(self, func, args)\u001b[0m\n\u001b[0;32m   2409\u001b[0m \u001b[38;5;66;03m# Convert args to object arrays first\u001b[39;00m\n\u001b[0;32m   2410\u001b[0m inputs \u001b[38;5;241m=\u001b[39m [asanyarray(a, dtype\u001b[38;5;241m=\u001b[39m\u001b[38;5;28mobject\u001b[39m) \u001b[38;5;28;01mfor\u001b[39;00m a \u001b[38;5;129;01min\u001b[39;00m args]\n\u001b[1;32m-> 2412\u001b[0m outputs \u001b[38;5;241m=\u001b[39m \u001b[43mufunc\u001b[49m\u001b[43m(\u001b[49m\u001b[38;5;241;43m*\u001b[39;49m\u001b[43minputs\u001b[49m\u001b[43m)\u001b[49m\n\u001b[0;32m   2414\u001b[0m \u001b[38;5;28;01mif\u001b[39;00m ufunc\u001b[38;5;241m.\u001b[39mnout \u001b[38;5;241m==\u001b[39m \u001b[38;5;241m1\u001b[39m:\n\u001b[0;32m   2415\u001b[0m     res \u001b[38;5;241m=\u001b[39m asanyarray(outputs, dtype\u001b[38;5;241m=\u001b[39motypes[\u001b[38;5;241m0\u001b[39m])\n",
      "Cell \u001b[1;32mIn[238], line 26\u001b[0m, in \u001b[0;36mmy_qr.<locals>.unvect_qr\u001b[1;34m(A)\u001b[0m\n\u001b[0;32m      7\u001b[0m \u001b[38;5;250m\u001b[39m\u001b[38;5;124;03m\"\"\"\u001b[39;00m\n\u001b[0;32m      8\u001b[0m \u001b[38;5;124;03mReturns the QR factorization of a nonsingular array\u001b[39;00m\n\u001b[0;32m      9\u001b[0m \u001b[38;5;124;03mvia (classical) Gram-Schmidt.\u001b[39;00m\n\u001b[1;32m   (...)\u001b[0m\n\u001b[0;32m     23\u001b[0m \u001b[38;5;124;03m    An upper triangular matrix\u001b[39;00m\n\u001b[0;32m     24\u001b[0m \u001b[38;5;124;03m\"\"\"\u001b[39;00m\n\u001b[0;32m     25\u001b[0m \u001b[38;5;28mprint\u001b[39m(A)\n\u001b[1;32m---> 26\u001b[0m m, n \u001b[38;5;241m=\u001b[39m \u001b[43mA\u001b[49m\u001b[38;5;241;43m.\u001b[39;49m\u001b[43mshape\u001b[49m\n\u001b[0;32m     27\u001b[0m Q \u001b[38;5;241m=\u001b[39m np\u001b[38;5;241m.\u001b[39mzeros((m, m))\n\u001b[0;32m     28\u001b[0m R \u001b[38;5;241m=\u001b[39m np\u001b[38;5;241m.\u001b[39mzeros((m, n))\n",
      "\u001b[1;31mAttributeError\u001b[0m: 'int' object has no attribute 'shape'"
     ]
    }
   ],
   "source": [
    "A = np.array([[12, -51, 4],\n",
    "              [6, 167, -68],\n",
    "              [-4, 24, -41]])\n",
    "my_qr(A)"
   ]
  },
  {
   "cell_type": "code",
   "execution_count": 245,
   "id": "1d2edefd",
   "metadata": {},
   "outputs": [],
   "source": [
    "def my_qr(A: np.ndarray):\n",
    "        \"\"\"\n",
    "        Returns the QR factorization of a nonsingular array\n",
    "        via (classical) Gram-Schmidt.\n",
    "\n",
    "        Parameters\n",
    "        ----------\n",
    "        A: np.ndarray\n",
    "            The matrix with which we find the QR factorization.\n",
    "            Must be nonsingular, sized n x n\n",
    "\n",
    "        Returns\n",
    "        -------\n",
    "        Q: np.ndarray\n",
    "            A set of orthonormal column vectors of size n x n\n",
    "\n",
    "        R: np.ndarray\n",
    "            An upper triangular matrix\n",
    "        \"\"\"\n",
    "        m, n = A.shape\n",
    "        Q = np.zeros((m, m))\n",
    "        R = np.zeros((m, n))\n",
    "\n",
    "        for i in range(0, m): #Row Iter\n",
    "            prev = 0 # used to catch r_{jk}q_j in sum\n",
    "            for j in range(0, i+1): # maintain upper triangularity\n",
    "                if i != j:\n",
    "                    R[j, i] = np.dot(Q[:, j], A[:, i])\n",
    "                    prev += R[j, i] * Q[:, j]\n",
    "                else: #Diagonal term, take prev\n",
    "                    R[i, i] = np.linalg.norm(A[:, i] - prev, ord = 2)\n",
    "                    assert R[i, i] != 0, \"Diagonal is zero, function cannot continue\"\n",
    "                    Q[:, j] = (1/R[i, i]) * (A[:, i] - prev)\n",
    "    \n",
    "        return (Q, R)\n",
    "    \n",
    "A = np.array([[1,2,3],\n",
    "              [4,5,6],\n",
    "              [7,12,9]])\n",
    "res = my_qr(A)"
   ]
  },
  {
   "cell_type": "code",
   "execution_count": 246,
   "id": "9730cf19",
   "metadata": {},
   "outputs": [
    {
     "data": {
      "text/plain": [
       "array([[ 1.00000000e+00,  2.63083884e-16,  1.84985352e-15],\n",
       "       [ 2.63083884e-16,  1.00000000e+00, -1.73384971e-15],\n",
       "       [ 1.84985352e-15, -1.73384971e-15,  1.00000000e+00]])"
      ]
     },
     "execution_count": 246,
     "metadata": {},
     "output_type": "execute_result"
    }
   ],
   "source": [
    "np.matmul(res[0].T, res[0])"
   ]
  }
 ],
 "metadata": {
  "kernelspec": {
   "display_name": "Python 3 (ipykernel)",
   "language": "python",
   "name": "python3"
  },
  "language_info": {
   "codemirror_mode": {
    "name": "ipython",
    "version": 3
   },
   "file_extension": ".py",
   "mimetype": "text/x-python",
   "name": "python",
   "nbconvert_exporter": "python",
   "pygments_lexer": "ipython3",
   "version": "3.10.11"
  }
 },
 "nbformat": 4,
 "nbformat_minor": 5
}
