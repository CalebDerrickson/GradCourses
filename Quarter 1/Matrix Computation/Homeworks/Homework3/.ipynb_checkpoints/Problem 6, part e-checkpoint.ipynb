{
 "cells": [
  {
   "cell_type": "code",
   "execution_count": 57,
   "id": "4437008a",
   "metadata": {},
   "outputs": [],
   "source": [
    "import numpy as np\n",
    "import math\n",
    "import sys\n",
    "import matplotlib.pyplot as plt"
   ]
  },
  {
   "cell_type": "code",
   "execution_count": 129,
   "id": "204ebaac",
   "metadata": {},
   "outputs": [],
   "source": [
    "def calculate_Hausholder(v: np.array):\n",
    "    \"\"\"\n",
    "    Helper function to calculate the Hausholder matrix from v.\n",
    "    \n",
    "    Parameters\n",
    "    ----------\n",
    "    v : np.array\n",
    "        The given vector. Needs to be normalized prior to passing.\n",
    "        \n",
    "    Returns\n",
    "    -------\n",
    "    H : np.ndarray\n",
    "        The Hausholder matrix of v.\n",
    "    \"\"\"\n",
    "    H = np.identity(max(v.shape)) - 2*np.outer(v, v)\n",
    "    return H\n",
    "\n",
    "\n",
    "def hausholder_qr(A: np.ndarray):\n",
    "    \"\"\"\n",
    "        Returns the QR factorization obtained through \n",
    "        the Hausholder Reflection method. \n",
    "        \n",
    "        Elements belonging to and above diagonal are R, \n",
    "        \n",
    "        Below the diagonal are the column vectors v_1, ..., v_n-1\n",
    "        which are used to get Q_1, ..., Q_n-1. \n",
    "        \n",
    "    \"\"\"\n",
    "    m, n = A.shape\n",
    "    v_mat = []\n",
    "    for i in range(n - 1):\n",
    "        \n",
    "        # Obtaining v_i\n",
    "        u = A[i:, i].copy()\n",
    "        u[0] = u[0] + np.copysign(np.linalg.norm(u, ord = 2), u[0]) \n",
    "        v =  u/ np.linalg.norm(u, ord = 2)\n",
    "        \n",
    "        v_mat.append(v.copy())\n",
    "\n",
    "        #Calculating Q only to get next iteration\n",
    "        Q = np.identity(m)\n",
    "        Q[i:, i:] = calculate_Hausholder(v)\n",
    "        \n",
    "        A = np.matmul(Q, A)\n",
    "    \n",
    "    #Explicitly storing entire v_i's\n",
    "    A = np.vstack((A, np.zeros(A.shape[1])))\n",
    "    #Storing v_i's\n",
    "    for i in range(n-1):\n",
    "        A[i+1:, i] = np.array(v_mat[i])\n",
    "        \n",
    "    return A\n",
    "\n",
    "def recover_Qis(A: np.ndarray):\n",
    "    \"\"\"\n",
    "    Calculates all Q_is from a Hausholder applied matrix A.\n",
    "    \n",
    "    Parameters\n",
    "    ----------\n",
    "    \n",
    "    A : np.ndarray\n",
    "        The matrix on which Hausholder QR has been performed\n",
    "        \n",
    "    Returns\n",
    "    -------\n",
    "    Qis : list(np.ndarray)\n",
    "        A list containing all Q's \n",
    "    \"\"\"\n",
    "    Qis = []\n",
    "    \n",
    "    m, n = A.shape\n",
    "    \n",
    "    for i in range(n):\n",
    "        v = A[i+1:, i].copy()\n",
    "        Q = np.identity(m-1)\n",
    "        Q[i:, i:] = calculate_Hausholder(v)\n",
    "        Qis.append(Q)\n",
    "    \n",
    "    return Qis\n",
    "\n",
    "def calculate_Q(A: np.ndarray):\n",
    "    \"\"\"\n",
    "    Returns the orthonormal matrix Q from the matrix A after Hausholder QR \n",
    "    is applied.\n",
    "    \n",
    "    Parameters\n",
    "    ----------\n",
    "    \n",
    "    A : np.ndarray\n",
    "        The matrix on which Hausholder QR has been performed\n",
    "\n",
    "    Returns\n",
    "    -------    \n",
    "    \n",
    "    Q: np.ndarray\n",
    "        The orthonormal matrix involved in QR\n",
    "    \"\"\"\n",
    "    \n",
    "    Qis = recover_Qis(A.copy())\n",
    "    Q = np.identity(Qis[0].shape[0])\n",
    "    for Qi in Qis:\n",
    "        Q = np.matmul(Q, Qi.T)\n",
    "        \n",
    "    return Q\n",
    "\n",
    "def my_qr(A: np.ndarray):\n",
    "        \"\"\"\n",
    "        Returns the QR factorization of a nonsingular array\n",
    "        via (classical) Gram-Schmidt.\n",
    "\n",
    "        Parameters\n",
    "        ----------\n",
    "        A: np.ndarray\n",
    "            The matrix with which we find the QR factorization.\n",
    "            Must be nonsingular, sized n x n\n",
    "\n",
    "        Returns\n",
    "        -------\n",
    "        Q: np.ndarray\n",
    "            A set of orthonormal column vectors of size n x n\n",
    "\n",
    "        R: np.ndarray\n",
    "            An upper triangular matrix\n",
    "        \"\"\"\n",
    "        m, n = A.shape\n",
    "        Q = np.zeros((m, m))\n",
    "        R = np.zeros((m, n))\n",
    "\n",
    "        for i in range(0, n): #Row Iter\n",
    "            prev = 0 # used to catch r_{jk}q_j in sum\n",
    "            for j in range(0, i+1): # maintain upper triangularity\n",
    "                if i != j:\n",
    "                    R[j, i] = np.dot(Q[:, j], A[:, i])\n",
    "                    prev += R[j, i] * Q[:, j]\n",
    "                else: #Diagonal term, take prev\n",
    "                    R[i, i] = np.linalg.norm(A[:, i] - prev, ord = 2)\n",
    "                    assert R[i, i] != 0, \"Diagonal is zero, function cannot continue\"\n",
    "                    Q[:, j] = (1/R[i, i]) * (A[:, i] - prev)\n",
    "    \n",
    "        return (Q, R)"
   ]
  },
  {
   "cell_type": "code",
   "execution_count": 115,
   "id": "6a2b6ea2",
   "metadata": {},
   "outputs": [],
   "source": [
    "def get_Van_b():\n",
    "    \"\"\"\n",
    "    Gets the Vandermonde matrix and b we are considering.\n",
    "    \n",
    "    \"\"\"\n",
    "    n = 15\n",
    "    m = 100\n",
    "\n",
    "    alphas = np.array([i/(m - 1) for i in range(m)])\n",
    "    \n",
    "    Van = np.ndarray((m, n))\n",
    "    for i in range(m):\n",
    "        for j in range(n):\n",
    "            Van[i, j] = alphas[i]**j\n",
    "    b = np.zeros(m)\n",
    "    for i in range(m):\n",
    "        b[i] = math.exp(math.sin(4 * alphas[i]))\n",
    "        \n",
    "    return Van, b"
   ]
  },
  {
   "cell_type": "code",
   "execution_count": 109,
   "id": "50959e61",
   "metadata": {},
   "outputs": [],
   "source": [
    "Van, b = get_Van_b()"
   ]
  },
  {
   "cell_type": "markdown",
   "id": "4c768f89",
   "metadata": {},
   "source": [
    "# Full rank Least Squares, part i\n",
    "This just factors A into A = Q[R 0]. Then the minimum length is Q_2^Tb, where Q_2 is the last m-n columns of Q. x is found by x = R^\\inv c, since R is invertible."
   ]
  },
  {
   "cell_type": "code",
   "execution_count": 110,
   "id": "f34e92b7",
   "metadata": {},
   "outputs": [],
   "source": [
    "def back_substitution(A: np.ndarray, b: np.ndarray) -> np.ndarray:\n",
    "    n = b.size\n",
    "    x = np.zeros_like(b)\n",
    "\n",
    "    if A[n-1, n-1] == 0:\n",
    "        raise ValueError\n",
    "\n",
    "\n",
    "    x[n-1] = b[n-1]/A[n-1, n-1]\n",
    "    C = np.zeros((n,n))\n",
    "    for i in range(n-2, -1, -1):\n",
    "        bb = 0\n",
    "        for j in range (i+1, n):\n",
    "            bb += A[i, j]*x[j]\n",
    "\n",
    "        C[i, i] = b[i] - bb\n",
    "        x[i] = C[i, i]/A[i, i]\n",
    "\n",
    "    return x"
   ]
  },
  {
   "cell_type": "code",
   "execution_count": 130,
   "id": "b5a6eca5",
   "metadata": {},
   "outputs": [
    {
     "data": {
      "text/plain": [
       "-0.00044924937913187865"
      ]
     },
     "execution_count": 130,
     "metadata": {},
     "output_type": "execute_result"
    }
   ],
   "source": [
    "\n",
    "n = 15\n",
    "m = 100\n",
    "\n",
    "HH = hausholder_qr(Van)\n",
    "#HH = np.linalg.qr(Van)\n",
    "#R = HH[1]\n",
    "#R = np.triu(HH) \n",
    "Q, R = my_qr(Van)\n",
    "#Take nonzero rows of R. Since Van is full rank, will be n rows\n",
    "R = np.array([x for x in R if x.any() != 0])\n",
    "#Check if I did it right\n",
    "assert R.shape == (n, n), \"Oops\"\n",
    "\n",
    "Q = calculate_Q(HH)\n",
    "\n",
    "#Q = HH[0]\n",
    "c = np.matmul(Q[:, :n].T, b)\n",
    "d = np.matmul(Q[:, n:].T, b) #Don't think I need to actually compute this\n",
    "\n",
    "#Solution to part i \n",
    "x_soli = back_substitution(R, c)\n",
    "x_soli[-1]"
   ]
  },
  {
   "cell_type": "code",
   "execution_count": 131,
   "id": "a7b4aed1",
   "metadata": {},
   "outputs": [
    {
     "data": {
      "text/plain": [
       "array([-8.47074426e-01,  8.97544726e+00, -4.06272911e+01, -1.92830293e+02,\n",
       "        1.37952076e+03, -3.47147462e+03,  4.62884867e+03, -3.25851951e+03,\n",
       "        7.82905074e+02,  3.68385962e+02, -2.10597004e+02,  5.45438268e+00,\n",
       "       -5.89260640e-02,  5.87075314e-02, -4.49249379e-04])"
      ]
     },
     "execution_count": 131,
     "metadata": {},
     "output_type": "execute_result"
    }
   ],
   "source": [
    "x_soli"
   ]
  },
  {
   "cell_type": "code",
   "execution_count": 132,
   "id": "39186cbd",
   "metadata": {},
   "outputs": [],
   "source": [
    "HH = hausholder_qr(Van)\n",
    "R_HH = np.triu(HH)\n",
    "R_HH = np.array([x for x in R_HH if x.any() != 0])\n",
    "Q_HH = calculate_Q(HH)[:, :n]\n",
    "Q_GS, R_GS = my_qr(Van) \n",
    "Q_C, R_C = np.linalg.qr(Van)\n"
   ]
  },
  {
   "cell_type": "code",
   "execution_count": 137,
   "id": "65319811",
   "metadata": {},
   "outputs": [
    {
     "data": {
      "image/png": "[encoded data removed]",
      "text/plain": [
       "<Figure size 640x480 with 4 Axes>"
      ]
     },
     "metadata": {},
     "output_type": "display_data"
    }
   ],
   "source": [
    "plt_arr1 = abs(Q_C - Q_HH) < 0.0001\n",
    "plt_arr2 = abs(R_C - R_HH) < 0.0001\n",
    "plt_arr3 = abs(Q_C - Q_GS[:, :n]) < 0.0001\n",
    "plt_arr4 = abs(R_C - R_GS[:n, :n]) < 0.0001\n",
    "plt.subplot(1, 4, 1)\n",
    "plt.imshow(plt_arr1, cmap='Greys',  interpolation='nearest')\n",
    "plt.title(\"True = black, False = white\")\n",
    "plt.subplot(1, 4, 2)\n",
    "plt.imshow(plt_arr2, cmap='Greys',  interpolation='nearest')\n",
    "plt.title(\"True = black, False = white\")\n",
    "plt.subplot(1, 4, 3)\n",
    "plt.imshow(plt_arr3, cmap='Greys',  interpolation='nearest')\n",
    "plt.title(\"True = black, False = white\")\n",
    "plt.subplot(1, 4, 4)\n",
    "plt.imshow(plt_arr4, cmap='Greys',  interpolation='nearest')\n",
    "plt.title(\"True = black, False = white\")\n",
    "plt.tight_layout(pad = 5)"
   ]
  },
  {
   "cell_type": "code",
   "execution_count": 119,
   "id": "b99e6730",
   "metadata": {},
   "outputs": [
    {
     "data": {
      "text/plain": [
       "[<matplotlib.lines.Line2D at 0x1b8eab61240>]"
      ]
     },
     "execution_count": 119,
     "metadata": {},
     "output_type": "execute_result"
    },
    {
     "data": {
      "image/png": "[encoded data removed]",
      "text/plain": [
       "<Figure size 640x480 with 1 Axes>"
      ]
     },
     "metadata": {},
     "output_type": "display_data"
    }
   ],
   "source": [
    "plt.plot(R_C[:, -1] - R_HH[:, -1])"
   ]
  },
  {
   "cell_type": "code",
   "execution_count": 122,
   "id": "8508d28c",
   "metadata": {},
   "outputs": [
    {
     "data": {
      "text/plain": [
       "[<matplotlib.lines.Line2D at 0x1b8eac2c370>]"
      ]
     },
     "execution_count": 122,
     "metadata": {},
     "output_type": "execute_result"
    },
    {
     "data": {
      "image/png": "[encoded data removed]",
      "text/plain": [
       "<Figure size 640x480 with 1 Axes>"
      ]
     },
     "metadata": {},
     "output_type": "display_data"
    }
   ],
   "source": [
    "plt.plot(Q_C[:, -1] - Q_HH[:, -1])"
   ]
  }
 ],
 "metadata": {
  "kernelspec": {
   "display_name": "Python 3 (ipykernel)",
   "language": "python",
   "name": "python3"
  },
  "language_info": {
   "codemirror_mode": {
    "name": "ipython",
    "version": 3
   },
   "file_extension": ".py",
   "mimetype": "text/x-python",
   "name": "python",
   "nbconvert_exporter": "python",
   "pygments_lexer": "ipython3",
   "version": "3.10.11"
  }
 },
 "nbformat": 4,
 "nbformat_minor": 5
}
